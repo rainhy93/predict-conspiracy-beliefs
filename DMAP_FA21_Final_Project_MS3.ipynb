{
  "nbformat": 4,
  "nbformat_minor": 0,
  "metadata": {
    "colab": {
      "name": "DMAP FA21 Final Project.ipynb",
      "provenance": [],
      "collapsed_sections": []
    },
    "kernelspec": {
      "name": "python3",
      "display_name": "Python 3"
    }
  },
  "cells": [
    {
      "cell_type": "markdown",
      "metadata": {
        "id": "YiRDbOrkIpLp"
      },
      "source": [
        "# Final Project Template\n",
        "**Notebook Preparation for Lesson**\n",
        "\n",
        "Once you open the notebook:\n",
        "\n",
        "1. Save in on your google drive (copy to drive) and name it DMAP FA21 Final Project\n",
        "2. Share the notebook and copy the share ID to the NOTEBOOK_ID (and re-save the notebook)\n",
        "3. This ID should remain the same for all your milestones\n",
        "4. You will submit a copy of your updated notebook (this file) on Moodle for each milestone\n"
      ]
    },
    {
      "cell_type": "code",
      "metadata": {
        "id": "MPrJ8HLyC-Cd"
      },
      "source": [
        "# Keep this code cell here\n",
        "# Project title will be used by the reviewer\n",
        "PROJECT_TITLE = \"Predicting Conspiracy Beliefs\"\n",
        "NOTEBOOK_ID   = \"19ZaG8MrPvBccE1PrLZ73gupKDtN4Lved\"\n",
        "VERSION = \"FA21\""
      ],
      "execution_count": 9,
      "outputs": []
    },
    {
      "cell_type": "markdown",
      "metadata": {
        "id": "ui5eQuo1DMEI"
      },
      "source": [
        "\n",
        "---\n",
        "# Project Introduction\n",
        "\n",
        "Double click on this cell to see its contents.  We expect you to replace this cell.\n",
        "\n",
        "<img align=\"left\" src=\"http://drive.google.com/uc?export=view&id=1nA9491MchEtFcklvtIGqOnipE63C2FGD\"/>\n",
        "\n",
        "• Describe the **context**, sitution, problem to be solved/explored\n",
        "\n",
        "• Whatever you need to get the reader _involved_\n",
        "\n",
        "• Images can be hosted using google drive (you may need to create a transparent border)\n",
        "\n",
        "• Even formulas when needed: \n",
        "$$e^x = \\sum_{k=0}^{\\infty} \\frac{x^k}{k!}$$\n",
        "\n",
        "• Note that markdown is very whitespace sensitive.\n",
        "• Click on this cell to read comments.\n",
        "\n",
        "<!-- this is a comment -->\n",
        "<!-- \n",
        "\n",
        "   VIDEO INSTRUCTIONS (and data hosting)\n",
        "\n",
        "1. upload to google drive, get the share URL\n",
        "https://drive.google.com/file/d/1yGvY5a0KAqnOKf5kLh5EbbbRY4_LonAX\n",
        "\n",
        "2. convert to export URL:\n",
        "http://drive.google.com/uc?export=download&id=1yGvY5a0KAqnOKf5kLh5EbbbRY4_LonAX\n",
        "\n",
        "3. OR use some other service to host your video:\n",
        "https://storage.googleapis.com/uicourse/videos/dmap/Exact%20Instructions%20Challenge%20-%20THIS%20is%20why%20my%20kids%20hate%20me.%20%20Josh%20Darnit.mp4\n",
        "\n",
        "replace the src=\"YOUR VIDEO URL\" in the <source> tag in the next cell below\n",
        "-->"
      ]
    },
    {
      "cell_type": "code",
      "metadata": {
        "id": "JQo5zhkeEuXL",
        "colab": {
          "base_uri": "https://localhost:8080/",
          "height": 388
        },
        "outputId": "ee844bfd-926b-41c5-ba74-6b4ef86ba0eb"
      },
      "source": [
        "%%html\n",
        "<!-- this should be the ONLY html cell in the notebook: use markdown -->\n",
        "<div style=\"font-size:36px; max-width:800px; font-family:Times, serif;\">\n",
        " Predicting Conspiracy Beliefs\n",
        "<video width=\"600\" controls>\n",
        "  <source src=\"https://vimeo.com/654321187\"\n",
        "  type=\"video/mp4\">\n",
        "</video>\n",
        "</div>\n",
        "Note: If your video is too large, you can host it on Vimeo, YouTube, etc and paste the URL here\n",
        "URL = \"https://vimeo.com/654321187\""
      ],
      "execution_count": 10,
      "outputs": [
        {
          "output_type": "display_data",
          "data": {
            "text/html": [
              "<!-- this should be the ONLY html cell in the notebook: use markdown -->\n",
              "<div style=\"font-size:36px; max-width:800px; font-family:Times, serif;\">\n",
              " Predicting Conspiracy Beliefs\n",
              "<video width=\"600\" controls>\n",
              "  <source src=\"https://vimeo.com/654321187\"\n",
              "  type=\"video/mp4\">\n",
              "</video>\n",
              "</div>\n",
              "Note: If your video is too large, you can host it on Vimeo, YouTube, etc and paste the URL here\n",
              "URL = \"https://vimeo.com/654321187\""
            ],
            "text/plain": [
              "<IPython.core.display.HTML object>"
            ]
          },
          "metadata": {}
        }
      ]
    },
    {
      "cell_type": "code",
      "metadata": {
        "id": "4ZK0-f54UAtE"
      },
      "source": [
        "# add your imports here for your entire project\n",
        "import pandas as pd\n",
        "import numpy as np\n",
        "import matplotlib.pyplot as plt\n",
        "from sklearn import linear_model\n",
        "from sklearn import tree\n",
        "from sklearn import model_selection"
      ],
      "execution_count": 11,
      "outputs": []
    },
    {
      "cell_type": "markdown",
      "metadata": {
        "id": "AIx7b0ADNgtp"
      },
      "source": [
        "#Project Introduction\n",
        "A detailed description about the problem/ research question(s) you are addressing, goals/expected outcome of the project, a brief introduction to your data, and the techniques you will be using."
      ]
    },
    {
      "cell_type": "markdown",
      "metadata": {
        "id": "CW1u1dlQRSd0"
      },
      "source": [
        "More than any period in history, we are dependent on the internet to live our everyday life and get our work done. We are surrounded by myriad information every day and it becomes increasingly hard to evaluate the quality and truthfulness of each piece of information as we digest them. Since how we see the world and others is heavily influenced by the information we received, it is likely for some people to form certain beliefs that are not supported by sufficient evidence. Conspiracist ideation – belief in conspiracy theories – is a typical example of such beliefs. People endorsing conspiracy theories tend to explain an event or situation by invoking a conspiracy by sinister and powerful groups, often political in motivation, when other explanations are more probable (Brotherton et al., 2013). A number of studies investigating conspiracy beliefs find that conspiracy beliefs do not result from rational evaluation of the evidence related to each specific conspiracist claim; rather there seems to be stable individual differences in the general tendency to engage with conspiracist explanations for events (e.g., Goertzel, 1994; Swami et al., 2010, 2011, 2013; Wood et al., 2012). Findings suggest that there are relationships between conspiracy beliefs and personality traits and cognitive styles, but they are limited in robustness and strength (see Swami et al., 2010, 2011, 2013; Swami and Furnham, 2012). If conspiracy beliefs and personality traits and/or cognitive styles are indeed related, it is plausible to predict one from the other. For this project, I would like to use machine learning approaches to try making prediction on conspiracy beliefs from personality traits. I will investigate the effects of personality traits and demographic information (e.g., age, gender, education, major), separately, on predicting conspiracy beliefs. The dataset I will use was collected by [Open Psychometrics](https://openpsychometrics.org/), through an interactive online version of the **Generic Conspiracist Belief Scale (GCBS)** (Brotherton et al., 2013) in 2016. It contains 2495 responses (rows) and 72 columns, comprised of 15 items from GCBS, time spent in answering the questions, 10 items from a brief measure of the Big Five Personality Domains (Gosling et al., 2003), 16 items for validity check, and a bunch of questions related to demographic information.  I intend to utilize both parametric (e.g., multiple linear regression) and nonparametric (e.g., decision trees) models, and compare their prediction performance. "
      ]
    },
    {
      "cell_type": "markdown",
      "metadata": {
        "id": "GJvmagnZDPjW"
      },
      "source": [
        "# Data Acquisition, Selection, Cleaning\n",
        "Introduce the data here as well as any technical overview that's important that wasn't given in the introduction\n"
      ]
    },
    {
      "cell_type": "markdown",
      "metadata": {
        "id": "UqC7NruA6ALz"
      },
      "source": [
        "The GCBS contains 15 items. Each item is a statement of a conspiracy belief. The scale was constructed using 3 items representing each of the 5 important facets of conspiracist ideation. The responses to these questions are on a 5-point Likert scale (which is an ordinal scale), with a higher rating of an item corresponding to a stronger belief in it. Since all the questions use the same Likert scale, it is common practice to sum the individual item scores and treat the sum (or mean) as on an interval scale (Norman 2010; Perla & Carifio 2007). Therefore, I will use the mean score of the 15 items (ranging from 1 to 5, treated as interval data) as the dependent variable to reflect the degree of beliefs in conspiracy theories overall.\n",
        "\n",
        "To investigate the effect of personality traits on predicting conspiracy beliefs, I will select the 10 response variables associated with the Ten Item Personality Inventory as my independent variables. They are on a 7-point Likert scale (ordinal). On the other hand, I will use the variables related to the respondent’s demographic information (e.g., years of education and major, gender, age, religion, race, etc.) as predictors to study their effects on predicting conspiracist ideation. Most of the variables are on a nominal scale and have been coded in numbers already. The only variable that needs a substantial amount of cleaning is “major”, whose data are strings and not uniformly formatted. After first investigation of the data (see in code), there are no missing values in any of the variables except for the variable ‘major’. Since nearly half of the ‘major’ values are not available, imputing them is not plausible or practical, and getting rid of the instances leads to a huge waste of potentially informative data, I decide to remove the variable from the selected set of predictors. \n",
        "\n",
        "For a complete view and explanation of the variables, please see the accompanied 'codebook' in the Google Drive shared folder ([codebook](https://drive.google.com/file/d/1JcjELv8S66EW-aeioVanLt-jq13hzh0R/view?usp=sharing)). \n",
        "\n",
        "To achieve interpretability of the models, I plan to fit a linear regression model, as the parametric model, and a decision tree model, as the nonparametric one, to my data. I will utilize 5-fold cross validation in model training.\n"
      ]
    },
    {
      "cell_type": "code",
      "metadata": {
        "colab": {
          "base_uri": "https://localhost:8080/",
          "height": 224
        },
        "id": "lfDwvFBAKiEn",
        "outputId": "e1585992-5767-4458-9477-4a30d2c8adad"
      },
      "source": [
        "# read data from google drive\n",
        "url = 'https://drive.google.com/file/d/14ppYjXV4N9FNbcmSSLLc1AXq6Tffi7hP/view?usp=sharing'\n",
        "doc_id = '14ppYjXV4N9FNbcmSSLLc1AXq6Tffi7hP'\n",
        "base_url = 'https://drive.google.com/uc?id=' + doc_id\n",
        "df = pd.read_csv(base_url)\n",
        "df.head()\n"
      ],
      "execution_count": 12,
      "outputs": [
        {
          "output_type": "execute_result",
          "data": {
            "text/html": [
              "<div>\n",
              "<style scoped>\n",
              "    .dataframe tbody tr th:only-of-type {\n",
              "        vertical-align: middle;\n",
              "    }\n",
              "\n",
              "    .dataframe tbody tr th {\n",
              "        vertical-align: top;\n",
              "    }\n",
              "\n",
              "    .dataframe thead th {\n",
              "        text-align: right;\n",
              "    }\n",
              "</style>\n",
              "<table border=\"1\" class=\"dataframe\">\n",
              "  <thead>\n",
              "    <tr style=\"text-align: right;\">\n",
              "      <th></th>\n",
              "      <th>Q1</th>\n",
              "      <th>Q2</th>\n",
              "      <th>Q3</th>\n",
              "      <th>Q4</th>\n",
              "      <th>Q5</th>\n",
              "      <th>Q6</th>\n",
              "      <th>Q7</th>\n",
              "      <th>Q8</th>\n",
              "      <th>Q9</th>\n",
              "      <th>Q10</th>\n",
              "      <th>Q11</th>\n",
              "      <th>Q12</th>\n",
              "      <th>Q13</th>\n",
              "      <th>Q14</th>\n",
              "      <th>Q15</th>\n",
              "      <th>E1</th>\n",
              "      <th>E2</th>\n",
              "      <th>E3</th>\n",
              "      <th>E4</th>\n",
              "      <th>E5</th>\n",
              "      <th>E6</th>\n",
              "      <th>E7</th>\n",
              "      <th>E8</th>\n",
              "      <th>E9</th>\n",
              "      <th>E10</th>\n",
              "      <th>E11</th>\n",
              "      <th>E12</th>\n",
              "      <th>E13</th>\n",
              "      <th>E14</th>\n",
              "      <th>E15</th>\n",
              "      <th>introelapse</th>\n",
              "      <th>testelapse</th>\n",
              "      <th>surveyelapse</th>\n",
              "      <th>TIPI1</th>\n",
              "      <th>TIPI2</th>\n",
              "      <th>TIPI3</th>\n",
              "      <th>TIPI4</th>\n",
              "      <th>TIPI5</th>\n",
              "      <th>TIPI6</th>\n",
              "      <th>TIPI7</th>\n",
              "      <th>TIPI8</th>\n",
              "      <th>TIPI9</th>\n",
              "      <th>TIPI10</th>\n",
              "      <th>VCL1</th>\n",
              "      <th>VCL2</th>\n",
              "      <th>VCL3</th>\n",
              "      <th>VCL4</th>\n",
              "      <th>VCL5</th>\n",
              "      <th>VCL6</th>\n",
              "      <th>VCL7</th>\n",
              "      <th>VCL8</th>\n",
              "      <th>VCL9</th>\n",
              "      <th>VCL10</th>\n",
              "      <th>VCL11</th>\n",
              "      <th>VCL12</th>\n",
              "      <th>VCL13</th>\n",
              "      <th>VCL14</th>\n",
              "      <th>VCL15</th>\n",
              "      <th>VCL16</th>\n",
              "      <th>education</th>\n",
              "      <th>urban</th>\n",
              "      <th>gender</th>\n",
              "      <th>engnat</th>\n",
              "      <th>age</th>\n",
              "      <th>hand</th>\n",
              "      <th>religion</th>\n",
              "      <th>orientation</th>\n",
              "      <th>race</th>\n",
              "      <th>voted</th>\n",
              "      <th>married</th>\n",
              "      <th>familysize</th>\n",
              "      <th>major</th>\n",
              "    </tr>\n",
              "  </thead>\n",
              "  <tbody>\n",
              "    <tr>\n",
              "      <th>0</th>\n",
              "      <td>5</td>\n",
              "      <td>5</td>\n",
              "      <td>3</td>\n",
              "      <td>5</td>\n",
              "      <td>5</td>\n",
              "      <td>5</td>\n",
              "      <td>5</td>\n",
              "      <td>3</td>\n",
              "      <td>4</td>\n",
              "      <td>5</td>\n",
              "      <td>5</td>\n",
              "      <td>5</td>\n",
              "      <td>3</td>\n",
              "      <td>5</td>\n",
              "      <td>5</td>\n",
              "      <td>7070</td>\n",
              "      <td>7469</td>\n",
              "      <td>7383</td>\n",
              "      <td>6540</td>\n",
              "      <td>9098</td>\n",
              "      <td>4998</td>\n",
              "      <td>6971</td>\n",
              "      <td>4713</td>\n",
              "      <td>6032</td>\n",
              "      <td>5878</td>\n",
              "      <td>4031</td>\n",
              "      <td>4386</td>\n",
              "      <td>9077</td>\n",
              "      <td>5113</td>\n",
              "      <td>4204</td>\n",
              "      <td>11</td>\n",
              "      <td>95</td>\n",
              "      <td>142</td>\n",
              "      <td>5</td>\n",
              "      <td>3</td>\n",
              "      <td>6</td>\n",
              "      <td>2</td>\n",
              "      <td>6</td>\n",
              "      <td>6</td>\n",
              "      <td>7</td>\n",
              "      <td>2</td>\n",
              "      <td>7</td>\n",
              "      <td>1</td>\n",
              "      <td>1</td>\n",
              "      <td>1</td>\n",
              "      <td>1</td>\n",
              "      <td>1</td>\n",
              "      <td>1</td>\n",
              "      <td>0</td>\n",
              "      <td>0</td>\n",
              "      <td>0</td>\n",
              "      <td>0</td>\n",
              "      <td>1</td>\n",
              "      <td>1</td>\n",
              "      <td>0</td>\n",
              "      <td>1</td>\n",
              "      <td>1</td>\n",
              "      <td>1</td>\n",
              "      <td>1</td>\n",
              "      <td>3</td>\n",
              "      <td>0</td>\n",
              "      <td>1</td>\n",
              "      <td>2</td>\n",
              "      <td>28</td>\n",
              "      <td>1</td>\n",
              "      <td>2</td>\n",
              "      <td>1</td>\n",
              "      <td>5</td>\n",
              "      <td>2</td>\n",
              "      <td>1</td>\n",
              "      <td>1</td>\n",
              "      <td>ACTING</td>\n",
              "    </tr>\n",
              "    <tr>\n",
              "      <th>1</th>\n",
              "      <td>5</td>\n",
              "      <td>5</td>\n",
              "      <td>5</td>\n",
              "      <td>5</td>\n",
              "      <td>5</td>\n",
              "      <td>3</td>\n",
              "      <td>5</td>\n",
              "      <td>5</td>\n",
              "      <td>1</td>\n",
              "      <td>4</td>\n",
              "      <td>4</td>\n",
              "      <td>5</td>\n",
              "      <td>4</td>\n",
              "      <td>4</td>\n",
              "      <td>5</td>\n",
              "      <td>4086</td>\n",
              "      <td>13107</td>\n",
              "      <td>2807</td>\n",
              "      <td>5030</td>\n",
              "      <td>7405</td>\n",
              "      <td>7864</td>\n",
              "      <td>16234</td>\n",
              "      <td>2603</td>\n",
              "      <td>14174</td>\n",
              "      <td>9423</td>\n",
              "      <td>11683</td>\n",
              "      <td>12718</td>\n",
              "      <td>4816</td>\n",
              "      <td>6806</td>\n",
              "      <td>4823</td>\n",
              "      <td>6</td>\n",
              "      <td>125</td>\n",
              "      <td>144</td>\n",
              "      <td>6</td>\n",
              "      <td>7</td>\n",
              "      <td>6</td>\n",
              "      <td>7</td>\n",
              "      <td>6</td>\n",
              "      <td>3</td>\n",
              "      <td>7</td>\n",
              "      <td>5</td>\n",
              "      <td>1</td>\n",
              "      <td>1</td>\n",
              "      <td>1</td>\n",
              "      <td>1</td>\n",
              "      <td>0</td>\n",
              "      <td>1</td>\n",
              "      <td>1</td>\n",
              "      <td>0</td>\n",
              "      <td>0</td>\n",
              "      <td>0</td>\n",
              "      <td>0</td>\n",
              "      <td>1</td>\n",
              "      <td>1</td>\n",
              "      <td>0</td>\n",
              "      <td>0</td>\n",
              "      <td>1</td>\n",
              "      <td>1</td>\n",
              "      <td>1</td>\n",
              "      <td>1</td>\n",
              "      <td>2</td>\n",
              "      <td>2</td>\n",
              "      <td>1</td>\n",
              "      <td>14</td>\n",
              "      <td>1</td>\n",
              "      <td>1</td>\n",
              "      <td>2</td>\n",
              "      <td>4</td>\n",
              "      <td>2</td>\n",
              "      <td>1</td>\n",
              "      <td>1</td>\n",
              "      <td>NaN</td>\n",
              "    </tr>\n",
              "    <tr>\n",
              "      <th>2</th>\n",
              "      <td>2</td>\n",
              "      <td>4</td>\n",
              "      <td>1</td>\n",
              "      <td>2</td>\n",
              "      <td>2</td>\n",
              "      <td>2</td>\n",
              "      <td>4</td>\n",
              "      <td>2</td>\n",
              "      <td>2</td>\n",
              "      <td>4</td>\n",
              "      <td>2</td>\n",
              "      <td>4</td>\n",
              "      <td>0</td>\n",
              "      <td>2</td>\n",
              "      <td>4</td>\n",
              "      <td>27535</td>\n",
              "      <td>7814</td>\n",
              "      <td>7762</td>\n",
              "      <td>10290</td>\n",
              "      <td>8558</td>\n",
              "      <td>10538</td>\n",
              "      <td>4740</td>\n",
              "      <td>4162</td>\n",
              "      <td>6492</td>\n",
              "      <td>11512</td>\n",
              "      <td>6874</td>\n",
              "      <td>11440</td>\n",
              "      <td>0</td>\n",
              "      <td>11418</td>\n",
              "      <td>9872</td>\n",
              "      <td>7</td>\n",
              "      <td>141</td>\n",
              "      <td>90</td>\n",
              "      <td>6</td>\n",
              "      <td>6</td>\n",
              "      <td>6</td>\n",
              "      <td>1</td>\n",
              "      <td>7</td>\n",
              "      <td>5</td>\n",
              "      <td>6</td>\n",
              "      <td>5</td>\n",
              "      <td>7</td>\n",
              "      <td>7</td>\n",
              "      <td>1</td>\n",
              "      <td>1</td>\n",
              "      <td>1</td>\n",
              "      <td>1</td>\n",
              "      <td>1</td>\n",
              "      <td>1</td>\n",
              "      <td>1</td>\n",
              "      <td>1</td>\n",
              "      <td>0</td>\n",
              "      <td>1</td>\n",
              "      <td>1</td>\n",
              "      <td>0</td>\n",
              "      <td>1</td>\n",
              "      <td>1</td>\n",
              "      <td>1</td>\n",
              "      <td>1</td>\n",
              "      <td>4</td>\n",
              "      <td>2</td>\n",
              "      <td>2</td>\n",
              "      <td>2</td>\n",
              "      <td>26</td>\n",
              "      <td>1</td>\n",
              "      <td>1</td>\n",
              "      <td>1</td>\n",
              "      <td>4</td>\n",
              "      <td>1</td>\n",
              "      <td>1</td>\n",
              "      <td>2</td>\n",
              "      <td>philosophy</td>\n",
              "    </tr>\n",
              "    <tr>\n",
              "      <th>3</th>\n",
              "      <td>5</td>\n",
              "      <td>4</td>\n",
              "      <td>1</td>\n",
              "      <td>2</td>\n",
              "      <td>4</td>\n",
              "      <td>5</td>\n",
              "      <td>4</td>\n",
              "      <td>1</td>\n",
              "      <td>4</td>\n",
              "      <td>5</td>\n",
              "      <td>5</td>\n",
              "      <td>5</td>\n",
              "      <td>1</td>\n",
              "      <td>4</td>\n",
              "      <td>5</td>\n",
              "      <td>4561</td>\n",
              "      <td>5589</td>\n",
              "      <td>3506</td>\n",
              "      <td>3784</td>\n",
              "      <td>5093</td>\n",
              "      <td>3555</td>\n",
              "      <td>3158</td>\n",
              "      <td>1887</td>\n",
              "      <td>7678</td>\n",
              "      <td>2304</td>\n",
              "      <td>3604</td>\n",
              "      <td>2724</td>\n",
              "      <td>2689</td>\n",
              "      <td>2657</td>\n",
              "      <td>3824</td>\n",
              "      <td>5</td>\n",
              "      <td>58</td>\n",
              "      <td>135</td>\n",
              "      <td>6</td>\n",
              "      <td>7</td>\n",
              "      <td>7</td>\n",
              "      <td>5</td>\n",
              "      <td>7</td>\n",
              "      <td>6</td>\n",
              "      <td>5</td>\n",
              "      <td>1</td>\n",
              "      <td>5</td>\n",
              "      <td>1</td>\n",
              "      <td>1</td>\n",
              "      <td>1</td>\n",
              "      <td>1</td>\n",
              "      <td>1</td>\n",
              "      <td>1</td>\n",
              "      <td>0</td>\n",
              "      <td>0</td>\n",
              "      <td>1</td>\n",
              "      <td>0</td>\n",
              "      <td>1</td>\n",
              "      <td>1</td>\n",
              "      <td>0</td>\n",
              "      <td>1</td>\n",
              "      <td>1</td>\n",
              "      <td>0</td>\n",
              "      <td>1</td>\n",
              "      <td>3</td>\n",
              "      <td>1</td>\n",
              "      <td>1</td>\n",
              "      <td>1</td>\n",
              "      <td>25</td>\n",
              "      <td>1</td>\n",
              "      <td>12</td>\n",
              "      <td>1</td>\n",
              "      <td>4</td>\n",
              "      <td>1</td>\n",
              "      <td>1</td>\n",
              "      <td>3</td>\n",
              "      <td>history</td>\n",
              "    </tr>\n",
              "    <tr>\n",
              "      <th>4</th>\n",
              "      <td>5</td>\n",
              "      <td>4</td>\n",
              "      <td>1</td>\n",
              "      <td>4</td>\n",
              "      <td>4</td>\n",
              "      <td>5</td>\n",
              "      <td>4</td>\n",
              "      <td>3</td>\n",
              "      <td>1</td>\n",
              "      <td>5</td>\n",
              "      <td>5</td>\n",
              "      <td>5</td>\n",
              "      <td>3</td>\n",
              "      <td>5</td>\n",
              "      <td>5</td>\n",
              "      <td>8841</td>\n",
              "      <td>7575</td>\n",
              "      <td>3832</td>\n",
              "      <td>7775</td>\n",
              "      <td>4160</td>\n",
              "      <td>5216</td>\n",
              "      <td>7559</td>\n",
              "      <td>5792</td>\n",
              "      <td>10296</td>\n",
              "      <td>5455</td>\n",
              "      <td>3864</td>\n",
              "      <td>11799</td>\n",
              "      <td>7872</td>\n",
              "      <td>10543</td>\n",
              "      <td>4224</td>\n",
              "      <td>4</td>\n",
              "      <td>105</td>\n",
              "      <td>210</td>\n",
              "      <td>1</td>\n",
              "      <td>3</td>\n",
              "      <td>7</td>\n",
              "      <td>2</td>\n",
              "      <td>6</td>\n",
              "      <td>4</td>\n",
              "      <td>5</td>\n",
              "      <td>5</td>\n",
              "      <td>5</td>\n",
              "      <td>3</td>\n",
              "      <td>1</td>\n",
              "      <td>1</td>\n",
              "      <td>0</td>\n",
              "      <td>1</td>\n",
              "      <td>1</td>\n",
              "      <td>0</td>\n",
              "      <td>0</td>\n",
              "      <td>0</td>\n",
              "      <td>0</td>\n",
              "      <td>1</td>\n",
              "      <td>0</td>\n",
              "      <td>0</td>\n",
              "      <td>1</td>\n",
              "      <td>1</td>\n",
              "      <td>1</td>\n",
              "      <td>1</td>\n",
              "      <td>2</td>\n",
              "      <td>2</td>\n",
              "      <td>1</td>\n",
              "      <td>1</td>\n",
              "      <td>37</td>\n",
              "      <td>1</td>\n",
              "      <td>2</td>\n",
              "      <td>2</td>\n",
              "      <td>4</td>\n",
              "      <td>2</td>\n",
              "      <td>2</td>\n",
              "      <td>2</td>\n",
              "      <td>Psychology</td>\n",
              "    </tr>\n",
              "  </tbody>\n",
              "</table>\n",
              "</div>"
            ],
            "text/plain": [
              "   Q1  Q2  Q3  Q4  Q5  ...  race  voted  married  familysize       major\n",
              "0   5   5   3   5   5  ...     5      2        1           1      ACTING\n",
              "1   5   5   5   5   5  ...     4      2        1           1         NaN\n",
              "2   2   4   1   2   2  ...     4      1        1           2  philosophy\n",
              "3   5   4   1   2   4  ...     4      1        1           3     history\n",
              "4   5   4   1   4   4  ...     4      2        2           2  Psychology\n",
              "\n",
              "[5 rows x 72 columns]"
            ]
          },
          "metadata": {},
          "execution_count": 12
        }
      ]
    },
    {
      "cell_type": "code",
      "metadata": {
        "id": "QYRmHhKETZ_4",
        "colab": {
          "base_uri": "https://localhost:8080/"
        },
        "outputId": "3030544b-2340-4c62-9f82-5eb7dd96e486"
      },
      "source": [
        "print(df.isna().sum())"
      ],
      "execution_count": 13,
      "outputs": [
        {
          "output_type": "stream",
          "name": "stdout",
          "text": [
            "Q1               0\n",
            "Q2               0\n",
            "Q3               0\n",
            "Q4               0\n",
            "Q5               0\n",
            "              ... \n",
            "race             0\n",
            "voted            0\n",
            "married          0\n",
            "familysize       0\n",
            "major         1158\n",
            "Length: 72, dtype: int64\n"
          ]
        }
      ]
    },
    {
      "cell_type": "code",
      "metadata": {
        "id": "wLO2iSlV8rR6",
        "colab": {
          "base_uri": "https://localhost:8080/",
          "height": 317
        },
        "outputId": "3b95480a-e3de-47d4-bdc1-7e5a378ec0fe"
      },
      "source": [
        "df.describe()"
      ],
      "execution_count": 14,
      "outputs": [
        {
          "output_type": "execute_result",
          "data": {
            "text/html": [
              "<div>\n",
              "<style scoped>\n",
              "    .dataframe tbody tr th:only-of-type {\n",
              "        vertical-align: middle;\n",
              "    }\n",
              "\n",
              "    .dataframe tbody tr th {\n",
              "        vertical-align: top;\n",
              "    }\n",
              "\n",
              "    .dataframe thead th {\n",
              "        text-align: right;\n",
              "    }\n",
              "</style>\n",
              "<table border=\"1\" class=\"dataframe\">\n",
              "  <thead>\n",
              "    <tr style=\"text-align: right;\">\n",
              "      <th></th>\n",
              "      <th>Q1</th>\n",
              "      <th>Q2</th>\n",
              "      <th>Q3</th>\n",
              "      <th>Q4</th>\n",
              "      <th>Q5</th>\n",
              "      <th>Q6</th>\n",
              "      <th>Q7</th>\n",
              "      <th>Q8</th>\n",
              "      <th>Q9</th>\n",
              "      <th>Q10</th>\n",
              "      <th>Q11</th>\n",
              "      <th>Q12</th>\n",
              "      <th>Q13</th>\n",
              "      <th>Q14</th>\n",
              "      <th>Q15</th>\n",
              "      <th>E1</th>\n",
              "      <th>E2</th>\n",
              "      <th>E3</th>\n",
              "      <th>E4</th>\n",
              "      <th>E5</th>\n",
              "      <th>E6</th>\n",
              "      <th>E7</th>\n",
              "      <th>E8</th>\n",
              "      <th>E9</th>\n",
              "      <th>E10</th>\n",
              "      <th>E11</th>\n",
              "      <th>E12</th>\n",
              "      <th>E13</th>\n",
              "      <th>E14</th>\n",
              "      <th>E15</th>\n",
              "      <th>introelapse</th>\n",
              "      <th>testelapse</th>\n",
              "      <th>surveyelapse</th>\n",
              "      <th>TIPI1</th>\n",
              "      <th>TIPI2</th>\n",
              "      <th>TIPI3</th>\n",
              "      <th>TIPI4</th>\n",
              "      <th>TIPI5</th>\n",
              "      <th>TIPI6</th>\n",
              "      <th>TIPI7</th>\n",
              "      <th>TIPI8</th>\n",
              "      <th>TIPI9</th>\n",
              "      <th>TIPI10</th>\n",
              "      <th>VCL1</th>\n",
              "      <th>VCL2</th>\n",
              "      <th>VCL3</th>\n",
              "      <th>VCL4</th>\n",
              "      <th>VCL5</th>\n",
              "      <th>VCL6</th>\n",
              "      <th>VCL7</th>\n",
              "      <th>VCL8</th>\n",
              "      <th>VCL9</th>\n",
              "      <th>VCL10</th>\n",
              "      <th>VCL11</th>\n",
              "      <th>VCL12</th>\n",
              "      <th>VCL13</th>\n",
              "      <th>VCL14</th>\n",
              "      <th>VCL15</th>\n",
              "      <th>VCL16</th>\n",
              "      <th>education</th>\n",
              "      <th>urban</th>\n",
              "      <th>gender</th>\n",
              "      <th>engnat</th>\n",
              "      <th>age</th>\n",
              "      <th>hand</th>\n",
              "      <th>religion</th>\n",
              "      <th>orientation</th>\n",
              "      <th>race</th>\n",
              "      <th>voted</th>\n",
              "      <th>married</th>\n",
              "      <th>familysize</th>\n",
              "    </tr>\n",
              "  </thead>\n",
              "  <tbody>\n",
              "    <tr>\n",
              "      <th>count</th>\n",
              "      <td>2495.000000</td>\n",
              "      <td>2495.000000</td>\n",
              "      <td>2495.000000</td>\n",
              "      <td>2495.000000</td>\n",
              "      <td>2495.000000</td>\n",
              "      <td>2495.000000</td>\n",
              "      <td>2495.000000</td>\n",
              "      <td>2495.000000</td>\n",
              "      <td>2495.000000</td>\n",
              "      <td>2495.000000</td>\n",
              "      <td>2495.000000</td>\n",
              "      <td>2495.000000</td>\n",
              "      <td>2495.000000</td>\n",
              "      <td>2495.000000</td>\n",
              "      <td>2495.000000</td>\n",
              "      <td>2.495000e+03</td>\n",
              "      <td>2.495000e+03</td>\n",
              "      <td>2495.000000</td>\n",
              "      <td>2.495000e+03</td>\n",
              "      <td>2495.000000</td>\n",
              "      <td>2495.000000</td>\n",
              "      <td>2.495000e+03</td>\n",
              "      <td>2495.000000</td>\n",
              "      <td>2495.000000</td>\n",
              "      <td>2495.000000</td>\n",
              "      <td>2495.000000</td>\n",
              "      <td>2.495000e+03</td>\n",
              "      <td>2495.000000</td>\n",
              "      <td>2495.000000</td>\n",
              "      <td>2495.000000</td>\n",
              "      <td>2495.000000</td>\n",
              "      <td>2495.000000</td>\n",
              "      <td>2495.000000</td>\n",
              "      <td>2495.000000</td>\n",
              "      <td>2495.000000</td>\n",
              "      <td>2495.000000</td>\n",
              "      <td>2495.000000</td>\n",
              "      <td>2495.000000</td>\n",
              "      <td>2495.000000</td>\n",
              "      <td>2495.000000</td>\n",
              "      <td>2495.000000</td>\n",
              "      <td>2495.000000</td>\n",
              "      <td>2495.000000</td>\n",
              "      <td>2495.000000</td>\n",
              "      <td>2495.000000</td>\n",
              "      <td>2495.000000</td>\n",
              "      <td>2495.000000</td>\n",
              "      <td>2495.000000</td>\n",
              "      <td>2495.000000</td>\n",
              "      <td>2495.000000</td>\n",
              "      <td>2495.000000</td>\n",
              "      <td>2495.000000</td>\n",
              "      <td>2495.000000</td>\n",
              "      <td>2495.000000</td>\n",
              "      <td>2495.000000</td>\n",
              "      <td>2495.000000</td>\n",
              "      <td>2495.000000</td>\n",
              "      <td>2495.000000</td>\n",
              "      <td>2495.000000</td>\n",
              "      <td>2495.000000</td>\n",
              "      <td>2495.000000</td>\n",
              "      <td>2495.000000</td>\n",
              "      <td>2495.000000</td>\n",
              "      <td>2495.000000</td>\n",
              "      <td>2495.000000</td>\n",
              "      <td>2495.000000</td>\n",
              "      <td>2495.000000</td>\n",
              "      <td>2495.000000</td>\n",
              "      <td>2495.000000</td>\n",
              "      <td>2495.000000</td>\n",
              "      <td>2495.000000</td>\n",
              "    </tr>\n",
              "    <tr>\n",
              "      <th>mean</th>\n",
              "      <td>3.472545</td>\n",
              "      <td>2.963527</td>\n",
              "      <td>2.046894</td>\n",
              "      <td>2.636072</td>\n",
              "      <td>3.254108</td>\n",
              "      <td>3.108617</td>\n",
              "      <td>2.666934</td>\n",
              "      <td>2.450501</td>\n",
              "      <td>2.232866</td>\n",
              "      <td>3.502204</td>\n",
              "      <td>3.265331</td>\n",
              "      <td>2.644890</td>\n",
              "      <td>2.103006</td>\n",
              "      <td>2.955912</td>\n",
              "      <td>4.227655</td>\n",
              "      <td>4.441990e+04</td>\n",
              "      <td>5.150646e+04</td>\n",
              "      <td>6663.946693</td>\n",
              "      <td>2.286794e+04</td>\n",
              "      <td>7548.478557</td>\n",
              "      <td>8060.431663</td>\n",
              "      <td>8.209945e+03</td>\n",
              "      <td>4762.673747</td>\n",
              "      <td>6599.963126</td>\n",
              "      <td>9222.479760</td>\n",
              "      <td>8850.744289</td>\n",
              "      <td>1.117300e+04</td>\n",
              "      <td>6547.332665</td>\n",
              "      <td>7660.725451</td>\n",
              "      <td>7665.187976</td>\n",
              "      <td>850.004008</td>\n",
              "      <td>288.237675</td>\n",
              "      <td>298.517034</td>\n",
              "      <td>3.483367</td>\n",
              "      <td>4.373547</td>\n",
              "      <td>4.777555</td>\n",
              "      <td>4.333467</td>\n",
              "      <td>5.630060</td>\n",
              "      <td>5.024048</td>\n",
              "      <td>4.967936</td>\n",
              "      <td>4.030461</td>\n",
              "      <td>4.364329</td>\n",
              "      <td>2.537475</td>\n",
              "      <td>0.972345</td>\n",
              "      <td>0.941884</td>\n",
              "      <td>0.549098</td>\n",
              "      <td>0.975551</td>\n",
              "      <td>0.952705</td>\n",
              "      <td>0.104609</td>\n",
              "      <td>0.272545</td>\n",
              "      <td>0.453307</td>\n",
              "      <td>0.059319</td>\n",
              "      <td>0.967134</td>\n",
              "      <td>0.313427</td>\n",
              "      <td>0.167134</td>\n",
              "      <td>0.788377</td>\n",
              "      <td>0.926253</td>\n",
              "      <td>0.970741</td>\n",
              "      <td>0.982766</td>\n",
              "      <td>2.323046</td>\n",
              "      <td>2.119439</td>\n",
              "      <td>1.557515</td>\n",
              "      <td>1.242084</td>\n",
              "      <td>43.365531</td>\n",
              "      <td>1.182365</td>\n",
              "      <td>4.180361</td>\n",
              "      <td>1.662525</td>\n",
              "      <td>3.844489</td>\n",
              "      <td>1.662926</td>\n",
              "      <td>1.262124</td>\n",
              "      <td>2.560321</td>\n",
              "    </tr>\n",
              "    <tr>\n",
              "      <th>std</th>\n",
              "      <td>1.455552</td>\n",
              "      <td>1.494669</td>\n",
              "      <td>1.387236</td>\n",
              "      <td>1.451371</td>\n",
              "      <td>1.471855</td>\n",
              "      <td>1.506676</td>\n",
              "      <td>1.509954</td>\n",
              "      <td>1.569256</td>\n",
              "      <td>1.419266</td>\n",
              "      <td>1.388713</td>\n",
              "      <td>1.400302</td>\n",
              "      <td>1.504787</td>\n",
              "      <td>1.382461</td>\n",
              "      <td>1.489222</td>\n",
              "      <td>1.104538</td>\n",
              "      <td>1.354595e+06</td>\n",
              "      <td>1.614006e+06</td>\n",
              "      <td>10890.202483</td>\n",
              "      <td>6.562459e+05</td>\n",
              "      <td>9892.172182</td>\n",
              "      <td>9338.071912</td>\n",
              "      <td>3.665693e+04</td>\n",
              "      <td>7820.863912</td>\n",
              "      <td>11945.745740</td>\n",
              "      <td>18519.041061</td>\n",
              "      <td>15473.033589</td>\n",
              "      <td>1.001520e+05</td>\n",
              "      <td>6090.033961</td>\n",
              "      <td>7594.379339</td>\n",
              "      <td>23886.001809</td>\n",
              "      <td>8176.969673</td>\n",
              "      <td>3452.492990</td>\n",
              "      <td>2964.644784</td>\n",
              "      <td>1.986629</td>\n",
              "      <td>1.863189</td>\n",
              "      <td>1.763883</td>\n",
              "      <td>2.043292</td>\n",
              "      <td>1.414999</td>\n",
              "      <td>1.834639</td>\n",
              "      <td>1.756810</td>\n",
              "      <td>1.919562</td>\n",
              "      <td>1.933313</td>\n",
              "      <td>1.645660</td>\n",
              "      <td>0.164016</td>\n",
              "      <td>0.234010</td>\n",
              "      <td>0.497683</td>\n",
              "      <td>0.154469</td>\n",
              "      <td>0.212311</td>\n",
              "      <td>0.306111</td>\n",
              "      <td>0.445358</td>\n",
              "      <td>0.497915</td>\n",
              "      <td>0.236267</td>\n",
              "      <td>0.178321</td>\n",
              "      <td>0.463979</td>\n",
              "      <td>0.373170</td>\n",
              "      <td>0.408541</td>\n",
              "      <td>0.261412</td>\n",
              "      <td>0.168564</td>\n",
              "      <td>0.130170</td>\n",
              "      <td>0.947208</td>\n",
              "      <td>0.762074</td>\n",
              "      <td>0.596534</td>\n",
              "      <td>0.435854</td>\n",
              "      <td>684.593489</td>\n",
              "      <td>0.496186</td>\n",
              "      <td>3.697397</td>\n",
              "      <td>1.170653</td>\n",
              "      <td>0.924942</td>\n",
              "      <td>0.491924</td>\n",
              "      <td>0.559446</td>\n",
              "      <td>2.355926</td>\n",
              "    </tr>\n",
              "    <tr>\n",
              "      <th>min</th>\n",
              "      <td>0.000000</td>\n",
              "      <td>0.000000</td>\n",
              "      <td>0.000000</td>\n",
              "      <td>0.000000</td>\n",
              "      <td>0.000000</td>\n",
              "      <td>0.000000</td>\n",
              "      <td>0.000000</td>\n",
              "      <td>0.000000</td>\n",
              "      <td>0.000000</td>\n",
              "      <td>1.000000</td>\n",
              "      <td>0.000000</td>\n",
              "      <td>0.000000</td>\n",
              "      <td>0.000000</td>\n",
              "      <td>0.000000</td>\n",
              "      <td>0.000000</td>\n",
              "      <td>0.000000e+00</td>\n",
              "      <td>0.000000e+00</td>\n",
              "      <td>0.000000</td>\n",
              "      <td>0.000000e+00</td>\n",
              "      <td>0.000000</td>\n",
              "      <td>0.000000</td>\n",
              "      <td>0.000000e+00</td>\n",
              "      <td>0.000000</td>\n",
              "      <td>0.000000</td>\n",
              "      <td>415.000000</td>\n",
              "      <td>0.000000</td>\n",
              "      <td>0.000000e+00</td>\n",
              "      <td>0.000000</td>\n",
              "      <td>0.000000</td>\n",
              "      <td>0.000000</td>\n",
              "      <td>1.000000</td>\n",
              "      <td>3.000000</td>\n",
              "      <td>6.000000</td>\n",
              "      <td>0.000000</td>\n",
              "      <td>0.000000</td>\n",
              "      <td>0.000000</td>\n",
              "      <td>0.000000</td>\n",
              "      <td>0.000000</td>\n",
              "      <td>0.000000</td>\n",
              "      <td>0.000000</td>\n",
              "      <td>0.000000</td>\n",
              "      <td>0.000000</td>\n",
              "      <td>0.000000</td>\n",
              "      <td>0.000000</td>\n",
              "      <td>0.000000</td>\n",
              "      <td>0.000000</td>\n",
              "      <td>0.000000</td>\n",
              "      <td>0.000000</td>\n",
              "      <td>0.000000</td>\n",
              "      <td>0.000000</td>\n",
              "      <td>0.000000</td>\n",
              "      <td>0.000000</td>\n",
              "      <td>0.000000</td>\n",
              "      <td>0.000000</td>\n",
              "      <td>0.000000</td>\n",
              "      <td>0.000000</td>\n",
              "      <td>0.000000</td>\n",
              "      <td>0.000000</td>\n",
              "      <td>0.000000</td>\n",
              "      <td>0.000000</td>\n",
              "      <td>0.000000</td>\n",
              "      <td>0.000000</td>\n",
              "      <td>0.000000</td>\n",
              "      <td>13.000000</td>\n",
              "      <td>0.000000</td>\n",
              "      <td>0.000000</td>\n",
              "      <td>0.000000</td>\n",
              "      <td>0.000000</td>\n",
              "      <td>0.000000</td>\n",
              "      <td>0.000000</td>\n",
              "      <td>0.000000</td>\n",
              "    </tr>\n",
              "    <tr>\n",
              "      <th>25%</th>\n",
              "      <td>2.000000</td>\n",
              "      <td>2.000000</td>\n",
              "      <td>1.000000</td>\n",
              "      <td>1.000000</td>\n",
              "      <td>2.000000</td>\n",
              "      <td>2.000000</td>\n",
              "      <td>1.000000</td>\n",
              "      <td>1.000000</td>\n",
              "      <td>1.000000</td>\n",
              "      <td>2.000000</td>\n",
              "      <td>2.000000</td>\n",
              "      <td>1.000000</td>\n",
              "      <td>1.000000</td>\n",
              "      <td>1.000000</td>\n",
              "      <td>4.000000</td>\n",
              "      <td>5.912500e+03</td>\n",
              "      <td>5.779500e+03</td>\n",
              "      <td>3524.000000</td>\n",
              "      <td>4.087500e+03</td>\n",
              "      <td>4167.500000</td>\n",
              "      <td>4497.500000</td>\n",
              "      <td>4.233000e+03</td>\n",
              "      <td>2580.500000</td>\n",
              "      <td>3473.500000</td>\n",
              "      <td>4794.000000</td>\n",
              "      <td>4695.500000</td>\n",
              "      <td>4.835500e+03</td>\n",
              "      <td>3789.000000</td>\n",
              "      <td>4439.500000</td>\n",
              "      <td>3782.500000</td>\n",
              "      <td>3.000000</td>\n",
              "      <td>81.000000</td>\n",
              "      <td>105.000000</td>\n",
              "      <td>2.000000</td>\n",
              "      <td>3.000000</td>\n",
              "      <td>3.000000</td>\n",
              "      <td>2.000000</td>\n",
              "      <td>5.000000</td>\n",
              "      <td>4.000000</td>\n",
              "      <td>4.000000</td>\n",
              "      <td>2.000000</td>\n",
              "      <td>3.000000</td>\n",
              "      <td>1.000000</td>\n",
              "      <td>1.000000</td>\n",
              "      <td>1.000000</td>\n",
              "      <td>0.000000</td>\n",
              "      <td>1.000000</td>\n",
              "      <td>1.000000</td>\n",
              "      <td>0.000000</td>\n",
              "      <td>0.000000</td>\n",
              "      <td>0.000000</td>\n",
              "      <td>0.000000</td>\n",
              "      <td>1.000000</td>\n",
              "      <td>0.000000</td>\n",
              "      <td>0.000000</td>\n",
              "      <td>1.000000</td>\n",
              "      <td>1.000000</td>\n",
              "      <td>1.000000</td>\n",
              "      <td>1.000000</td>\n",
              "      <td>2.000000</td>\n",
              "      <td>2.000000</td>\n",
              "      <td>1.000000</td>\n",
              "      <td>1.000000</td>\n",
              "      <td>18.000000</td>\n",
              "      <td>1.000000</td>\n",
              "      <td>1.000000</td>\n",
              "      <td>1.000000</td>\n",
              "      <td>4.000000</td>\n",
              "      <td>1.000000</td>\n",
              "      <td>1.000000</td>\n",
              "      <td>2.000000</td>\n",
              "    </tr>\n",
              "    <tr>\n",
              "      <th>50%</th>\n",
              "      <td>4.000000</td>\n",
              "      <td>3.000000</td>\n",
              "      <td>1.000000</td>\n",
              "      <td>2.000000</td>\n",
              "      <td>4.000000</td>\n",
              "      <td>3.000000</td>\n",
              "      <td>2.000000</td>\n",
              "      <td>2.000000</td>\n",
              "      <td>2.000000</td>\n",
              "      <td>4.000000</td>\n",
              "      <td>4.000000</td>\n",
              "      <td>2.000000</td>\n",
              "      <td>1.000000</td>\n",
              "      <td>3.000000</td>\n",
              "      <td>5.000000</td>\n",
              "      <td>8.124000e+03</td>\n",
              "      <td>8.161000e+03</td>\n",
              "      <td>4858.000000</td>\n",
              "      <td>5.666000e+03</td>\n",
              "      <td>5783.000000</td>\n",
              "      <td>6286.000000</td>\n",
              "      <td>5.856000e+03</td>\n",
              "      <td>3529.000000</td>\n",
              "      <td>5005.000000</td>\n",
              "      <td>6637.000000</td>\n",
              "      <td>6370.000000</td>\n",
              "      <td>6.710000e+03</td>\n",
              "      <td>5468.000000</td>\n",
              "      <td>6096.000000</td>\n",
              "      <td>5155.000000</td>\n",
              "      <td>8.000000</td>\n",
              "      <td>107.000000</td>\n",
              "      <td>137.000000</td>\n",
              "      <td>3.000000</td>\n",
              "      <td>5.000000</td>\n",
              "      <td>5.000000</td>\n",
              "      <td>5.000000</td>\n",
              "      <td>6.000000</td>\n",
              "      <td>5.000000</td>\n",
              "      <td>5.000000</td>\n",
              "      <td>5.000000</td>\n",
              "      <td>5.000000</td>\n",
              "      <td>2.000000</td>\n",
              "      <td>1.000000</td>\n",
              "      <td>1.000000</td>\n",
              "      <td>1.000000</td>\n",
              "      <td>1.000000</td>\n",
              "      <td>1.000000</td>\n",
              "      <td>0.000000</td>\n",
              "      <td>0.000000</td>\n",
              "      <td>0.000000</td>\n",
              "      <td>0.000000</td>\n",
              "      <td>1.000000</td>\n",
              "      <td>0.000000</td>\n",
              "      <td>0.000000</td>\n",
              "      <td>1.000000</td>\n",
              "      <td>1.000000</td>\n",
              "      <td>1.000000</td>\n",
              "      <td>1.000000</td>\n",
              "      <td>2.000000</td>\n",
              "      <td>2.000000</td>\n",
              "      <td>2.000000</td>\n",
              "      <td>1.000000</td>\n",
              "      <td>22.000000</td>\n",
              "      <td>1.000000</td>\n",
              "      <td>2.000000</td>\n",
              "      <td>1.000000</td>\n",
              "      <td>4.000000</td>\n",
              "      <td>2.000000</td>\n",
              "      <td>1.000000</td>\n",
              "      <td>2.000000</td>\n",
              "    </tr>\n",
              "    <tr>\n",
              "      <th>75%</th>\n",
              "      <td>5.000000</td>\n",
              "      <td>4.000000</td>\n",
              "      <td>3.000000</td>\n",
              "      <td>4.000000</td>\n",
              "      <td>5.000000</td>\n",
              "      <td>4.000000</td>\n",
              "      <td>4.000000</td>\n",
              "      <td>4.000000</td>\n",
              "      <td>3.000000</td>\n",
              "      <td>5.000000</td>\n",
              "      <td>4.000000</td>\n",
              "      <td>4.000000</td>\n",
              "      <td>3.000000</td>\n",
              "      <td>4.000000</td>\n",
              "      <td>5.000000</td>\n",
              "      <td>1.239600e+04</td>\n",
              "      <td>1.168550e+04</td>\n",
              "      <td>7020.500000</td>\n",
              "      <td>8.164500e+03</td>\n",
              "      <td>8225.500000</td>\n",
              "      <td>8974.000000</td>\n",
              "      <td>8.108500e+03</td>\n",
              "      <td>5137.500000</td>\n",
              "      <td>7219.000000</td>\n",
              "      <td>9493.000000</td>\n",
              "      <td>8951.000000</td>\n",
              "      <td>9.621500e+03</td>\n",
              "      <td>7532.000000</td>\n",
              "      <td>8600.000000</td>\n",
              "      <td>7373.000000</td>\n",
              "      <td>40.000000</td>\n",
              "      <td>141.500000</td>\n",
              "      <td>188.000000</td>\n",
              "      <td>5.000000</td>\n",
              "      <td>6.000000</td>\n",
              "      <td>6.000000</td>\n",
              "      <td>6.000000</td>\n",
              "      <td>7.000000</td>\n",
              "      <td>7.000000</td>\n",
              "      <td>6.000000</td>\n",
              "      <td>5.000000</td>\n",
              "      <td>6.000000</td>\n",
              "      <td>3.000000</td>\n",
              "      <td>1.000000</td>\n",
              "      <td>1.000000</td>\n",
              "      <td>1.000000</td>\n",
              "      <td>1.000000</td>\n",
              "      <td>1.000000</td>\n",
              "      <td>0.000000</td>\n",
              "      <td>1.000000</td>\n",
              "      <td>1.000000</td>\n",
              "      <td>0.000000</td>\n",
              "      <td>1.000000</td>\n",
              "      <td>1.000000</td>\n",
              "      <td>0.000000</td>\n",
              "      <td>1.000000</td>\n",
              "      <td>1.000000</td>\n",
              "      <td>1.000000</td>\n",
              "      <td>1.000000</td>\n",
              "      <td>3.000000</td>\n",
              "      <td>3.000000</td>\n",
              "      <td>2.000000</td>\n",
              "      <td>1.000000</td>\n",
              "      <td>35.000000</td>\n",
              "      <td>1.000000</td>\n",
              "      <td>6.000000</td>\n",
              "      <td>2.000000</td>\n",
              "      <td>4.000000</td>\n",
              "      <td>2.000000</td>\n",
              "      <td>1.000000</td>\n",
              "      <td>3.000000</td>\n",
              "    </tr>\n",
              "    <tr>\n",
              "      <th>max</th>\n",
              "      <td>5.000000</td>\n",
              "      <td>5.000000</td>\n",
              "      <td>5.000000</td>\n",
              "      <td>5.000000</td>\n",
              "      <td>5.000000</td>\n",
              "      <td>5.000000</td>\n",
              "      <td>5.000000</td>\n",
              "      <td>5.000000</td>\n",
              "      <td>5.000000</td>\n",
              "      <td>5.000000</td>\n",
              "      <td>5.000000</td>\n",
              "      <td>5.000000</td>\n",
              "      <td>5.000000</td>\n",
              "      <td>5.000000</td>\n",
              "      <td>5.000000</td>\n",
              "      <td>6.755886e+07</td>\n",
              "      <td>7.786802e+07</td>\n",
              "      <td>281827.000000</td>\n",
              "      <td>3.202135e+07</td>\n",
              "      <td>227606.000000</td>\n",
              "      <td>211752.000000</td>\n",
              "      <td>1.342932e+06</td>\n",
              "      <td>257289.000000</td>\n",
              "      <td>454068.000000</td>\n",
              "      <td>653298.000000</td>\n",
              "      <td>412550.000000</td>\n",
              "      <td>4.946876e+06</td>\n",
              "      <td>119049.000000</td>\n",
              "      <td>188979.000000</td>\n",
              "      <td>836054.000000</td>\n",
              "      <td>198370.000000</td>\n",
              "      <td>108420.000000</td>\n",
              "      <td>102231.000000</td>\n",
              "      <td>7.000000</td>\n",
              "      <td>7.000000</td>\n",
              "      <td>7.000000</td>\n",
              "      <td>7.000000</td>\n",
              "      <td>7.000000</td>\n",
              "      <td>7.000000</td>\n",
              "      <td>7.000000</td>\n",
              "      <td>7.000000</td>\n",
              "      <td>7.000000</td>\n",
              "      <td>7.000000</td>\n",
              "      <td>1.000000</td>\n",
              "      <td>1.000000</td>\n",
              "      <td>1.000000</td>\n",
              "      <td>1.000000</td>\n",
              "      <td>1.000000</td>\n",
              "      <td>1.000000</td>\n",
              "      <td>1.000000</td>\n",
              "      <td>1.000000</td>\n",
              "      <td>1.000000</td>\n",
              "      <td>1.000000</td>\n",
              "      <td>1.000000</td>\n",
              "      <td>1.000000</td>\n",
              "      <td>1.000000</td>\n",
              "      <td>1.000000</td>\n",
              "      <td>1.000000</td>\n",
              "      <td>1.000000</td>\n",
              "      <td>4.000000</td>\n",
              "      <td>3.000000</td>\n",
              "      <td>3.000000</td>\n",
              "      <td>2.000000</td>\n",
              "      <td>33769.000000</td>\n",
              "      <td>3.000000</td>\n",
              "      <td>12.000000</td>\n",
              "      <td>5.000000</td>\n",
              "      <td>5.000000</td>\n",
              "      <td>2.000000</td>\n",
              "      <td>3.000000</td>\n",
              "      <td>98.000000</td>\n",
              "    </tr>\n",
              "  </tbody>\n",
              "</table>\n",
              "</div>"
            ],
            "text/plain": [
              "                Q1           Q2  ...      married   familysize\n",
              "count  2495.000000  2495.000000  ...  2495.000000  2495.000000\n",
              "mean      3.472545     2.963527  ...     1.262124     2.560321\n",
              "std       1.455552     1.494669  ...     0.559446     2.355926\n",
              "min       0.000000     0.000000  ...     0.000000     0.000000\n",
              "25%       2.000000     2.000000  ...     1.000000     2.000000\n",
              "50%       4.000000     3.000000  ...     1.000000     2.000000\n",
              "75%       5.000000     4.000000  ...     1.000000     3.000000\n",
              "max       5.000000     5.000000  ...     3.000000    98.000000\n",
              "\n",
              "[8 rows x 71 columns]"
            ]
          },
          "metadata": {},
          "execution_count": 14
        }
      ]
    },
    {
      "cell_type": "markdown",
      "metadata": {
        "id": "5aki1XLeRaoA"
      },
      "source": [
        "Note that there are some \"0\" values in columns where a zero-value is not allowed/possible, such as Q1-Q15, TIPI1-TIPI10, and all of the demographic information variables. They are regarded as missing values. Let's see how many missing values each relevant column has. First, drop the irrelevant columns for easier manipulation of the data."
      ]
    },
    {
      "cell_type": "code",
      "metadata": {
        "colab": {
          "base_uri": "https://localhost:8080/",
          "height": 224
        },
        "id": "WXZ3b2PKfRy6",
        "outputId": "535a6259-444b-4b93-c537-8af6e62b2251"
      },
      "source": [
        "df_reduced = df.drop(columns=['E1', 'E2',  'E3',\t'E4',\t'E5',\t'E6',\t'E7',\t'E8',\t'E9',\t'E10',\t'E11',\t'E12',\t'E13',\t'E14',\t'E15', 'introelapse',\t'testelapse',\t'surveyelapse',\n",
        "        'VCL1',\t'VCL2',\t'VCL3',\t'VCL4',\t'VCL5',\t'VCL6',\t'VCL7',\t'VCL8',\t'VCL9',\t'VCL10',\t'VCL11',\t'VCL12',\t'VCL13',\t'VCL14',\t'VCL15',\t'VCL16', 'major'])\n",
        "df_reduced.head()"
      ],
      "execution_count": 15,
      "outputs": [
        {
          "output_type": "execute_result",
          "data": {
            "text/html": [
              "<div>\n",
              "<style scoped>\n",
              "    .dataframe tbody tr th:only-of-type {\n",
              "        vertical-align: middle;\n",
              "    }\n",
              "\n",
              "    .dataframe tbody tr th {\n",
              "        vertical-align: top;\n",
              "    }\n",
              "\n",
              "    .dataframe thead th {\n",
              "        text-align: right;\n",
              "    }\n",
              "</style>\n",
              "<table border=\"1\" class=\"dataframe\">\n",
              "  <thead>\n",
              "    <tr style=\"text-align: right;\">\n",
              "      <th></th>\n",
              "      <th>Q1</th>\n",
              "      <th>Q2</th>\n",
              "      <th>Q3</th>\n",
              "      <th>Q4</th>\n",
              "      <th>Q5</th>\n",
              "      <th>Q6</th>\n",
              "      <th>Q7</th>\n",
              "      <th>Q8</th>\n",
              "      <th>Q9</th>\n",
              "      <th>Q10</th>\n",
              "      <th>Q11</th>\n",
              "      <th>Q12</th>\n",
              "      <th>Q13</th>\n",
              "      <th>Q14</th>\n",
              "      <th>Q15</th>\n",
              "      <th>TIPI1</th>\n",
              "      <th>TIPI2</th>\n",
              "      <th>TIPI3</th>\n",
              "      <th>TIPI4</th>\n",
              "      <th>TIPI5</th>\n",
              "      <th>TIPI6</th>\n",
              "      <th>TIPI7</th>\n",
              "      <th>TIPI8</th>\n",
              "      <th>TIPI9</th>\n",
              "      <th>TIPI10</th>\n",
              "      <th>education</th>\n",
              "      <th>urban</th>\n",
              "      <th>gender</th>\n",
              "      <th>engnat</th>\n",
              "      <th>age</th>\n",
              "      <th>hand</th>\n",
              "      <th>religion</th>\n",
              "      <th>orientation</th>\n",
              "      <th>race</th>\n",
              "      <th>voted</th>\n",
              "      <th>married</th>\n",
              "      <th>familysize</th>\n",
              "    </tr>\n",
              "  </thead>\n",
              "  <tbody>\n",
              "    <tr>\n",
              "      <th>0</th>\n",
              "      <td>5</td>\n",
              "      <td>5</td>\n",
              "      <td>3</td>\n",
              "      <td>5</td>\n",
              "      <td>5</td>\n",
              "      <td>5</td>\n",
              "      <td>5</td>\n",
              "      <td>3</td>\n",
              "      <td>4</td>\n",
              "      <td>5</td>\n",
              "      <td>5</td>\n",
              "      <td>5</td>\n",
              "      <td>3</td>\n",
              "      <td>5</td>\n",
              "      <td>5</td>\n",
              "      <td>5</td>\n",
              "      <td>3</td>\n",
              "      <td>6</td>\n",
              "      <td>2</td>\n",
              "      <td>6</td>\n",
              "      <td>6</td>\n",
              "      <td>7</td>\n",
              "      <td>2</td>\n",
              "      <td>7</td>\n",
              "      <td>1</td>\n",
              "      <td>3</td>\n",
              "      <td>0</td>\n",
              "      <td>1</td>\n",
              "      <td>2</td>\n",
              "      <td>28</td>\n",
              "      <td>1</td>\n",
              "      <td>2</td>\n",
              "      <td>1</td>\n",
              "      <td>5</td>\n",
              "      <td>2</td>\n",
              "      <td>1</td>\n",
              "      <td>1</td>\n",
              "    </tr>\n",
              "    <tr>\n",
              "      <th>1</th>\n",
              "      <td>5</td>\n",
              "      <td>5</td>\n",
              "      <td>5</td>\n",
              "      <td>5</td>\n",
              "      <td>5</td>\n",
              "      <td>3</td>\n",
              "      <td>5</td>\n",
              "      <td>5</td>\n",
              "      <td>1</td>\n",
              "      <td>4</td>\n",
              "      <td>4</td>\n",
              "      <td>5</td>\n",
              "      <td>4</td>\n",
              "      <td>4</td>\n",
              "      <td>5</td>\n",
              "      <td>6</td>\n",
              "      <td>7</td>\n",
              "      <td>6</td>\n",
              "      <td>7</td>\n",
              "      <td>6</td>\n",
              "      <td>3</td>\n",
              "      <td>7</td>\n",
              "      <td>5</td>\n",
              "      <td>1</td>\n",
              "      <td>1</td>\n",
              "      <td>1</td>\n",
              "      <td>2</td>\n",
              "      <td>2</td>\n",
              "      <td>1</td>\n",
              "      <td>14</td>\n",
              "      <td>1</td>\n",
              "      <td>1</td>\n",
              "      <td>2</td>\n",
              "      <td>4</td>\n",
              "      <td>2</td>\n",
              "      <td>1</td>\n",
              "      <td>1</td>\n",
              "    </tr>\n",
              "    <tr>\n",
              "      <th>2</th>\n",
              "      <td>2</td>\n",
              "      <td>4</td>\n",
              "      <td>1</td>\n",
              "      <td>2</td>\n",
              "      <td>2</td>\n",
              "      <td>2</td>\n",
              "      <td>4</td>\n",
              "      <td>2</td>\n",
              "      <td>2</td>\n",
              "      <td>4</td>\n",
              "      <td>2</td>\n",
              "      <td>4</td>\n",
              "      <td>0</td>\n",
              "      <td>2</td>\n",
              "      <td>4</td>\n",
              "      <td>6</td>\n",
              "      <td>6</td>\n",
              "      <td>6</td>\n",
              "      <td>1</td>\n",
              "      <td>7</td>\n",
              "      <td>5</td>\n",
              "      <td>6</td>\n",
              "      <td>5</td>\n",
              "      <td>7</td>\n",
              "      <td>7</td>\n",
              "      <td>4</td>\n",
              "      <td>2</td>\n",
              "      <td>2</td>\n",
              "      <td>2</td>\n",
              "      <td>26</td>\n",
              "      <td>1</td>\n",
              "      <td>1</td>\n",
              "      <td>1</td>\n",
              "      <td>4</td>\n",
              "      <td>1</td>\n",
              "      <td>1</td>\n",
              "      <td>2</td>\n",
              "    </tr>\n",
              "    <tr>\n",
              "      <th>3</th>\n",
              "      <td>5</td>\n",
              "      <td>4</td>\n",
              "      <td>1</td>\n",
              "      <td>2</td>\n",
              "      <td>4</td>\n",
              "      <td>5</td>\n",
              "      <td>4</td>\n",
              "      <td>1</td>\n",
              "      <td>4</td>\n",
              "      <td>5</td>\n",
              "      <td>5</td>\n",
              "      <td>5</td>\n",
              "      <td>1</td>\n",
              "      <td>4</td>\n",
              "      <td>5</td>\n",
              "      <td>6</td>\n",
              "      <td>7</td>\n",
              "      <td>7</td>\n",
              "      <td>5</td>\n",
              "      <td>7</td>\n",
              "      <td>6</td>\n",
              "      <td>5</td>\n",
              "      <td>1</td>\n",
              "      <td>5</td>\n",
              "      <td>1</td>\n",
              "      <td>3</td>\n",
              "      <td>1</td>\n",
              "      <td>1</td>\n",
              "      <td>1</td>\n",
              "      <td>25</td>\n",
              "      <td>1</td>\n",
              "      <td>12</td>\n",
              "      <td>1</td>\n",
              "      <td>4</td>\n",
              "      <td>1</td>\n",
              "      <td>1</td>\n",
              "      <td>3</td>\n",
              "    </tr>\n",
              "    <tr>\n",
              "      <th>4</th>\n",
              "      <td>5</td>\n",
              "      <td>4</td>\n",
              "      <td>1</td>\n",
              "      <td>4</td>\n",
              "      <td>4</td>\n",
              "      <td>5</td>\n",
              "      <td>4</td>\n",
              "      <td>3</td>\n",
              "      <td>1</td>\n",
              "      <td>5</td>\n",
              "      <td>5</td>\n",
              "      <td>5</td>\n",
              "      <td>3</td>\n",
              "      <td>5</td>\n",
              "      <td>5</td>\n",
              "      <td>1</td>\n",
              "      <td>3</td>\n",
              "      <td>7</td>\n",
              "      <td>2</td>\n",
              "      <td>6</td>\n",
              "      <td>4</td>\n",
              "      <td>5</td>\n",
              "      <td>5</td>\n",
              "      <td>5</td>\n",
              "      <td>3</td>\n",
              "      <td>2</td>\n",
              "      <td>2</td>\n",
              "      <td>1</td>\n",
              "      <td>1</td>\n",
              "      <td>37</td>\n",
              "      <td>1</td>\n",
              "      <td>2</td>\n",
              "      <td>2</td>\n",
              "      <td>4</td>\n",
              "      <td>2</td>\n",
              "      <td>2</td>\n",
              "      <td>2</td>\n",
              "    </tr>\n",
              "  </tbody>\n",
              "</table>\n",
              "</div>"
            ],
            "text/plain": [
              "   Q1  Q2  Q3  Q4  Q5  ...  orientation  race  voted  married  familysize\n",
              "0   5   5   3   5   5  ...            1     5      2        1           1\n",
              "1   5   5   5   5   5  ...            2     4      2        1           1\n",
              "2   2   4   1   2   2  ...            1     4      1        1           2\n",
              "3   5   4   1   2   4  ...            1     4      1        1           3\n",
              "4   5   4   1   4   4  ...            2     4      2        2           2\n",
              "\n",
              "[5 rows x 37 columns]"
            ]
          },
          "metadata": {},
          "execution_count": 15
        }
      ]
    },
    {
      "cell_type": "code",
      "metadata": {
        "colab": {
          "base_uri": "https://localhost:8080/"
        },
        "id": "62MFV2A2SzrY",
        "outputId": "97214d44-6440-4e28-eb74-1991d08ce666"
      },
      "source": [
        "2495 - np.count_nonzero(df_reduced, axis=0)"
      ],
      "execution_count": 16,
      "outputs": [
        {
          "output_type": "execute_result",
          "data": {
            "text/plain": [
              "array([ 2, 13,  8,  6, 10,  5,  7, 10, 10,  0,  9, 11, 13,  3,  1, 14, 15,\n",
              "       15, 17, 13, 14, 14, 16, 15, 16, 38, 39,  6,  8,  0, 13, 31, 39, 25,\n",
              "       23, 16, 47])"
            ]
          },
          "metadata": {},
          "execution_count": 16
        }
      ]
    },
    {
      "cell_type": "markdown",
      "metadata": {
        "id": "_BSJ5YULXpfG"
      },
      "source": [
        "Not too many missing values for each relevant column. Let's check how many rows have no missing value in any of the columns."
      ]
    },
    {
      "cell_type": "code",
      "metadata": {
        "colab": {
          "base_uri": "https://localhost:8080/"
        },
        "id": "DW1LasYFYv0l",
        "outputId": "2cc86db2-0598-4bc7-d937-bd13ef36db48"
      },
      "source": [
        "(df_reduced!=0).all(axis=1).sum()"
      ],
      "execution_count": 17,
      "outputs": [
        {
          "output_type": "execute_result",
          "data": {
            "text/plain": [
              "2176"
            ]
          },
          "metadata": {},
          "execution_count": 17
        }
      ]
    },
    {
      "cell_type": "markdown",
      "metadata": {
        "id": "BIbDQm7tuZc9"
      },
      "source": [
        "There are enough data with no missing value in any of the columns, so it is appropriate to just eliminate those rows with missing values.\n",
        " "
      ]
    },
    {
      "cell_type": "code",
      "metadata": {
        "colab": {
          "base_uri": "https://localhost:8080/",
          "height": 224
        },
        "id": "o-m4wmVOuy0-",
        "outputId": "aa98abad-aff4-40af-946b-6af2e1bbe676"
      },
      "source": [
        "df_new = df_reduced[(df_reduced!=0).all(axis=1)]\n",
        "df_new.reset_index(drop=True, inplace=True)\n",
        "df_new.head()"
      ],
      "execution_count": 18,
      "outputs": [
        {
          "output_type": "execute_result",
          "data": {
            "text/html": [
              "<div>\n",
              "<style scoped>\n",
              "    .dataframe tbody tr th:only-of-type {\n",
              "        vertical-align: middle;\n",
              "    }\n",
              "\n",
              "    .dataframe tbody tr th {\n",
              "        vertical-align: top;\n",
              "    }\n",
              "\n",
              "    .dataframe thead th {\n",
              "        text-align: right;\n",
              "    }\n",
              "</style>\n",
              "<table border=\"1\" class=\"dataframe\">\n",
              "  <thead>\n",
              "    <tr style=\"text-align: right;\">\n",
              "      <th></th>\n",
              "      <th>Q1</th>\n",
              "      <th>Q2</th>\n",
              "      <th>Q3</th>\n",
              "      <th>Q4</th>\n",
              "      <th>Q5</th>\n",
              "      <th>Q6</th>\n",
              "      <th>Q7</th>\n",
              "      <th>Q8</th>\n",
              "      <th>Q9</th>\n",
              "      <th>Q10</th>\n",
              "      <th>Q11</th>\n",
              "      <th>Q12</th>\n",
              "      <th>Q13</th>\n",
              "      <th>Q14</th>\n",
              "      <th>Q15</th>\n",
              "      <th>TIPI1</th>\n",
              "      <th>TIPI2</th>\n",
              "      <th>TIPI3</th>\n",
              "      <th>TIPI4</th>\n",
              "      <th>TIPI5</th>\n",
              "      <th>TIPI6</th>\n",
              "      <th>TIPI7</th>\n",
              "      <th>TIPI8</th>\n",
              "      <th>TIPI9</th>\n",
              "      <th>TIPI10</th>\n",
              "      <th>education</th>\n",
              "      <th>urban</th>\n",
              "      <th>gender</th>\n",
              "      <th>engnat</th>\n",
              "      <th>age</th>\n",
              "      <th>hand</th>\n",
              "      <th>religion</th>\n",
              "      <th>orientation</th>\n",
              "      <th>race</th>\n",
              "      <th>voted</th>\n",
              "      <th>married</th>\n",
              "      <th>familysize</th>\n",
              "    </tr>\n",
              "  </thead>\n",
              "  <tbody>\n",
              "    <tr>\n",
              "      <th>0</th>\n",
              "      <td>5</td>\n",
              "      <td>5</td>\n",
              "      <td>5</td>\n",
              "      <td>5</td>\n",
              "      <td>5</td>\n",
              "      <td>3</td>\n",
              "      <td>5</td>\n",
              "      <td>5</td>\n",
              "      <td>1</td>\n",
              "      <td>4</td>\n",
              "      <td>4</td>\n",
              "      <td>5</td>\n",
              "      <td>4</td>\n",
              "      <td>4</td>\n",
              "      <td>5</td>\n",
              "      <td>6</td>\n",
              "      <td>7</td>\n",
              "      <td>6</td>\n",
              "      <td>7</td>\n",
              "      <td>6</td>\n",
              "      <td>3</td>\n",
              "      <td>7</td>\n",
              "      <td>5</td>\n",
              "      <td>1</td>\n",
              "      <td>1</td>\n",
              "      <td>1</td>\n",
              "      <td>2</td>\n",
              "      <td>2</td>\n",
              "      <td>1</td>\n",
              "      <td>14</td>\n",
              "      <td>1</td>\n",
              "      <td>1</td>\n",
              "      <td>2</td>\n",
              "      <td>4</td>\n",
              "      <td>2</td>\n",
              "      <td>1</td>\n",
              "      <td>1</td>\n",
              "    </tr>\n",
              "    <tr>\n",
              "      <th>1</th>\n",
              "      <td>5</td>\n",
              "      <td>4</td>\n",
              "      <td>1</td>\n",
              "      <td>2</td>\n",
              "      <td>4</td>\n",
              "      <td>5</td>\n",
              "      <td>4</td>\n",
              "      <td>1</td>\n",
              "      <td>4</td>\n",
              "      <td>5</td>\n",
              "      <td>5</td>\n",
              "      <td>5</td>\n",
              "      <td>1</td>\n",
              "      <td>4</td>\n",
              "      <td>5</td>\n",
              "      <td>6</td>\n",
              "      <td>7</td>\n",
              "      <td>7</td>\n",
              "      <td>5</td>\n",
              "      <td>7</td>\n",
              "      <td>6</td>\n",
              "      <td>5</td>\n",
              "      <td>1</td>\n",
              "      <td>5</td>\n",
              "      <td>1</td>\n",
              "      <td>3</td>\n",
              "      <td>1</td>\n",
              "      <td>1</td>\n",
              "      <td>1</td>\n",
              "      <td>25</td>\n",
              "      <td>1</td>\n",
              "      <td>12</td>\n",
              "      <td>1</td>\n",
              "      <td>4</td>\n",
              "      <td>1</td>\n",
              "      <td>1</td>\n",
              "      <td>3</td>\n",
              "    </tr>\n",
              "    <tr>\n",
              "      <th>2</th>\n",
              "      <td>5</td>\n",
              "      <td>4</td>\n",
              "      <td>1</td>\n",
              "      <td>4</td>\n",
              "      <td>4</td>\n",
              "      <td>5</td>\n",
              "      <td>4</td>\n",
              "      <td>3</td>\n",
              "      <td>1</td>\n",
              "      <td>5</td>\n",
              "      <td>5</td>\n",
              "      <td>5</td>\n",
              "      <td>3</td>\n",
              "      <td>5</td>\n",
              "      <td>5</td>\n",
              "      <td>1</td>\n",
              "      <td>3</td>\n",
              "      <td>7</td>\n",
              "      <td>2</td>\n",
              "      <td>6</td>\n",
              "      <td>4</td>\n",
              "      <td>5</td>\n",
              "      <td>5</td>\n",
              "      <td>5</td>\n",
              "      <td>3</td>\n",
              "      <td>2</td>\n",
              "      <td>2</td>\n",
              "      <td>1</td>\n",
              "      <td>1</td>\n",
              "      <td>37</td>\n",
              "      <td>1</td>\n",
              "      <td>2</td>\n",
              "      <td>2</td>\n",
              "      <td>4</td>\n",
              "      <td>2</td>\n",
              "      <td>2</td>\n",
              "      <td>2</td>\n",
              "    </tr>\n",
              "    <tr>\n",
              "      <th>3</th>\n",
              "      <td>1</td>\n",
              "      <td>1</td>\n",
              "      <td>1</td>\n",
              "      <td>1</td>\n",
              "      <td>1</td>\n",
              "      <td>1</td>\n",
              "      <td>1</td>\n",
              "      <td>1</td>\n",
              "      <td>1</td>\n",
              "      <td>1</td>\n",
              "      <td>1</td>\n",
              "      <td>1</td>\n",
              "      <td>1</td>\n",
              "      <td>1</td>\n",
              "      <td>1</td>\n",
              "      <td>4</td>\n",
              "      <td>2</td>\n",
              "      <td>6</td>\n",
              "      <td>2</td>\n",
              "      <td>6</td>\n",
              "      <td>5</td>\n",
              "      <td>6</td>\n",
              "      <td>3</td>\n",
              "      <td>6</td>\n",
              "      <td>2</td>\n",
              "      <td>3</td>\n",
              "      <td>1</td>\n",
              "      <td>1</td>\n",
              "      <td>1</td>\n",
              "      <td>34</td>\n",
              "      <td>1</td>\n",
              "      <td>7</td>\n",
              "      <td>1</td>\n",
              "      <td>4</td>\n",
              "      <td>1</td>\n",
              "      <td>2</td>\n",
              "      <td>2</td>\n",
              "    </tr>\n",
              "    <tr>\n",
              "      <th>4</th>\n",
              "      <td>4</td>\n",
              "      <td>3</td>\n",
              "      <td>3</td>\n",
              "      <td>3</td>\n",
              "      <td>4</td>\n",
              "      <td>3</td>\n",
              "      <td>3</td>\n",
              "      <td>4</td>\n",
              "      <td>2</td>\n",
              "      <td>3</td>\n",
              "      <td>3</td>\n",
              "      <td>2</td>\n",
              "      <td>2</td>\n",
              "      <td>3</td>\n",
              "      <td>4</td>\n",
              "      <td>2</td>\n",
              "      <td>5</td>\n",
              "      <td>4</td>\n",
              "      <td>2</td>\n",
              "      <td>5</td>\n",
              "      <td>6</td>\n",
              "      <td>2</td>\n",
              "      <td>3</td>\n",
              "      <td>5</td>\n",
              "      <td>5</td>\n",
              "      <td>2</td>\n",
              "      <td>2</td>\n",
              "      <td>1</td>\n",
              "      <td>1</td>\n",
              "      <td>17</td>\n",
              "      <td>1</td>\n",
              "      <td>1</td>\n",
              "      <td>1</td>\n",
              "      <td>4</td>\n",
              "      <td>2</td>\n",
              "      <td>1</td>\n",
              "      <td>2</td>\n",
              "    </tr>\n",
              "  </tbody>\n",
              "</table>\n",
              "</div>"
            ],
            "text/plain": [
              "   Q1  Q2  Q3  Q4  Q5  ...  orientation  race  voted  married  familysize\n",
              "0   5   5   5   5   5  ...            2     4      2        1           1\n",
              "1   5   4   1   2   4  ...            1     4      1        1           3\n",
              "2   5   4   1   4   4  ...            2     4      2        2           2\n",
              "3   1   1   1   1   1  ...            1     4      1        2           2\n",
              "4   4   3   3   3   4  ...            1     4      2        1           2\n",
              "\n",
              "[5 rows x 37 columns]"
            ]
          },
          "metadata": {},
          "execution_count": 18
        }
      ]
    },
    {
      "cell_type": "markdown",
      "metadata": {
        "id": "2gflArEDbUGd"
      },
      "source": [
        "Let's check the summary statistics for the reduced dataset."
      ]
    },
    {
      "cell_type": "code",
      "metadata": {
        "colab": {
          "base_uri": "https://localhost:8080/",
          "height": 317
        },
        "id": "l5YxWi4ebiXc",
        "outputId": "2503e8c3-4cda-4092-afff-5f6eee8b7c32"
      },
      "source": [
        "df_new.describe()"
      ],
      "execution_count": 19,
      "outputs": [
        {
          "output_type": "execute_result",
          "data": {
            "text/html": [
              "<div>\n",
              "<style scoped>\n",
              "    .dataframe tbody tr th:only-of-type {\n",
              "        vertical-align: middle;\n",
              "    }\n",
              "\n",
              "    .dataframe tbody tr th {\n",
              "        vertical-align: top;\n",
              "    }\n",
              "\n",
              "    .dataframe thead th {\n",
              "        text-align: right;\n",
              "    }\n",
              "</style>\n",
              "<table border=\"1\" class=\"dataframe\">\n",
              "  <thead>\n",
              "    <tr style=\"text-align: right;\">\n",
              "      <th></th>\n",
              "      <th>Q1</th>\n",
              "      <th>Q2</th>\n",
              "      <th>Q3</th>\n",
              "      <th>Q4</th>\n",
              "      <th>Q5</th>\n",
              "      <th>Q6</th>\n",
              "      <th>Q7</th>\n",
              "      <th>Q8</th>\n",
              "      <th>Q9</th>\n",
              "      <th>Q10</th>\n",
              "      <th>Q11</th>\n",
              "      <th>Q12</th>\n",
              "      <th>Q13</th>\n",
              "      <th>Q14</th>\n",
              "      <th>Q15</th>\n",
              "      <th>TIPI1</th>\n",
              "      <th>TIPI2</th>\n",
              "      <th>TIPI3</th>\n",
              "      <th>TIPI4</th>\n",
              "      <th>TIPI5</th>\n",
              "      <th>TIPI6</th>\n",
              "      <th>TIPI7</th>\n",
              "      <th>TIPI8</th>\n",
              "      <th>TIPI9</th>\n",
              "      <th>TIPI10</th>\n",
              "      <th>education</th>\n",
              "      <th>urban</th>\n",
              "      <th>gender</th>\n",
              "      <th>engnat</th>\n",
              "      <th>age</th>\n",
              "      <th>hand</th>\n",
              "      <th>religion</th>\n",
              "      <th>orientation</th>\n",
              "      <th>race</th>\n",
              "      <th>voted</th>\n",
              "      <th>married</th>\n",
              "      <th>familysize</th>\n",
              "    </tr>\n",
              "  </thead>\n",
              "  <tbody>\n",
              "    <tr>\n",
              "      <th>count</th>\n",
              "      <td>2176.000000</td>\n",
              "      <td>2176.000000</td>\n",
              "      <td>2176.000000</td>\n",
              "      <td>2176.000000</td>\n",
              "      <td>2176.000000</td>\n",
              "      <td>2176.000000</td>\n",
              "      <td>2176.000000</td>\n",
              "      <td>2176.000000</td>\n",
              "      <td>2176.000000</td>\n",
              "      <td>2176.000000</td>\n",
              "      <td>2176.000000</td>\n",
              "      <td>2176.000000</td>\n",
              "      <td>2176.000000</td>\n",
              "      <td>2176.000000</td>\n",
              "      <td>2176.000000</td>\n",
              "      <td>2176.000000</td>\n",
              "      <td>2176.000000</td>\n",
              "      <td>2176.000000</td>\n",
              "      <td>2176.000000</td>\n",
              "      <td>2176.000000</td>\n",
              "      <td>2176.000000</td>\n",
              "      <td>2176.000000</td>\n",
              "      <td>2176.000000</td>\n",
              "      <td>2176.000000</td>\n",
              "      <td>2176.000000</td>\n",
              "      <td>2176.000000</td>\n",
              "      <td>2176.000000</td>\n",
              "      <td>2176.000000</td>\n",
              "      <td>2176.000000</td>\n",
              "      <td>2176.000000</td>\n",
              "      <td>2176.000000</td>\n",
              "      <td>2176.00000</td>\n",
              "      <td>2176.000000</td>\n",
              "      <td>2176.000000</td>\n",
              "      <td>2176.000000</td>\n",
              "      <td>2176.000000</td>\n",
              "      <td>2176.000000</td>\n",
              "    </tr>\n",
              "    <tr>\n",
              "      <th>mean</th>\n",
              "      <td>3.480699</td>\n",
              "      <td>2.966912</td>\n",
              "      <td>2.034007</td>\n",
              "      <td>2.622702</td>\n",
              "      <td>3.255515</td>\n",
              "      <td>3.112132</td>\n",
              "      <td>2.642004</td>\n",
              "      <td>2.444393</td>\n",
              "      <td>2.209099</td>\n",
              "      <td>3.509191</td>\n",
              "      <td>3.282629</td>\n",
              "      <td>2.627757</td>\n",
              "      <td>2.099724</td>\n",
              "      <td>2.926930</td>\n",
              "      <td>4.240809</td>\n",
              "      <td>3.472426</td>\n",
              "      <td>4.418658</td>\n",
              "      <td>4.793199</td>\n",
              "      <td>4.361213</td>\n",
              "      <td>5.661305</td>\n",
              "      <td>5.052849</td>\n",
              "      <td>4.974265</td>\n",
              "      <td>4.068934</td>\n",
              "      <td>4.392004</td>\n",
              "      <td>2.552849</td>\n",
              "      <td>2.364430</td>\n",
              "      <td>2.150735</td>\n",
              "      <td>1.556985</td>\n",
              "      <td>1.247243</td>\n",
              "      <td>42.885570</td>\n",
              "      <td>1.188419</td>\n",
              "      <td>4.22886</td>\n",
              "      <td>1.685662</td>\n",
              "      <td>3.880515</td>\n",
              "      <td>1.675551</td>\n",
              "      <td>1.260570</td>\n",
              "      <td>2.574449</td>\n",
              "    </tr>\n",
              "    <tr>\n",
              "      <th>std</th>\n",
              "      <td>1.445276</td>\n",
              "      <td>1.478990</td>\n",
              "      <td>1.375230</td>\n",
              "      <td>1.452266</td>\n",
              "      <td>1.459953</td>\n",
              "      <td>1.497682</td>\n",
              "      <td>1.499137</td>\n",
              "      <td>1.560028</td>\n",
              "      <td>1.399813</td>\n",
              "      <td>1.378624</td>\n",
              "      <td>1.382183</td>\n",
              "      <td>1.496123</td>\n",
              "      <td>1.368842</td>\n",
              "      <td>1.479575</td>\n",
              "      <td>1.084863</td>\n",
              "      <td>1.966191</td>\n",
              "      <td>1.822920</td>\n",
              "      <td>1.723794</td>\n",
              "      <td>2.023549</td>\n",
              "      <td>1.343076</td>\n",
              "      <td>1.806365</td>\n",
              "      <td>1.722409</td>\n",
              "      <td>1.882241</td>\n",
              "      <td>1.899137</td>\n",
              "      <td>1.631292</td>\n",
              "      <td>0.908202</td>\n",
              "      <td>0.718414</td>\n",
              "      <td>0.593812</td>\n",
              "      <td>0.431508</td>\n",
              "      <td>723.446953</td>\n",
              "      <td>0.486483</td>\n",
              "      <td>3.70126</td>\n",
              "      <td>1.157682</td>\n",
              "      <td>0.849323</td>\n",
              "      <td>0.468276</td>\n",
              "      <td>0.537879</td>\n",
              "      <td>1.345907</td>\n",
              "    </tr>\n",
              "    <tr>\n",
              "      <th>min</th>\n",
              "      <td>1.000000</td>\n",
              "      <td>1.000000</td>\n",
              "      <td>1.000000</td>\n",
              "      <td>1.000000</td>\n",
              "      <td>1.000000</td>\n",
              "      <td>1.000000</td>\n",
              "      <td>1.000000</td>\n",
              "      <td>1.000000</td>\n",
              "      <td>1.000000</td>\n",
              "      <td>1.000000</td>\n",
              "      <td>1.000000</td>\n",
              "      <td>1.000000</td>\n",
              "      <td>1.000000</td>\n",
              "      <td>1.000000</td>\n",
              "      <td>1.000000</td>\n",
              "      <td>1.000000</td>\n",
              "      <td>1.000000</td>\n",
              "      <td>1.000000</td>\n",
              "      <td>1.000000</td>\n",
              "      <td>1.000000</td>\n",
              "      <td>1.000000</td>\n",
              "      <td>1.000000</td>\n",
              "      <td>1.000000</td>\n",
              "      <td>1.000000</td>\n",
              "      <td>1.000000</td>\n",
              "      <td>1.000000</td>\n",
              "      <td>1.000000</td>\n",
              "      <td>1.000000</td>\n",
              "      <td>1.000000</td>\n",
              "      <td>13.000000</td>\n",
              "      <td>1.000000</td>\n",
              "      <td>1.00000</td>\n",
              "      <td>1.000000</td>\n",
              "      <td>1.000000</td>\n",
              "      <td>1.000000</td>\n",
              "      <td>1.000000</td>\n",
              "      <td>1.000000</td>\n",
              "    </tr>\n",
              "    <tr>\n",
              "      <th>25%</th>\n",
              "      <td>2.000000</td>\n",
              "      <td>2.000000</td>\n",
              "      <td>1.000000</td>\n",
              "      <td>1.000000</td>\n",
              "      <td>2.000000</td>\n",
              "      <td>2.000000</td>\n",
              "      <td>1.000000</td>\n",
              "      <td>1.000000</td>\n",
              "      <td>1.000000</td>\n",
              "      <td>2.000000</td>\n",
              "      <td>2.000000</td>\n",
              "      <td>1.000000</td>\n",
              "      <td>1.000000</td>\n",
              "      <td>1.000000</td>\n",
              "      <td>4.000000</td>\n",
              "      <td>2.000000</td>\n",
              "      <td>3.000000</td>\n",
              "      <td>3.000000</td>\n",
              "      <td>2.000000</td>\n",
              "      <td>5.000000</td>\n",
              "      <td>4.000000</td>\n",
              "      <td>4.000000</td>\n",
              "      <td>2.000000</td>\n",
              "      <td>3.000000</td>\n",
              "      <td>1.000000</td>\n",
              "      <td>2.000000</td>\n",
              "      <td>2.000000</td>\n",
              "      <td>1.000000</td>\n",
              "      <td>1.000000</td>\n",
              "      <td>18.000000</td>\n",
              "      <td>1.000000</td>\n",
              "      <td>1.00000</td>\n",
              "      <td>1.000000</td>\n",
              "      <td>4.000000</td>\n",
              "      <td>1.000000</td>\n",
              "      <td>1.000000</td>\n",
              "      <td>2.000000</td>\n",
              "    </tr>\n",
              "    <tr>\n",
              "      <th>50%</th>\n",
              "      <td>4.000000</td>\n",
              "      <td>3.000000</td>\n",
              "      <td>1.000000</td>\n",
              "      <td>2.000000</td>\n",
              "      <td>4.000000</td>\n",
              "      <td>3.000000</td>\n",
              "      <td>2.000000</td>\n",
              "      <td>2.000000</td>\n",
              "      <td>2.000000</td>\n",
              "      <td>4.000000</td>\n",
              "      <td>4.000000</td>\n",
              "      <td>2.000000</td>\n",
              "      <td>1.000000</td>\n",
              "      <td>3.000000</td>\n",
              "      <td>5.000000</td>\n",
              "      <td>3.000000</td>\n",
              "      <td>5.000000</td>\n",
              "      <td>5.000000</td>\n",
              "      <td>5.000000</td>\n",
              "      <td>6.000000</td>\n",
              "      <td>5.000000</td>\n",
              "      <td>5.000000</td>\n",
              "      <td>5.000000</td>\n",
              "      <td>5.000000</td>\n",
              "      <td>2.000000</td>\n",
              "      <td>2.000000</td>\n",
              "      <td>2.000000</td>\n",
              "      <td>2.000000</td>\n",
              "      <td>1.000000</td>\n",
              "      <td>22.000000</td>\n",
              "      <td>1.000000</td>\n",
              "      <td>2.00000</td>\n",
              "      <td>1.000000</td>\n",
              "      <td>4.000000</td>\n",
              "      <td>2.000000</td>\n",
              "      <td>1.000000</td>\n",
              "      <td>2.000000</td>\n",
              "    </tr>\n",
              "    <tr>\n",
              "      <th>75%</th>\n",
              "      <td>5.000000</td>\n",
              "      <td>4.000000</td>\n",
              "      <td>3.000000</td>\n",
              "      <td>4.000000</td>\n",
              "      <td>5.000000</td>\n",
              "      <td>4.000000</td>\n",
              "      <td>4.000000</td>\n",
              "      <td>4.000000</td>\n",
              "      <td>3.000000</td>\n",
              "      <td>5.000000</td>\n",
              "      <td>4.000000</td>\n",
              "      <td>4.000000</td>\n",
              "      <td>3.000000</td>\n",
              "      <td>4.000000</td>\n",
              "      <td>5.000000</td>\n",
              "      <td>5.000000</td>\n",
              "      <td>6.000000</td>\n",
              "      <td>6.000000</td>\n",
              "      <td>6.000000</td>\n",
              "      <td>7.000000</td>\n",
              "      <td>7.000000</td>\n",
              "      <td>6.000000</td>\n",
              "      <td>5.000000</td>\n",
              "      <td>6.000000</td>\n",
              "      <td>3.000000</td>\n",
              "      <td>3.000000</td>\n",
              "      <td>3.000000</td>\n",
              "      <td>2.000000</td>\n",
              "      <td>1.000000</td>\n",
              "      <td>34.000000</td>\n",
              "      <td>1.000000</td>\n",
              "      <td>6.00000</td>\n",
              "      <td>2.000000</td>\n",
              "      <td>4.000000</td>\n",
              "      <td>2.000000</td>\n",
              "      <td>1.000000</td>\n",
              "      <td>3.000000</td>\n",
              "    </tr>\n",
              "    <tr>\n",
              "      <th>max</th>\n",
              "      <td>5.000000</td>\n",
              "      <td>5.000000</td>\n",
              "      <td>5.000000</td>\n",
              "      <td>5.000000</td>\n",
              "      <td>5.000000</td>\n",
              "      <td>5.000000</td>\n",
              "      <td>5.000000</td>\n",
              "      <td>5.000000</td>\n",
              "      <td>5.000000</td>\n",
              "      <td>5.000000</td>\n",
              "      <td>5.000000</td>\n",
              "      <td>5.000000</td>\n",
              "      <td>5.000000</td>\n",
              "      <td>5.000000</td>\n",
              "      <td>5.000000</td>\n",
              "      <td>7.000000</td>\n",
              "      <td>7.000000</td>\n",
              "      <td>7.000000</td>\n",
              "      <td>7.000000</td>\n",
              "      <td>7.000000</td>\n",
              "      <td>7.000000</td>\n",
              "      <td>7.000000</td>\n",
              "      <td>7.000000</td>\n",
              "      <td>7.000000</td>\n",
              "      <td>7.000000</td>\n",
              "      <td>4.000000</td>\n",
              "      <td>3.000000</td>\n",
              "      <td>3.000000</td>\n",
              "      <td>2.000000</td>\n",
              "      <td>33769.000000</td>\n",
              "      <td>3.000000</td>\n",
              "      <td>12.00000</td>\n",
              "      <td>5.000000</td>\n",
              "      <td>5.000000</td>\n",
              "      <td>2.000000</td>\n",
              "      <td>3.000000</td>\n",
              "      <td>19.000000</td>\n",
              "    </tr>\n",
              "  </tbody>\n",
              "</table>\n",
              "</div>"
            ],
            "text/plain": [
              "                Q1           Q2  ...      married   familysize\n",
              "count  2176.000000  2176.000000  ...  2176.000000  2176.000000\n",
              "mean      3.480699     2.966912  ...     1.260570     2.574449\n",
              "std       1.445276     1.478990  ...     0.537879     1.345907\n",
              "min       1.000000     1.000000  ...     1.000000     1.000000\n",
              "25%       2.000000     2.000000  ...     1.000000     2.000000\n",
              "50%       4.000000     3.000000  ...     1.000000     2.000000\n",
              "75%       5.000000     4.000000  ...     1.000000     3.000000\n",
              "max       5.000000     5.000000  ...     3.000000    19.000000\n",
              "\n",
              "[8 rows x 37 columns]"
            ]
          },
          "metadata": {},
          "execution_count": 19
        }
      ]
    },
    {
      "cell_type": "markdown",
      "metadata": {
        "id": "hqbwnFURb2KA"
      },
      "source": [
        "After careful investigation of the summary statistics, I noticed an impossible outlier (33769.000000) in the variable \"age\". Let's look into that column. "
      ]
    },
    {
      "cell_type": "code",
      "metadata": {
        "colab": {
          "base_uri": "https://localhost:8080/",
          "height": 457
        },
        "id": "lpeflGt7cn-A",
        "outputId": "e9b1b9f8-3944-417a-cd2e-194bacb4524b"
      },
      "source": [
        "age_max = df_new['age'].max()  \n",
        "print(age_max)\n",
        "df_new.sort_values(by='age', ascending=False) #only one invalid value"
      ],
      "execution_count": 20,
      "outputs": [
        {
          "output_type": "stream",
          "name": "stdout",
          "text": [
            "33769\n"
          ]
        },
        {
          "output_type": "execute_result",
          "data": {
            "text/html": [
              "<div>\n",
              "<style scoped>\n",
              "    .dataframe tbody tr th:only-of-type {\n",
              "        vertical-align: middle;\n",
              "    }\n",
              "\n",
              "    .dataframe tbody tr th {\n",
              "        vertical-align: top;\n",
              "    }\n",
              "\n",
              "    .dataframe thead th {\n",
              "        text-align: right;\n",
              "    }\n",
              "</style>\n",
              "<table border=\"1\" class=\"dataframe\">\n",
              "  <thead>\n",
              "    <tr style=\"text-align: right;\">\n",
              "      <th></th>\n",
              "      <th>Q1</th>\n",
              "      <th>Q2</th>\n",
              "      <th>Q3</th>\n",
              "      <th>Q4</th>\n",
              "      <th>Q5</th>\n",
              "      <th>Q6</th>\n",
              "      <th>Q7</th>\n",
              "      <th>Q8</th>\n",
              "      <th>Q9</th>\n",
              "      <th>Q10</th>\n",
              "      <th>Q11</th>\n",
              "      <th>Q12</th>\n",
              "      <th>Q13</th>\n",
              "      <th>Q14</th>\n",
              "      <th>Q15</th>\n",
              "      <th>TIPI1</th>\n",
              "      <th>TIPI2</th>\n",
              "      <th>TIPI3</th>\n",
              "      <th>TIPI4</th>\n",
              "      <th>TIPI5</th>\n",
              "      <th>TIPI6</th>\n",
              "      <th>TIPI7</th>\n",
              "      <th>TIPI8</th>\n",
              "      <th>TIPI9</th>\n",
              "      <th>TIPI10</th>\n",
              "      <th>education</th>\n",
              "      <th>urban</th>\n",
              "      <th>gender</th>\n",
              "      <th>engnat</th>\n",
              "      <th>age</th>\n",
              "      <th>hand</th>\n",
              "      <th>religion</th>\n",
              "      <th>orientation</th>\n",
              "      <th>race</th>\n",
              "      <th>voted</th>\n",
              "      <th>married</th>\n",
              "      <th>familysize</th>\n",
              "    </tr>\n",
              "  </thead>\n",
              "  <tbody>\n",
              "    <tr>\n",
              "      <th>1946</th>\n",
              "      <td>5</td>\n",
              "      <td>5</td>\n",
              "      <td>5</td>\n",
              "      <td>5</td>\n",
              "      <td>5</td>\n",
              "      <td>5</td>\n",
              "      <td>5</td>\n",
              "      <td>5</td>\n",
              "      <td>5</td>\n",
              "      <td>5</td>\n",
              "      <td>5</td>\n",
              "      <td>5</td>\n",
              "      <td>5</td>\n",
              "      <td>5</td>\n",
              "      <td>5</td>\n",
              "      <td>6</td>\n",
              "      <td>6</td>\n",
              "      <td>6</td>\n",
              "      <td>4</td>\n",
              "      <td>7</td>\n",
              "      <td>2</td>\n",
              "      <td>4</td>\n",
              "      <td>2</td>\n",
              "      <td>4</td>\n",
              "      <td>2</td>\n",
              "      <td>4</td>\n",
              "      <td>3</td>\n",
              "      <td>1</td>\n",
              "      <td>2</td>\n",
              "      <td>33769</td>\n",
              "      <td>1</td>\n",
              "      <td>2</td>\n",
              "      <td>2</td>\n",
              "      <td>5</td>\n",
              "      <td>2</td>\n",
              "      <td>3</td>\n",
              "      <td>5</td>\n",
              "    </tr>\n",
              "    <tr>\n",
              "      <th>1079</th>\n",
              "      <td>2</td>\n",
              "      <td>4</td>\n",
              "      <td>1</td>\n",
              "      <td>4</td>\n",
              "      <td>4</td>\n",
              "      <td>4</td>\n",
              "      <td>4</td>\n",
              "      <td>2</td>\n",
              "      <td>2</td>\n",
              "      <td>4</td>\n",
              "      <td>2</td>\n",
              "      <td>4</td>\n",
              "      <td>2</td>\n",
              "      <td>3</td>\n",
              "      <td>4</td>\n",
              "      <td>6</td>\n",
              "      <td>5</td>\n",
              "      <td>3</td>\n",
              "      <td>3</td>\n",
              "      <td>5</td>\n",
              "      <td>2</td>\n",
              "      <td>5</td>\n",
              "      <td>5</td>\n",
              "      <td>3</td>\n",
              "      <td>2</td>\n",
              "      <td>2</td>\n",
              "      <td>1</td>\n",
              "      <td>1</td>\n",
              "      <td>1</td>\n",
              "      <td>75</td>\n",
              "      <td>1</td>\n",
              "      <td>6</td>\n",
              "      <td>1</td>\n",
              "      <td>4</td>\n",
              "      <td>2</td>\n",
              "      <td>3</td>\n",
              "      <td>4</td>\n",
              "    </tr>\n",
              "    <tr>\n",
              "      <th>369</th>\n",
              "      <td>1</td>\n",
              "      <td>1</td>\n",
              "      <td>1</td>\n",
              "      <td>1</td>\n",
              "      <td>1</td>\n",
              "      <td>1</td>\n",
              "      <td>1</td>\n",
              "      <td>1</td>\n",
              "      <td>3</td>\n",
              "      <td>1</td>\n",
              "      <td>1</td>\n",
              "      <td>2</td>\n",
              "      <td>1</td>\n",
              "      <td>1</td>\n",
              "      <td>4</td>\n",
              "      <td>6</td>\n",
              "      <td>4</td>\n",
              "      <td>5</td>\n",
              "      <td>5</td>\n",
              "      <td>6</td>\n",
              "      <td>5</td>\n",
              "      <td>7</td>\n",
              "      <td>2</td>\n",
              "      <td>5</td>\n",
              "      <td>1</td>\n",
              "      <td>4</td>\n",
              "      <td>3</td>\n",
              "      <td>1</td>\n",
              "      <td>1</td>\n",
              "      <td>75</td>\n",
              "      <td>2</td>\n",
              "      <td>2</td>\n",
              "      <td>2</td>\n",
              "      <td>4</td>\n",
              "      <td>1</td>\n",
              "      <td>2</td>\n",
              "      <td>2</td>\n",
              "    </tr>\n",
              "    <tr>\n",
              "      <th>1471</th>\n",
              "      <td>5</td>\n",
              "      <td>4</td>\n",
              "      <td>2</td>\n",
              "      <td>2</td>\n",
              "      <td>5</td>\n",
              "      <td>3</td>\n",
              "      <td>4</td>\n",
              "      <td>2</td>\n",
              "      <td>4</td>\n",
              "      <td>3</td>\n",
              "      <td>3</td>\n",
              "      <td>4</td>\n",
              "      <td>3</td>\n",
              "      <td>3</td>\n",
              "      <td>5</td>\n",
              "      <td>2</td>\n",
              "      <td>2</td>\n",
              "      <td>6</td>\n",
              "      <td>2</td>\n",
              "      <td>5</td>\n",
              "      <td>4</td>\n",
              "      <td>1</td>\n",
              "      <td>1</td>\n",
              "      <td>4</td>\n",
              "      <td>4</td>\n",
              "      <td>4</td>\n",
              "      <td>1</td>\n",
              "      <td>1</td>\n",
              "      <td>1</td>\n",
              "      <td>74</td>\n",
              "      <td>1</td>\n",
              "      <td>6</td>\n",
              "      <td>1</td>\n",
              "      <td>4</td>\n",
              "      <td>1</td>\n",
              "      <td>2</td>\n",
              "      <td>2</td>\n",
              "    </tr>\n",
              "    <tr>\n",
              "      <th>92</th>\n",
              "      <td>3</td>\n",
              "      <td>3</td>\n",
              "      <td>1</td>\n",
              "      <td>1</td>\n",
              "      <td>4</td>\n",
              "      <td>1</td>\n",
              "      <td>3</td>\n",
              "      <td>4</td>\n",
              "      <td>4</td>\n",
              "      <td>4</td>\n",
              "      <td>2</td>\n",
              "      <td>3</td>\n",
              "      <td>2</td>\n",
              "      <td>3</td>\n",
              "      <td>2</td>\n",
              "      <td>2</td>\n",
              "      <td>5</td>\n",
              "      <td>7</td>\n",
              "      <td>2</td>\n",
              "      <td>5</td>\n",
              "      <td>5</td>\n",
              "      <td>4</td>\n",
              "      <td>5</td>\n",
              "      <td>6</td>\n",
              "      <td>4</td>\n",
              "      <td>3</td>\n",
              "      <td>1</td>\n",
              "      <td>2</td>\n",
              "      <td>1</td>\n",
              "      <td>74</td>\n",
              "      <td>1</td>\n",
              "      <td>6</td>\n",
              "      <td>1</td>\n",
              "      <td>4</td>\n",
              "      <td>2</td>\n",
              "      <td>3</td>\n",
              "      <td>7</td>\n",
              "    </tr>\n",
              "    <tr>\n",
              "      <th>...</th>\n",
              "      <td>...</td>\n",
              "      <td>...</td>\n",
              "      <td>...</td>\n",
              "      <td>...</td>\n",
              "      <td>...</td>\n",
              "      <td>...</td>\n",
              "      <td>...</td>\n",
              "      <td>...</td>\n",
              "      <td>...</td>\n",
              "      <td>...</td>\n",
              "      <td>...</td>\n",
              "      <td>...</td>\n",
              "      <td>...</td>\n",
              "      <td>...</td>\n",
              "      <td>...</td>\n",
              "      <td>...</td>\n",
              "      <td>...</td>\n",
              "      <td>...</td>\n",
              "      <td>...</td>\n",
              "      <td>...</td>\n",
              "      <td>...</td>\n",
              "      <td>...</td>\n",
              "      <td>...</td>\n",
              "      <td>...</td>\n",
              "      <td>...</td>\n",
              "      <td>...</td>\n",
              "      <td>...</td>\n",
              "      <td>...</td>\n",
              "      <td>...</td>\n",
              "      <td>...</td>\n",
              "      <td>...</td>\n",
              "      <td>...</td>\n",
              "      <td>...</td>\n",
              "      <td>...</td>\n",
              "      <td>...</td>\n",
              "      <td>...</td>\n",
              "      <td>...</td>\n",
              "    </tr>\n",
              "    <tr>\n",
              "      <th>1291</th>\n",
              "      <td>5</td>\n",
              "      <td>5</td>\n",
              "      <td>1</td>\n",
              "      <td>5</td>\n",
              "      <td>4</td>\n",
              "      <td>1</td>\n",
              "      <td>5</td>\n",
              "      <td>3</td>\n",
              "      <td>2</td>\n",
              "      <td>3</td>\n",
              "      <td>5</td>\n",
              "      <td>5</td>\n",
              "      <td>3</td>\n",
              "      <td>5</td>\n",
              "      <td>5</td>\n",
              "      <td>7</td>\n",
              "      <td>7</td>\n",
              "      <td>7</td>\n",
              "      <td>6</td>\n",
              "      <td>6</td>\n",
              "      <td>1</td>\n",
              "      <td>1</td>\n",
              "      <td>7</td>\n",
              "      <td>1</td>\n",
              "      <td>4</td>\n",
              "      <td>1</td>\n",
              "      <td>3</td>\n",
              "      <td>2</td>\n",
              "      <td>1</td>\n",
              "      <td>13</td>\n",
              "      <td>3</td>\n",
              "      <td>2</td>\n",
              "      <td>2</td>\n",
              "      <td>4</td>\n",
              "      <td>2</td>\n",
              "      <td>1</td>\n",
              "      <td>2</td>\n",
              "    </tr>\n",
              "    <tr>\n",
              "      <th>1878</th>\n",
              "      <td>3</td>\n",
              "      <td>3</td>\n",
              "      <td>2</td>\n",
              "      <td>4</td>\n",
              "      <td>3</td>\n",
              "      <td>5</td>\n",
              "      <td>3</td>\n",
              "      <td>2</td>\n",
              "      <td>1</td>\n",
              "      <td>3</td>\n",
              "      <td>4</td>\n",
              "      <td>2</td>\n",
              "      <td>3</td>\n",
              "      <td>4</td>\n",
              "      <td>5</td>\n",
              "      <td>2</td>\n",
              "      <td>3</td>\n",
              "      <td>5</td>\n",
              "      <td>7</td>\n",
              "      <td>6</td>\n",
              "      <td>6</td>\n",
              "      <td>4</td>\n",
              "      <td>3</td>\n",
              "      <td>1</td>\n",
              "      <td>4</td>\n",
              "      <td>1</td>\n",
              "      <td>2</td>\n",
              "      <td>2</td>\n",
              "      <td>1</td>\n",
              "      <td>13</td>\n",
              "      <td>1</td>\n",
              "      <td>7</td>\n",
              "      <td>2</td>\n",
              "      <td>4</td>\n",
              "      <td>2</td>\n",
              "      <td>1</td>\n",
              "      <td>3</td>\n",
              "    </tr>\n",
              "    <tr>\n",
              "      <th>1347</th>\n",
              "      <td>3</td>\n",
              "      <td>3</td>\n",
              "      <td>4</td>\n",
              "      <td>3</td>\n",
              "      <td>4</td>\n",
              "      <td>3</td>\n",
              "      <td>4</td>\n",
              "      <td>5</td>\n",
              "      <td>2</td>\n",
              "      <td>3</td>\n",
              "      <td>3</td>\n",
              "      <td>3</td>\n",
              "      <td>3</td>\n",
              "      <td>4</td>\n",
              "      <td>3</td>\n",
              "      <td>2</td>\n",
              "      <td>4</td>\n",
              "      <td>4</td>\n",
              "      <td>7</td>\n",
              "      <td>5</td>\n",
              "      <td>6</td>\n",
              "      <td>4</td>\n",
              "      <td>4</td>\n",
              "      <td>4</td>\n",
              "      <td>4</td>\n",
              "      <td>1</td>\n",
              "      <td>2</td>\n",
              "      <td>3</td>\n",
              "      <td>1</td>\n",
              "      <td>13</td>\n",
              "      <td>2</td>\n",
              "      <td>7</td>\n",
              "      <td>5</td>\n",
              "      <td>5</td>\n",
              "      <td>2</td>\n",
              "      <td>1</td>\n",
              "      <td>2</td>\n",
              "    </tr>\n",
              "    <tr>\n",
              "      <th>298</th>\n",
              "      <td>2</td>\n",
              "      <td>3</td>\n",
              "      <td>1</td>\n",
              "      <td>1</td>\n",
              "      <td>2</td>\n",
              "      <td>4</td>\n",
              "      <td>2</td>\n",
              "      <td>1</td>\n",
              "      <td>2</td>\n",
              "      <td>4</td>\n",
              "      <td>3</td>\n",
              "      <td>1</td>\n",
              "      <td>1</td>\n",
              "      <td>3</td>\n",
              "      <td>5</td>\n",
              "      <td>2</td>\n",
              "      <td>4</td>\n",
              "      <td>6</td>\n",
              "      <td>5</td>\n",
              "      <td>7</td>\n",
              "      <td>7</td>\n",
              "      <td>3</td>\n",
              "      <td>1</td>\n",
              "      <td>5</td>\n",
              "      <td>4</td>\n",
              "      <td>1</td>\n",
              "      <td>2</td>\n",
              "      <td>1</td>\n",
              "      <td>1</td>\n",
              "      <td>13</td>\n",
              "      <td>1</td>\n",
              "      <td>2</td>\n",
              "      <td>1</td>\n",
              "      <td>4</td>\n",
              "      <td>1</td>\n",
              "      <td>1</td>\n",
              "      <td>1</td>\n",
              "    </tr>\n",
              "    <tr>\n",
              "      <th>898</th>\n",
              "      <td>5</td>\n",
              "      <td>2</td>\n",
              "      <td>4</td>\n",
              "      <td>2</td>\n",
              "      <td>4</td>\n",
              "      <td>5</td>\n",
              "      <td>2</td>\n",
              "      <td>5</td>\n",
              "      <td>4</td>\n",
              "      <td>5</td>\n",
              "      <td>4</td>\n",
              "      <td>2</td>\n",
              "      <td>3</td>\n",
              "      <td>4</td>\n",
              "      <td>5</td>\n",
              "      <td>7</td>\n",
              "      <td>7</td>\n",
              "      <td>2</td>\n",
              "      <td>1</td>\n",
              "      <td>7</td>\n",
              "      <td>2</td>\n",
              "      <td>1</td>\n",
              "      <td>6</td>\n",
              "      <td>2</td>\n",
              "      <td>2</td>\n",
              "      <td>1</td>\n",
              "      <td>2</td>\n",
              "      <td>1</td>\n",
              "      <td>1</td>\n",
              "      <td>13</td>\n",
              "      <td>1</td>\n",
              "      <td>1</td>\n",
              "      <td>1</td>\n",
              "      <td>4</td>\n",
              "      <td>2</td>\n",
              "      <td>1</td>\n",
              "      <td>4</td>\n",
              "    </tr>\n",
              "  </tbody>\n",
              "</table>\n",
              "<p>2176 rows × 37 columns</p>\n",
              "</div>"
            ],
            "text/plain": [
              "      Q1  Q2  Q3  Q4  Q5  ...  orientation  race  voted  married  familysize\n",
              "1946   5   5   5   5   5  ...            2     5      2        3           5\n",
              "1079   2   4   1   4   4  ...            1     4      2        3           4\n",
              "369    1   1   1   1   1  ...            2     4      1        2           2\n",
              "1471   5   4   2   2   5  ...            1     4      1        2           2\n",
              "92     3   3   1   1   4  ...            1     4      2        3           7\n",
              "...   ..  ..  ..  ..  ..  ...          ...   ...    ...      ...         ...\n",
              "1291   5   5   1   5   4  ...            2     4      2        1           2\n",
              "1878   3   3   2   4   3  ...            2     4      2        1           3\n",
              "1347   3   3   4   3   4  ...            5     5      2        1           2\n",
              "298    2   3   1   1   2  ...            1     4      1        1           1\n",
              "898    5   2   4   2   4  ...            1     4      2        1           4\n",
              "\n",
              "[2176 rows x 37 columns]"
            ]
          },
          "metadata": {},
          "execution_count": 20
        }
      ]
    },
    {
      "cell_type": "markdown",
      "metadata": {
        "id": "TsbfAYardEcK"
      },
      "source": [
        "Looks like there is only one invalid value in the variable \"age\". We may eliminate that outlier for quality of the data."
      ]
    },
    {
      "cell_type": "code",
      "metadata": {
        "colab": {
          "base_uri": "https://localhost:8080/",
          "height": 439
        },
        "id": "WkmYrXb4dVHE",
        "outputId": "b1295219-2c9a-40fc-866e-0ac84e99f155"
      },
      "source": [
        "df_new_2 = df_new.drop(1946, inplace=False)\n",
        "df_new_2.reset_index(drop=True, inplace=True)\n",
        "df_new_2"
      ],
      "execution_count": 21,
      "outputs": [
        {
          "output_type": "execute_result",
          "data": {
            "text/html": [
              "<div>\n",
              "<style scoped>\n",
              "    .dataframe tbody tr th:only-of-type {\n",
              "        vertical-align: middle;\n",
              "    }\n",
              "\n",
              "    .dataframe tbody tr th {\n",
              "        vertical-align: top;\n",
              "    }\n",
              "\n",
              "    .dataframe thead th {\n",
              "        text-align: right;\n",
              "    }\n",
              "</style>\n",
              "<table border=\"1\" class=\"dataframe\">\n",
              "  <thead>\n",
              "    <tr style=\"text-align: right;\">\n",
              "      <th></th>\n",
              "      <th>Q1</th>\n",
              "      <th>Q2</th>\n",
              "      <th>Q3</th>\n",
              "      <th>Q4</th>\n",
              "      <th>Q5</th>\n",
              "      <th>Q6</th>\n",
              "      <th>Q7</th>\n",
              "      <th>Q8</th>\n",
              "      <th>Q9</th>\n",
              "      <th>Q10</th>\n",
              "      <th>Q11</th>\n",
              "      <th>Q12</th>\n",
              "      <th>Q13</th>\n",
              "      <th>Q14</th>\n",
              "      <th>Q15</th>\n",
              "      <th>TIPI1</th>\n",
              "      <th>TIPI2</th>\n",
              "      <th>TIPI3</th>\n",
              "      <th>TIPI4</th>\n",
              "      <th>TIPI5</th>\n",
              "      <th>TIPI6</th>\n",
              "      <th>TIPI7</th>\n",
              "      <th>TIPI8</th>\n",
              "      <th>TIPI9</th>\n",
              "      <th>TIPI10</th>\n",
              "      <th>education</th>\n",
              "      <th>urban</th>\n",
              "      <th>gender</th>\n",
              "      <th>engnat</th>\n",
              "      <th>age</th>\n",
              "      <th>hand</th>\n",
              "      <th>religion</th>\n",
              "      <th>orientation</th>\n",
              "      <th>race</th>\n",
              "      <th>voted</th>\n",
              "      <th>married</th>\n",
              "      <th>familysize</th>\n",
              "    </tr>\n",
              "  </thead>\n",
              "  <tbody>\n",
              "    <tr>\n",
              "      <th>0</th>\n",
              "      <td>5</td>\n",
              "      <td>5</td>\n",
              "      <td>5</td>\n",
              "      <td>5</td>\n",
              "      <td>5</td>\n",
              "      <td>3</td>\n",
              "      <td>5</td>\n",
              "      <td>5</td>\n",
              "      <td>1</td>\n",
              "      <td>4</td>\n",
              "      <td>4</td>\n",
              "      <td>5</td>\n",
              "      <td>4</td>\n",
              "      <td>4</td>\n",
              "      <td>5</td>\n",
              "      <td>6</td>\n",
              "      <td>7</td>\n",
              "      <td>6</td>\n",
              "      <td>7</td>\n",
              "      <td>6</td>\n",
              "      <td>3</td>\n",
              "      <td>7</td>\n",
              "      <td>5</td>\n",
              "      <td>1</td>\n",
              "      <td>1</td>\n",
              "      <td>1</td>\n",
              "      <td>2</td>\n",
              "      <td>2</td>\n",
              "      <td>1</td>\n",
              "      <td>14</td>\n",
              "      <td>1</td>\n",
              "      <td>1</td>\n",
              "      <td>2</td>\n",
              "      <td>4</td>\n",
              "      <td>2</td>\n",
              "      <td>1</td>\n",
              "      <td>1</td>\n",
              "    </tr>\n",
              "    <tr>\n",
              "      <th>1</th>\n",
              "      <td>5</td>\n",
              "      <td>4</td>\n",
              "      <td>1</td>\n",
              "      <td>2</td>\n",
              "      <td>4</td>\n",
              "      <td>5</td>\n",
              "      <td>4</td>\n",
              "      <td>1</td>\n",
              "      <td>4</td>\n",
              "      <td>5</td>\n",
              "      <td>5</td>\n",
              "      <td>5</td>\n",
              "      <td>1</td>\n",
              "      <td>4</td>\n",
              "      <td>5</td>\n",
              "      <td>6</td>\n",
              "      <td>7</td>\n",
              "      <td>7</td>\n",
              "      <td>5</td>\n",
              "      <td>7</td>\n",
              "      <td>6</td>\n",
              "      <td>5</td>\n",
              "      <td>1</td>\n",
              "      <td>5</td>\n",
              "      <td>1</td>\n",
              "      <td>3</td>\n",
              "      <td>1</td>\n",
              "      <td>1</td>\n",
              "      <td>1</td>\n",
              "      <td>25</td>\n",
              "      <td>1</td>\n",
              "      <td>12</td>\n",
              "      <td>1</td>\n",
              "      <td>4</td>\n",
              "      <td>1</td>\n",
              "      <td>1</td>\n",
              "      <td>3</td>\n",
              "    </tr>\n",
              "    <tr>\n",
              "      <th>2</th>\n",
              "      <td>5</td>\n",
              "      <td>4</td>\n",
              "      <td>1</td>\n",
              "      <td>4</td>\n",
              "      <td>4</td>\n",
              "      <td>5</td>\n",
              "      <td>4</td>\n",
              "      <td>3</td>\n",
              "      <td>1</td>\n",
              "      <td>5</td>\n",
              "      <td>5</td>\n",
              "      <td>5</td>\n",
              "      <td>3</td>\n",
              "      <td>5</td>\n",
              "      <td>5</td>\n",
              "      <td>1</td>\n",
              "      <td>3</td>\n",
              "      <td>7</td>\n",
              "      <td>2</td>\n",
              "      <td>6</td>\n",
              "      <td>4</td>\n",
              "      <td>5</td>\n",
              "      <td>5</td>\n",
              "      <td>5</td>\n",
              "      <td>3</td>\n",
              "      <td>2</td>\n",
              "      <td>2</td>\n",
              "      <td>1</td>\n",
              "      <td>1</td>\n",
              "      <td>37</td>\n",
              "      <td>1</td>\n",
              "      <td>2</td>\n",
              "      <td>2</td>\n",
              "      <td>4</td>\n",
              "      <td>2</td>\n",
              "      <td>2</td>\n",
              "      <td>2</td>\n",
              "    </tr>\n",
              "    <tr>\n",
              "      <th>3</th>\n",
              "      <td>1</td>\n",
              "      <td>1</td>\n",
              "      <td>1</td>\n",
              "      <td>1</td>\n",
              "      <td>1</td>\n",
              "      <td>1</td>\n",
              "      <td>1</td>\n",
              "      <td>1</td>\n",
              "      <td>1</td>\n",
              "      <td>1</td>\n",
              "      <td>1</td>\n",
              "      <td>1</td>\n",
              "      <td>1</td>\n",
              "      <td>1</td>\n",
              "      <td>1</td>\n",
              "      <td>4</td>\n",
              "      <td>2</td>\n",
              "      <td>6</td>\n",
              "      <td>2</td>\n",
              "      <td>6</td>\n",
              "      <td>5</td>\n",
              "      <td>6</td>\n",
              "      <td>3</td>\n",
              "      <td>6</td>\n",
              "      <td>2</td>\n",
              "      <td>3</td>\n",
              "      <td>1</td>\n",
              "      <td>1</td>\n",
              "      <td>1</td>\n",
              "      <td>34</td>\n",
              "      <td>1</td>\n",
              "      <td>7</td>\n",
              "      <td>1</td>\n",
              "      <td>4</td>\n",
              "      <td>1</td>\n",
              "      <td>2</td>\n",
              "      <td>2</td>\n",
              "    </tr>\n",
              "    <tr>\n",
              "      <th>4</th>\n",
              "      <td>4</td>\n",
              "      <td>3</td>\n",
              "      <td>3</td>\n",
              "      <td>3</td>\n",
              "      <td>4</td>\n",
              "      <td>3</td>\n",
              "      <td>3</td>\n",
              "      <td>4</td>\n",
              "      <td>2</td>\n",
              "      <td>3</td>\n",
              "      <td>3</td>\n",
              "      <td>2</td>\n",
              "      <td>2</td>\n",
              "      <td>3</td>\n",
              "      <td>4</td>\n",
              "      <td>2</td>\n",
              "      <td>5</td>\n",
              "      <td>4</td>\n",
              "      <td>2</td>\n",
              "      <td>5</td>\n",
              "      <td>6</td>\n",
              "      <td>2</td>\n",
              "      <td>3</td>\n",
              "      <td>5</td>\n",
              "      <td>5</td>\n",
              "      <td>2</td>\n",
              "      <td>2</td>\n",
              "      <td>1</td>\n",
              "      <td>1</td>\n",
              "      <td>17</td>\n",
              "      <td>1</td>\n",
              "      <td>1</td>\n",
              "      <td>1</td>\n",
              "      <td>4</td>\n",
              "      <td>2</td>\n",
              "      <td>1</td>\n",
              "      <td>2</td>\n",
              "    </tr>\n",
              "    <tr>\n",
              "      <th>...</th>\n",
              "      <td>...</td>\n",
              "      <td>...</td>\n",
              "      <td>...</td>\n",
              "      <td>...</td>\n",
              "      <td>...</td>\n",
              "      <td>...</td>\n",
              "      <td>...</td>\n",
              "      <td>...</td>\n",
              "      <td>...</td>\n",
              "      <td>...</td>\n",
              "      <td>...</td>\n",
              "      <td>...</td>\n",
              "      <td>...</td>\n",
              "      <td>...</td>\n",
              "      <td>...</td>\n",
              "      <td>...</td>\n",
              "      <td>...</td>\n",
              "      <td>...</td>\n",
              "      <td>...</td>\n",
              "      <td>...</td>\n",
              "      <td>...</td>\n",
              "      <td>...</td>\n",
              "      <td>...</td>\n",
              "      <td>...</td>\n",
              "      <td>...</td>\n",
              "      <td>...</td>\n",
              "      <td>...</td>\n",
              "      <td>...</td>\n",
              "      <td>...</td>\n",
              "      <td>...</td>\n",
              "      <td>...</td>\n",
              "      <td>...</td>\n",
              "      <td>...</td>\n",
              "      <td>...</td>\n",
              "      <td>...</td>\n",
              "      <td>...</td>\n",
              "      <td>...</td>\n",
              "    </tr>\n",
              "    <tr>\n",
              "      <th>2170</th>\n",
              "      <td>5</td>\n",
              "      <td>5</td>\n",
              "      <td>1</td>\n",
              "      <td>1</td>\n",
              "      <td>5</td>\n",
              "      <td>5</td>\n",
              "      <td>3</td>\n",
              "      <td>5</td>\n",
              "      <td>1</td>\n",
              "      <td>1</td>\n",
              "      <td>5</td>\n",
              "      <td>3</td>\n",
              "      <td>1</td>\n",
              "      <td>5</td>\n",
              "      <td>5</td>\n",
              "      <td>7</td>\n",
              "      <td>1</td>\n",
              "      <td>6</td>\n",
              "      <td>1</td>\n",
              "      <td>7</td>\n",
              "      <td>1</td>\n",
              "      <td>6</td>\n",
              "      <td>3</td>\n",
              "      <td>6</td>\n",
              "      <td>2</td>\n",
              "      <td>2</td>\n",
              "      <td>2</td>\n",
              "      <td>2</td>\n",
              "      <td>1</td>\n",
              "      <td>42</td>\n",
              "      <td>1</td>\n",
              "      <td>7</td>\n",
              "      <td>2</td>\n",
              "      <td>4</td>\n",
              "      <td>2</td>\n",
              "      <td>2</td>\n",
              "      <td>2</td>\n",
              "    </tr>\n",
              "    <tr>\n",
              "      <th>2171</th>\n",
              "      <td>5</td>\n",
              "      <td>2</td>\n",
              "      <td>2</td>\n",
              "      <td>2</td>\n",
              "      <td>4</td>\n",
              "      <td>4</td>\n",
              "      <td>2</td>\n",
              "      <td>2</td>\n",
              "      <td>1</td>\n",
              "      <td>4</td>\n",
              "      <td>5</td>\n",
              "      <td>4</td>\n",
              "      <td>2</td>\n",
              "      <td>2</td>\n",
              "      <td>5</td>\n",
              "      <td>3</td>\n",
              "      <td>5</td>\n",
              "      <td>5</td>\n",
              "      <td>3</td>\n",
              "      <td>7</td>\n",
              "      <td>5</td>\n",
              "      <td>5</td>\n",
              "      <td>5</td>\n",
              "      <td>3</td>\n",
              "      <td>1</td>\n",
              "      <td>3</td>\n",
              "      <td>3</td>\n",
              "      <td>1</td>\n",
              "      <td>1</td>\n",
              "      <td>32</td>\n",
              "      <td>1</td>\n",
              "      <td>2</td>\n",
              "      <td>1</td>\n",
              "      <td>4</td>\n",
              "      <td>2</td>\n",
              "      <td>1</td>\n",
              "      <td>3</td>\n",
              "    </tr>\n",
              "    <tr>\n",
              "      <th>2172</th>\n",
              "      <td>1</td>\n",
              "      <td>1</td>\n",
              "      <td>1</td>\n",
              "      <td>1</td>\n",
              "      <td>1</td>\n",
              "      <td>3</td>\n",
              "      <td>1</td>\n",
              "      <td>1</td>\n",
              "      <td>1</td>\n",
              "      <td>1</td>\n",
              "      <td>2</td>\n",
              "      <td>1</td>\n",
              "      <td>1</td>\n",
              "      <td>1</td>\n",
              "      <td>3</td>\n",
              "      <td>5</td>\n",
              "      <td>5</td>\n",
              "      <td>6</td>\n",
              "      <td>7</td>\n",
              "      <td>6</td>\n",
              "      <td>3</td>\n",
              "      <td>5</td>\n",
              "      <td>2</td>\n",
              "      <td>3</td>\n",
              "      <td>2</td>\n",
              "      <td>4</td>\n",
              "      <td>2</td>\n",
              "      <td>2</td>\n",
              "      <td>2</td>\n",
              "      <td>25</td>\n",
              "      <td>2</td>\n",
              "      <td>2</td>\n",
              "      <td>1</td>\n",
              "      <td>4</td>\n",
              "      <td>1</td>\n",
              "      <td>1</td>\n",
              "      <td>2</td>\n",
              "    </tr>\n",
              "    <tr>\n",
              "      <th>2173</th>\n",
              "      <td>2</td>\n",
              "      <td>1</td>\n",
              "      <td>4</td>\n",
              "      <td>1</td>\n",
              "      <td>1</td>\n",
              "      <td>1</td>\n",
              "      <td>1</td>\n",
              "      <td>3</td>\n",
              "      <td>1</td>\n",
              "      <td>2</td>\n",
              "      <td>1</td>\n",
              "      <td>1</td>\n",
              "      <td>1</td>\n",
              "      <td>1</td>\n",
              "      <td>4</td>\n",
              "      <td>1</td>\n",
              "      <td>6</td>\n",
              "      <td>7</td>\n",
              "      <td>1</td>\n",
              "      <td>7</td>\n",
              "      <td>7</td>\n",
              "      <td>3</td>\n",
              "      <td>3</td>\n",
              "      <td>7</td>\n",
              "      <td>2</td>\n",
              "      <td>2</td>\n",
              "      <td>2</td>\n",
              "      <td>1</td>\n",
              "      <td>2</td>\n",
              "      <td>19</td>\n",
              "      <td>1</td>\n",
              "      <td>1</td>\n",
              "      <td>1</td>\n",
              "      <td>4</td>\n",
              "      <td>1</td>\n",
              "      <td>1</td>\n",
              "      <td>2</td>\n",
              "    </tr>\n",
              "    <tr>\n",
              "      <th>2174</th>\n",
              "      <td>4</td>\n",
              "      <td>4</td>\n",
              "      <td>5</td>\n",
              "      <td>4</td>\n",
              "      <td>4</td>\n",
              "      <td>4</td>\n",
              "      <td>4</td>\n",
              "      <td>5</td>\n",
              "      <td>2</td>\n",
              "      <td>2</td>\n",
              "      <td>3</td>\n",
              "      <td>3</td>\n",
              "      <td>2</td>\n",
              "      <td>2</td>\n",
              "      <td>3</td>\n",
              "      <td>2</td>\n",
              "      <td>3</td>\n",
              "      <td>5</td>\n",
              "      <td>6</td>\n",
              "      <td>3</td>\n",
              "      <td>7</td>\n",
              "      <td>6</td>\n",
              "      <td>3</td>\n",
              "      <td>5</td>\n",
              "      <td>4</td>\n",
              "      <td>1</td>\n",
              "      <td>3</td>\n",
              "      <td>2</td>\n",
              "      <td>2</td>\n",
              "      <td>16</td>\n",
              "      <td>1</td>\n",
              "      <td>12</td>\n",
              "      <td>3</td>\n",
              "      <td>4</td>\n",
              "      <td>2</td>\n",
              "      <td>1</td>\n",
              "      <td>1</td>\n",
              "    </tr>\n",
              "  </tbody>\n",
              "</table>\n",
              "<p>2175 rows × 37 columns</p>\n",
              "</div>"
            ],
            "text/plain": [
              "      Q1  Q2  Q3  Q4  Q5  ...  orientation  race  voted  married  familysize\n",
              "0      5   5   5   5   5  ...            2     4      2        1           1\n",
              "1      5   4   1   2   4  ...            1     4      1        1           3\n",
              "2      5   4   1   4   4  ...            2     4      2        2           2\n",
              "3      1   1   1   1   1  ...            1     4      1        2           2\n",
              "4      4   3   3   3   4  ...            1     4      2        1           2\n",
              "...   ..  ..  ..  ..  ..  ...          ...   ...    ...      ...         ...\n",
              "2170   5   5   1   1   5  ...            2     4      2        2           2\n",
              "2171   5   2   2   2   4  ...            1     4      2        1           3\n",
              "2172   1   1   1   1   1  ...            1     4      1        1           2\n",
              "2173   2   1   4   1   1  ...            1     4      1        1           2\n",
              "2174   4   4   5   4   4  ...            3     4      2        1           1\n",
              "\n",
              "[2175 rows x 37 columns]"
            ]
          },
          "metadata": {},
          "execution_count": 21
        }
      ]
    },
    {
      "cell_type": "markdown",
      "metadata": {
        "id": "cZiK2fxwGz80"
      },
      "source": [
        "# Data Exploration\n",
        "Initial exploration of the dataset, not required, but useful to give the reader a 'view' of the data"
      ]
    },
    {
      "cell_type": "markdown",
      "metadata": {
        "id": "Pwa5IvxCNfQF"
      },
      "source": [
        "First, let's look at the distributions of Q1-Q15."
      ]
    },
    {
      "cell_type": "code",
      "metadata": {
        "colab": {
          "base_uri": "https://localhost:8080/",
          "height": 1000
        },
        "id": "-bJgk8KcM71n",
        "outputId": "df58a8a3-c9bb-4fae-96cf-1bd0d39c9ae3"
      },
      "source": [
        "def make_hist_q1_q15():\n",
        "  fig, axes = plt.subplots(nrows=4, ncols=4, figsize=(20,20))\n",
        "  low = min(df_new_2['Q1'])\n",
        "  high = max(df_new_2['Q1'])\n",
        "  bins = [i-0.5 for i in range(low, high+2)]\n",
        "\n",
        "  counter = 0\n",
        "  for i in range(4):\n",
        "    for j in range(4):\n",
        "    \n",
        "      ax = axes[i][j]\n",
        "    \n",
        "      if counter < 15:\n",
        "\n",
        "        ax.hist(df_new_2.iloc[:,counter], bins=bins, label='{}'.format(df_new_2.columns[counter]))\n",
        "        ax.set_xlabel('rating')\n",
        "        ax.set_ylabel('count')\n",
        "        leg = ax.legend()\n",
        "\n",
        "      # Remove axis when we no longer have data\n",
        "      else:\n",
        "        ax.set_axis_off()\n",
        "\n",
        "      counter = counter + 1\n",
        "\n",
        "  plt.show()\n",
        "\n",
        "make_hist_q1_q15()\n"
      ],
      "execution_count": 22,
      "outputs": [
        {
          "output_type": "display_data",
          "data": {
            "image/png": "[encoded data removed]",
            "text/plain": [
              "<Figure size 1440x1440 with 16 Axes>"
            ]
          },
          "metadata": {
            "needs_background": "light"
          }
        }
      ]
    },
    {
      "cell_type": "markdown",
      "metadata": {
        "id": "i4Kde7vy-97n"
      },
      "source": [
        "Some are left-skewed, others are right-skewed, and still others are bimodal with two modes on the two extremes. Let's aggregate the 15 columns by taking the arithmetic mean of the reponses for each person, and then look at the distribution of the means."
      ]
    },
    {
      "cell_type": "code",
      "metadata": {
        "id": "-ORcwejbcCv5",
        "colab": {
          "base_uri": "https://localhost:8080/"
        },
        "outputId": "b1068d9d-fb3c-40f5-ff7d-3bfd80f57298"
      },
      "source": [
        "def get_mean_scores():\n",
        "  mean = df_new_2.iloc[:,0:15].mean(axis=1)\n",
        "  df_new_2['mean_score'] = mean\n",
        "  \n",
        "  print(df_new_2.head(20))\n",
        "  \n",
        "  return df_new_2\n",
        "\n",
        "df_new_2 = get_mean_scores()"
      ],
      "execution_count": 23,
      "outputs": [
        {
          "output_type": "stream",
          "name": "stdout",
          "text": [
            "    Q1  Q2  Q3  Q4  Q5  ...  race  voted  married  familysize  mean_score\n",
            "0    5   5   5   5   5  ...     4      2        1           1    4.333333\n",
            "1    5   4   1   2   4  ...     4      1        1           3    3.666667\n",
            "2    5   4   1   4   4  ...     4      2        2           2    3.933333\n",
            "3    1   1   1   1   1  ...     4      1        2           2    1.000000\n",
            "4    4   3   3   3   4  ...     4      2        1           2    3.066667\n",
            "5    5   4   3   3   4  ...     4      2        1           3    4.400000\n",
            "6    1   1   1   1   1  ...     4      2        1           2    1.000000\n",
            "7    1   2   1   1   1  ...     4      1        2           3    1.800000\n",
            "8    4   4   4   5   5  ...     5      1        1           2    3.733333\n",
            "9    5   5   1   5   5  ...     4      2        3           3    3.800000\n",
            "10   5   4   2   4   5  ...     4      2        1           3    3.800000\n",
            "11   5   4   4   5   4  ...     4      2        2           3    4.666667\n",
            "12   5   4   5   5   5  ...     5      2        1           2    4.733333\n",
            "13   4   4   2   5   5  ...     4      2        1           2    4.066667\n",
            "14   4   4   1   3   4  ...     4      2        1           3    2.800000\n",
            "15   2   1   1   1   1  ...     4      2        1           3    1.266667\n",
            "16   4   2   1   1   1  ...     4      2        1           2    1.733333\n",
            "17   5   2   1   3   4  ...     4      2        2           5    3.266667\n",
            "18   3   1   1   1   1  ...     5      2        1           6    1.333333\n",
            "19   3   2   4   3   4  ...     4      2        1           3    3.000000\n",
            "\n",
            "[20 rows x 38 columns]\n"
          ]
        }
      ]
    },
    {
      "cell_type": "code",
      "metadata": {
        "colab": {
          "base_uri": "https://localhost:8080/",
          "height": 265
        },
        "id": "q7ajE0n1GtVZ",
        "outputId": "d819bd80-65e5-484c-e36e-298df8ff8765"
      },
      "source": [
        "def make_hist_mean_scores():\n",
        "  fig,axes = plt.subplots()\n",
        "  axes.hist(df_new_2['mean_score'])\n",
        "  plt.show()\n",
        "\n",
        "make_hist_mean_scores()"
      ],
      "execution_count": 24,
      "outputs": [
        {
          "output_type": "display_data",
          "data": {
            "image/png": "[encoded data removed]",
            "text/plain": [
              "<Figure size 432x288 with 1 Axes>"
            ]
          },
          "metadata": {
            "needs_background": "light"
          }
        }
      ]
    },
    {
      "cell_type": "markdown",
      "metadata": {
        "id": "ilMrxtDTHDgv"
      },
      "source": [
        "The distribution of the mean scores for each person is unimodal and looks normal. Let's take a look at the distributions of TIPI1-TIPI10 (the Personality measure).\n"
      ]
    },
    {
      "cell_type": "code",
      "metadata": {
        "colab": {
          "base_uri": "https://localhost:8080/",
          "height": 877
        },
        "id": "xsxG95rsHw7J",
        "outputId": "edd72de8-53ef-42db-a3d2-c9af27b104f9"
      },
      "source": [
        "def make_hist_tipi1_tipi10():\n",
        "  fig, axes = plt.subplots(nrows=2, ncols=5, figsize=(30,15))\n",
        "  low = min(df_new_2['TIPI1'])\n",
        "  high = max(df_new_2['TIPI1'])\n",
        "  bins = [i-0.5 for i in range(low, high+2)]\n",
        "\n",
        "  counter = 0\n",
        "  for i in range(2):\n",
        "    for j in range(5):\n",
        "    \n",
        "      ax = axes[i][j]\n",
        "    \n",
        "      if counter < 10:\n",
        "\n",
        "        ax.hist(df_new_2.iloc[:,15+counter], bins=bins, label='{}'.format(df_new_2.columns[15+counter]))\n",
        "        ax.set_xlabel('rating')\n",
        "        ax.set_ylabel('count')\n",
        "        leg = ax.legend()\n",
        "\n",
        "      # Remove axis when we no longer have data\n",
        "      else:\n",
        "        ax.set_axis_off()\n",
        "\n",
        "      counter = counter + 1\n",
        "\n",
        "  plt.show()\n",
        "\n",
        "make_hist_tipi1_tipi10()"
      ],
      "execution_count": 25,
      "outputs": [
        {
          "output_type": "display_data",
          "data": {
            "image/png": "[encoded data removed]",
            "text/plain": [
              "<Figure size 2160x1080 with 10 Axes>"
            ]
          },
          "metadata": {
            "needs_background": "light"
          }
        }
      ]
    },
    {
      "cell_type": "markdown",
      "metadata": {
        "id": "sC-iN7PUMAxE"
      },
      "source": [
        "Pronounced left-skewed distribution for \"open to new experience\" and right-skewed distribution for \"conventional, uncreative\". Let's further investigate the relationship between the mean score of Q1-Q15 (GCBS) and each TIPI question (personality trait).\n"
      ]
    },
    {
      "cell_type": "code",
      "metadata": {
        "id": "zHg4ve5SxMBm",
        "colab": {
          "base_uri": "https://localhost:8080/",
          "height": 1000
        },
        "outputId": "b38e36d5-20c0-4160-e3fa-6527c9371846"
      },
      "source": [
        "def make_boxplots_meanscore_tipi():\n",
        "  fig, axes = plt.subplots(nrows=5, ncols=2, figsize=(30,35))\n",
        "\n",
        "  counter = 0\n",
        "  for i in range(5):\n",
        "    for j in range(2):\n",
        "    \n",
        "      ax = axes[i][j]\n",
        "    \n",
        "      if counter < 10:\n",
        "\n",
        "        df_new_2.boxplot(column=['mean_score'], by='TIPI{}'.format(counter+1), ax=ax, grid=False)\n",
        "        plt.suptitle('')\n",
        "\n",
        "      # Remove axis when we no longer have data\n",
        "      else:\n",
        "        ax.set_axis_off()\n",
        "\n",
        "      counter = counter + 1\n",
        "\n",
        "  plt.show()\n",
        "\n",
        "make_boxplots_meanscore_tipi()"
      ],
      "execution_count": 26,
      "outputs": [
        {
          "output_type": "stream",
          "name": "stderr",
          "text": [
            "/usr/local/lib/python3.7/dist-packages/numpy/core/_asarray.py:83: VisibleDeprecationWarning: Creating an ndarray from ragged nested sequences (which is a list-or-tuple of lists-or-tuples-or ndarrays with different lengths or shapes) is deprecated. If you meant to do this, you must specify 'dtype=object' when creating the ndarray\n",
            "  return array(a, dtype, copy=False, order=order)\n",
            "/usr/local/lib/python3.7/dist-packages/numpy/core/_asarray.py:83: VisibleDeprecationWarning: Creating an ndarray from ragged nested sequences (which is a list-or-tuple of lists-or-tuples-or ndarrays with different lengths or shapes) is deprecated. If you meant to do this, you must specify 'dtype=object' when creating the ndarray\n",
            "  return array(a, dtype, copy=False, order=order)\n",
            "/usr/local/lib/python3.7/dist-packages/numpy/core/_asarray.py:83: VisibleDeprecationWarning: Creating an ndarray from ragged nested sequences (which is a list-or-tuple of lists-or-tuples-or ndarrays with different lengths or shapes) is deprecated. If you meant to do this, you must specify 'dtype=object' when creating the ndarray\n",
            "  return array(a, dtype, copy=False, order=order)\n",
            "/usr/local/lib/python3.7/dist-packages/numpy/core/_asarray.py:83: VisibleDeprecationWarning: Creating an ndarray from ragged nested sequences (which is a list-or-tuple of lists-or-tuples-or ndarrays with different lengths or shapes) is deprecated. If you meant to do this, you must specify 'dtype=object' when creating the ndarray\n",
            "  return array(a, dtype, copy=False, order=order)\n",
            "/usr/local/lib/python3.7/dist-packages/numpy/core/_asarray.py:83: VisibleDeprecationWarning: Creating an ndarray from ragged nested sequences (which is a list-or-tuple of lists-or-tuples-or ndarrays with different lengths or shapes) is deprecated. If you meant to do this, you must specify 'dtype=object' when creating the ndarray\n",
            "  return array(a, dtype, copy=False, order=order)\n",
            "/usr/local/lib/python3.7/dist-packages/numpy/core/_asarray.py:83: VisibleDeprecationWarning: Creating an ndarray from ragged nested sequences (which is a list-or-tuple of lists-or-tuples-or ndarrays with different lengths or shapes) is deprecated. If you meant to do this, you must specify 'dtype=object' when creating the ndarray\n",
            "  return array(a, dtype, copy=False, order=order)\n",
            "/usr/local/lib/python3.7/dist-packages/numpy/core/_asarray.py:83: VisibleDeprecationWarning: Creating an ndarray from ragged nested sequences (which is a list-or-tuple of lists-or-tuples-or ndarrays with different lengths or shapes) is deprecated. If you meant to do this, you must specify 'dtype=object' when creating the ndarray\n",
            "  return array(a, dtype, copy=False, order=order)\n",
            "/usr/local/lib/python3.7/dist-packages/numpy/core/_asarray.py:83: VisibleDeprecationWarning: Creating an ndarray from ragged nested sequences (which is a list-or-tuple of lists-or-tuples-or ndarrays with different lengths or shapes) is deprecated. If you meant to do this, you must specify 'dtype=object' when creating the ndarray\n",
            "  return array(a, dtype, copy=False, order=order)\n",
            "/usr/local/lib/python3.7/dist-packages/numpy/core/_asarray.py:83: VisibleDeprecationWarning: Creating an ndarray from ragged nested sequences (which is a list-or-tuple of lists-or-tuples-or ndarrays with different lengths or shapes) is deprecated. If you meant to do this, you must specify 'dtype=object' when creating the ndarray\n",
            "  return array(a, dtype, copy=False, order=order)\n",
            "/usr/local/lib/python3.7/dist-packages/numpy/core/_asarray.py:83: VisibleDeprecationWarning: Creating an ndarray from ragged nested sequences (which is a list-or-tuple of lists-or-tuples-or ndarrays with different lengths or shapes) is deprecated. If you meant to do this, you must specify 'dtype=object' when creating the ndarray\n",
            "  return array(a, dtype, copy=False, order=order)\n"
          ]
        },
        {
          "output_type": "display_data",
          "data": {
            "image/png": "[encoded data removed]",
            "text/plain": [
              "<Figure size 2160x2520 with 10 Axes>"
            ]
          },
          "metadata": {
            "needs_background": "light"
          }
        }
      ]
    },
    {
      "cell_type": "markdown",
      "metadata": {
        "id": "A2ZMvt3nklMz"
      },
      "source": [
        "It is hard to find any linear trend in the relationship between each TIPI item and the mean GCBS score."
      ]
    },
    {
      "cell_type": "markdown",
      "metadata": {
        "id": "o1wDL3xth4H3"
      },
      "source": [
        "Let's take a look at the distributions of the demographic variables. "
      ]
    },
    {
      "cell_type": "code",
      "metadata": {
        "id": "11hUTLSMlR1c"
      },
      "source": [
        "def plot_bars(col_name):\n",
        "  counts = df_new_2[col_name].value_counts()\n",
        "  counts.plot(kind='bar')"
      ],
      "execution_count": 27,
      "outputs": []
    },
    {
      "cell_type": "code",
      "metadata": {
        "colab": {
          "base_uri": "https://localhost:8080/",
          "height": 262
        },
        "id": "1RdKNf2KNN9Z",
        "outputId": "0fca9a67-f8f4-4e07-aaac-2df02e45333a"
      },
      "source": [
        "plot_bars('education')"
      ],
      "execution_count": 28,
      "outputs": [
        {
          "output_type": "display_data",
          "data": {
            "image/png": "[encoded data removed]",
            "text/plain": [
              "<Figure size 432x288 with 1 Axes>"
            ]
          },
          "metadata": {
            "needs_background": "light"
          }
        }
      ]
    },
    {
      "cell_type": "markdown",
      "metadata": {
        "id": "q3I2NEhFP0gv"
      },
      "source": [
        "Most people have high school and university degrees."
      ]
    },
    {
      "cell_type": "code",
      "metadata": {
        "colab": {
          "base_uri": "https://localhost:8080/",
          "height": 262
        },
        "id": "M-LEw-_rQCsG",
        "outputId": "cc27fa3f-fc35-43b4-9f7f-303ad28266f8"
      },
      "source": [
        "plot_bars('urban')"
      ],
      "execution_count": 29,
      "outputs": [
        {
          "output_type": "display_data",
          "data": {
            "image/png": "[encoded data removed]",
            "text/plain": [
              "<Figure size 432x288 with 1 Axes>"
            ]
          },
          "metadata": {
            "needs_background": "light"
          }
        }
      ]
    },
    {
      "cell_type": "markdown",
      "metadata": {
        "id": "PVBxIUyhQURC"
      },
      "source": [
        "Most people lived in urban and suburban areas in childhood."
      ]
    },
    {
      "cell_type": "code",
      "metadata": {
        "colab": {
          "base_uri": "https://localhost:8080/",
          "height": 262
        },
        "id": "TXYO2KP4Qjfn",
        "outputId": "a7d3e8f2-fff1-4ae4-ff3d-7518fc18100f"
      },
      "source": [
        "plot_bars('gender')"
      ],
      "execution_count": 30,
      "outputs": [
        {
          "output_type": "display_data",
          "data": {
            "image/png": "[encoded data removed]",
            "text/plain": [
              "<Figure size 432x288 with 1 Axes>"
            ]
          },
          "metadata": {
            "needs_background": "light"
          }
        }
      ]
    },
    {
      "cell_type": "markdown",
      "metadata": {
        "id": "9oN7CPw7Qq46"
      },
      "source": [
        "Slightly more male than female respondents."
      ]
    },
    {
      "cell_type": "code",
      "metadata": {
        "colab": {
          "base_uri": "https://localhost:8080/",
          "height": 262
        },
        "id": "XA93q_sVQzjh",
        "outputId": "adde9bc7-b908-4fa9-8f66-60b89b0fbb23"
      },
      "source": [
        "plot_bars('engnat')"
      ],
      "execution_count": 31,
      "outputs": [
        {
          "output_type": "display_data",
          "data": {
            "image/png": "[encoded data removed]",
            "text/plain": [
              "<Figure size 432x288 with 1 Axes>"
            ]
          },
          "metadata": {
            "needs_background": "light"
          }
        }
      ]
    },
    {
      "cell_type": "markdown",
      "metadata": {
        "id": "yO0aBkTyQ-OF"
      },
      "source": [
        "Most people are English native speakers."
      ]
    },
    {
      "cell_type": "code",
      "metadata": {
        "colab": {
          "base_uri": "https://localhost:8080/",
          "height": 265
        },
        "id": "kPo96iueakkW",
        "outputId": "aa2c31bb-fd2d-4226-8822-e8b77caeb2db"
      },
      "source": [
        "def make_hist_age():\n",
        "  fig,axes = plt.subplots()\n",
        "  axes.hist(df_new_2['age'])\n",
        "  plt.show()\n",
        "\n",
        "make_hist_age()"
      ],
      "execution_count": 32,
      "outputs": [
        {
          "output_type": "display_data",
          "data": {
            "image/png": "[encoded data removed]",
            "text/plain": [
              "<Figure size 432x288 with 1 Axes>"
            ]
          },
          "metadata": {
            "needs_background": "light"
          }
        }
      ]
    },
    {
      "cell_type": "markdown",
      "metadata": {
        "id": "hRm_rxLoap-V"
      },
      "source": [
        "Right-skewed age distribution. Many people are under 30."
      ]
    },
    {
      "cell_type": "code",
      "metadata": {
        "colab": {
          "base_uri": "https://localhost:8080/",
          "height": 262
        },
        "id": "xAeWyP9IezEc",
        "outputId": "185d4535-e9fd-4f92-891d-38f0e0bc2037"
      },
      "source": [
        "plot_bars('hand')"
      ],
      "execution_count": 33,
      "outputs": [
        {
          "output_type": "display_data",
          "data": {
            "image/png": "[encoded data removed]",
            "text/plain": [
              "<Figure size 432x288 with 1 Axes>"
            ]
          },
          "metadata": {
            "needs_background": "light"
          }
        }
      ]
    },
    {
      "cell_type": "markdown",
      "metadata": {
        "id": "OTD32cI3fEMT"
      },
      "source": [
        "Most are right-handed."
      ]
    },
    {
      "cell_type": "code",
      "metadata": {
        "colab": {
          "base_uri": "https://localhost:8080/",
          "height": 268
        },
        "id": "Zu_3ddUBfG5Q",
        "outputId": "dff4d447-3d07-4de5-cb4b-40ec4e9a299c"
      },
      "source": [
        "plot_bars('religion')"
      ],
      "execution_count": 34,
      "outputs": [
        {
          "output_type": "display_data",
          "data": {
            "image/png": "[encoded data removed]",
            "text/plain": [
              "<Figure size 432x288 with 1 Axes>"
            ]
          },
          "metadata": {
            "needs_background": "light"
          }
        }
      ]
    },
    {
      "cell_type": "markdown",
      "metadata": {
        "id": "5RT_wWOrfZxq"
      },
      "source": [
        "Most are agnostic and atheist."
      ]
    },
    {
      "cell_type": "code",
      "metadata": {
        "colab": {
          "base_uri": "https://localhost:8080/",
          "height": 262
        },
        "id": "dw8ojNtcfgJl",
        "outputId": "61bfd8a0-32ad-42be-b1f8-4f52bb3ef8df"
      },
      "source": [
        "plot_bars('orientation')"
      ],
      "execution_count": 35,
      "outputs": [
        {
          "output_type": "display_data",
          "data": {
            "image/png": "[encoded data removed]",
            "text/plain": [
              "<Figure size 432x288 with 1 Axes>"
            ]
          },
          "metadata": {
            "needs_background": "light"
          }
        }
      ]
    },
    {
      "cell_type": "markdown",
      "metadata": {
        "id": "2v-1wkuwfrUC"
      },
      "source": [
        "Most are heterosexual."
      ]
    },
    {
      "cell_type": "code",
      "metadata": {
        "colab": {
          "base_uri": "https://localhost:8080/",
          "height": 262
        },
        "id": "_FCuOLaPfy-I",
        "outputId": "4cfd9ff5-c713-48cd-cdb0-52cf5d4c0ba5"
      },
      "source": [
        "plot_bars('race')"
      ],
      "execution_count": 36,
      "outputs": [
        {
          "output_type": "display_data",
          "data": {
            "image/png": "[encoded data removed]",
            "text/plain": [
              "<Figure size 432x288 with 1 Axes>"
            ]
          },
          "metadata": {
            "needs_background": "light"
          }
        }
      ]
    },
    {
      "cell_type": "markdown",
      "metadata": {
        "id": "UjDQgZLmf-GI"
      },
      "source": [
        "Most are indigenous Australian, Native American or White."
      ]
    },
    {
      "cell_type": "code",
      "metadata": {
        "colab": {
          "base_uri": "https://localhost:8080/",
          "height": 262
        },
        "id": "xH_A_yL1gCBp",
        "outputId": "e68e0fe3-b16e-45ee-8df1-a7d536a3b739"
      },
      "source": [
        "plot_bars('voted')"
      ],
      "execution_count": 37,
      "outputs": [
        {
          "output_type": "display_data",
          "data": {
            "image/png": "[encoded data removed]",
            "text/plain": [
              "<Figure size 432x288 with 1 Axes>"
            ]
          },
          "metadata": {
            "needs_background": "light"
          }
        }
      ]
    },
    {
      "cell_type": "markdown",
      "metadata": {
        "id": "9CBei-oTgKAw"
      },
      "source": [
        "About 1 time more people did not vote than those who did in the past year."
      ]
    },
    {
      "cell_type": "code",
      "metadata": {
        "colab": {
          "base_uri": "https://localhost:8080/",
          "height": 262
        },
        "id": "869YEwiPgeow",
        "outputId": "5051b48f-9e4a-44a8-e3bd-28fafaf35fb5"
      },
      "source": [
        "plot_bars('married')"
      ],
      "execution_count": 38,
      "outputs": [
        {
          "output_type": "display_data",
          "data": {
            "image/png": "[encoded data removed]",
            "text/plain": [
              "<Figure size 432x288 with 1 Axes>"
            ]
          },
          "metadata": {
            "needs_background": "light"
          }
        }
      ]
    },
    {
      "cell_type": "markdown",
      "metadata": {
        "id": "9iZ2nYytgtMV"
      },
      "source": [
        "Most never married (might be due to the fact that many respondents are teens and young adults)."
      ]
    },
    {
      "cell_type": "code",
      "metadata": {
        "colab": {
          "base_uri": "https://localhost:8080/",
          "height": 268
        },
        "id": "e9vIbhZOhFva",
        "outputId": "3f96530f-f514-4e54-d39d-67179b9fbfac"
      },
      "source": [
        "plot_bars('familysize')"
      ],
      "execution_count": 39,
      "outputs": [
        {
          "output_type": "display_data",
          "data": {
            "image/png": "[encoded data removed]",
            "text/plain": [
              "<Figure size 432x288 with 1 Axes>"
            ]
          },
          "metadata": {
            "needs_background": "light"
          }
        }
      ]
    },
    {
      "cell_type": "markdown",
      "metadata": {
        "id": "9gQ4YieChYiY"
      },
      "source": [
        "Most have 1-2 siblings. "
      ]
    },
    {
      "cell_type": "markdown",
      "metadata": {
        "id": "nY9f0jL5r67r"
      },
      "source": [
        "Let's further look at the relationship between each demographic variable and the mean GCBS score."
      ]
    },
    {
      "cell_type": "code",
      "metadata": {
        "id": "f1uUw-BtsDjh"
      },
      "source": [
        "def boxplot(var):\n",
        "  fig, ax = plt.subplots(figsize=(12,10))\n",
        "  df_new_2.boxplot(column=['mean_score'], by=var, ax=ax, grid=True)\n",
        "  plt.suptitle('')"
      ],
      "execution_count": 40,
      "outputs": []
    },
    {
      "cell_type": "code",
      "metadata": {
        "colab": {
          "base_uri": "https://localhost:8080/",
          "height": 674
        },
        "id": "oR3C-eBbs_sD",
        "outputId": "875d8989-b354-41cc-8e9a-607343ffc807"
      },
      "source": [
        "boxplot('education')"
      ],
      "execution_count": 41,
      "outputs": [
        {
          "output_type": "stream",
          "name": "stderr",
          "text": [
            "/usr/local/lib/python3.7/dist-packages/numpy/core/_asarray.py:83: VisibleDeprecationWarning: Creating an ndarray from ragged nested sequences (which is a list-or-tuple of lists-or-tuples-or ndarrays with different lengths or shapes) is deprecated. If you meant to do this, you must specify 'dtype=object' when creating the ndarray\n",
            "  return array(a, dtype, copy=False, order=order)\n"
          ]
        },
        {
          "output_type": "display_data",
          "data": {
            "image/png": "[encoded data removed]",
            "text/plain": [
              "<Figure size 864x720 with 1 Axes>"
            ]
          },
          "metadata": {
            "needs_background": "light"
          }
        }
      ]
    },
    {
      "cell_type": "markdown",
      "metadata": {
        "id": "fo0aApd8uWXH"
      },
      "source": [
        "It looks like a linear trend - as education level increases, the mean score decreases."
      ]
    },
    {
      "cell_type": "code",
      "metadata": {
        "colab": {
          "base_uri": "https://localhost:8080/",
          "height": 674
        },
        "id": "Y23XOiWAxcMf",
        "outputId": "38dbde07-c2b7-44aa-8f70-bc0c14f67fab"
      },
      "source": [
        "boxplot('urban')"
      ],
      "execution_count": 42,
      "outputs": [
        {
          "output_type": "stream",
          "name": "stderr",
          "text": [
            "/usr/local/lib/python3.7/dist-packages/numpy/core/_asarray.py:83: VisibleDeprecationWarning: Creating an ndarray from ragged nested sequences (which is a list-or-tuple of lists-or-tuples-or ndarrays with different lengths or shapes) is deprecated. If you meant to do this, you must specify 'dtype=object' when creating the ndarray\n",
            "  return array(a, dtype, copy=False, order=order)\n"
          ]
        },
        {
          "output_type": "display_data",
          "data": {
            "image/png": "[encoded data removed]",
            "text/plain": [
              "<Figure size 864x720 with 1 Axes>"
            ]
          },
          "metadata": {
            "needs_background": "light"
          }
        }
      ]
    },
    {
      "cell_type": "markdown",
      "metadata": {
        "id": "R_wVB0d9xey6"
      },
      "source": [
        "Those who lived in suburban areas in childhood have slightly lower mean scores."
      ]
    },
    {
      "cell_type": "code",
      "metadata": {
        "colab": {
          "base_uri": "https://localhost:8080/",
          "height": 674
        },
        "id": "WOVNN7wix-9Q",
        "outputId": "8979dd38-3229-4e4c-bb42-9129dfbccba0"
      },
      "source": [
        "boxplot('gender')"
      ],
      "execution_count": 43,
      "outputs": [
        {
          "output_type": "stream",
          "name": "stderr",
          "text": [
            "/usr/local/lib/python3.7/dist-packages/numpy/core/_asarray.py:83: VisibleDeprecationWarning: Creating an ndarray from ragged nested sequences (which is a list-or-tuple of lists-or-tuples-or ndarrays with different lengths or shapes) is deprecated. If you meant to do this, you must specify 'dtype=object' when creating the ndarray\n",
            "  return array(a, dtype, copy=False, order=order)\n"
          ]
        },
        {
          "output_type": "display_data",
          "data": {
            "image/png": "[encoded data removed]",
            "text/plain": [
              "<Figure size 864x720 with 1 Axes>"
            ]
          },
          "metadata": {
            "needs_background": "light"
          }
        }
      ]
    },
    {
      "cell_type": "markdown",
      "metadata": {
        "id": "K_NVOqRQyJMU"
      },
      "source": [
        "Male respondents have lower mean scores than females and other genders."
      ]
    },
    {
      "cell_type": "code",
      "metadata": {
        "colab": {
          "base_uri": "https://localhost:8080/",
          "height": 674
        },
        "id": "9HOLRTtHyYKJ",
        "outputId": "650a63f5-58b5-4527-b141-a1e80d672e8c"
      },
      "source": [
        "boxplot('engnat')"
      ],
      "execution_count": 44,
      "outputs": [
        {
          "output_type": "stream",
          "name": "stderr",
          "text": [
            "/usr/local/lib/python3.7/dist-packages/numpy/core/_asarray.py:83: VisibleDeprecationWarning: Creating an ndarray from ragged nested sequences (which is a list-or-tuple of lists-or-tuples-or ndarrays with different lengths or shapes) is deprecated. If you meant to do this, you must specify 'dtype=object' when creating the ndarray\n",
            "  return array(a, dtype, copy=False, order=order)\n"
          ]
        },
        {
          "output_type": "display_data",
          "data": {
            "image/png": "[encoded data removed]",
            "text/plain": [
              "<Figure size 864x720 with 1 Axes>"
            ]
          },
          "metadata": {
            "needs_background": "light"
          }
        }
      ]
    },
    {
      "cell_type": "markdown",
      "metadata": {
        "id": "awbEqpKoyofi"
      },
      "source": [
        "Not much difference between native and nonnative English speakers."
      ]
    },
    {
      "cell_type": "code",
      "metadata": {
        "colab": {
          "base_uri": "https://localhost:8080/",
          "height": 674
        },
        "id": "9ThgYEfXy0PJ",
        "outputId": "7cc5f360-d283-4a17-d647-cba1d0abb973"
      },
      "source": [
        "boxplot('hand')"
      ],
      "execution_count": 45,
      "outputs": [
        {
          "output_type": "stream",
          "name": "stderr",
          "text": [
            "/usr/local/lib/python3.7/dist-packages/numpy/core/_asarray.py:83: VisibleDeprecationWarning: Creating an ndarray from ragged nested sequences (which is a list-or-tuple of lists-or-tuples-or ndarrays with different lengths or shapes) is deprecated. If you meant to do this, you must specify 'dtype=object' when creating the ndarray\n",
            "  return array(a, dtype, copy=False, order=order)\n"
          ]
        },
        {
          "output_type": "display_data",
          "data": {
            "image/png": "[encoded data removed]",
            "text/plain": [
              "<Figure size 864x720 with 1 Axes>"
            ]
          },
          "metadata": {
            "needs_background": "light"
          }
        }
      ]
    },
    {
      "cell_type": "markdown",
      "metadata": {
        "id": "_a0O7mqcgaaS"
      },
      "source": [
        "Both-hand writers tend to score higher than others."
      ]
    },
    {
      "cell_type": "code",
      "metadata": {
        "colab": {
          "base_uri": "https://localhost:8080/",
          "height": 674
        },
        "id": "YyZd9hZ6gv8t",
        "outputId": "8b747d72-eb1b-45f3-9160-8d0ec27fd562"
      },
      "source": [
        "boxplot('religion')"
      ],
      "execution_count": 46,
      "outputs": [
        {
          "output_type": "stream",
          "name": "stderr",
          "text": [
            "/usr/local/lib/python3.7/dist-packages/numpy/core/_asarray.py:83: VisibleDeprecationWarning: Creating an ndarray from ragged nested sequences (which is a list-or-tuple of lists-or-tuples-or ndarrays with different lengths or shapes) is deprecated. If you meant to do this, you must specify 'dtype=object' when creating the ndarray\n",
            "  return array(a, dtype, copy=False, order=order)\n"
          ]
        },
        {
          "output_type": "display_data",
          "data": {
            "image/png": "[encoded data removed]",
            "text/plain": [
              "<Figure size 864x720 with 1 Axes>"
            ]
          },
          "metadata": {
            "needs_background": "light"
          }
        }
      ]
    },
    {
      "cell_type": "markdown",
      "metadata": {
        "id": "wId8m8mEhtHD"
      },
      "source": [
        "On average, Buddihsts, Christians(other types), Muslims, and other religion believers score higher while Jewish people score prominently lower than all other groups."
      ]
    },
    {
      "cell_type": "code",
      "metadata": {
        "colab": {
          "base_uri": "https://localhost:8080/",
          "height": 674
        },
        "id": "y4WNy2ARilKz",
        "outputId": "5a176a8d-8705-4375-926c-b243048775a1"
      },
      "source": [
        "boxplot('orientation')"
      ],
      "execution_count": 47,
      "outputs": [
        {
          "output_type": "stream",
          "name": "stderr",
          "text": [
            "/usr/local/lib/python3.7/dist-packages/numpy/core/_asarray.py:83: VisibleDeprecationWarning: Creating an ndarray from ragged nested sequences (which is a list-or-tuple of lists-or-tuples-or ndarrays with different lengths or shapes) is deprecated. If you meant to do this, you must specify 'dtype=object' when creating the ndarray\n",
            "  return array(a, dtype, copy=False, order=order)\n"
          ]
        },
        {
          "output_type": "display_data",
          "data": {
            "image/png": "[encoded data removed]",
            "text/plain": [
              "<Figure size 864x720 with 1 Axes>"
            ]
          },
          "metadata": {
            "needs_background": "light"
          }
        }
      ]
    },
    {
      "cell_type": "markdown",
      "metadata": {
        "id": "DF_gSjjeiq3h"
      },
      "source": [
        "Homosexuals and other orientations score higher on average than other groups."
      ]
    },
    {
      "cell_type": "code",
      "metadata": {
        "colab": {
          "base_uri": "https://localhost:8080/",
          "height": 674
        },
        "id": "eXoOJPJ8i8Zj",
        "outputId": "83cf9f59-a1cc-4e43-dacc-fd7876caa1dc"
      },
      "source": [
        "boxplot('race')"
      ],
      "execution_count": 48,
      "outputs": [
        {
          "output_type": "stream",
          "name": "stderr",
          "text": [
            "/usr/local/lib/python3.7/dist-packages/numpy/core/_asarray.py:83: VisibleDeprecationWarning: Creating an ndarray from ragged nested sequences (which is a list-or-tuple of lists-or-tuples-or ndarrays with different lengths or shapes) is deprecated. If you meant to do this, you must specify 'dtype=object' when creating the ndarray\n",
            "  return array(a, dtype, copy=False, order=order)\n"
          ]
        },
        {
          "output_type": "display_data",
          "data": {
            "image/png": "[encoded data removed]",
            "text/plain": [
              "<Figure size 864x720 with 1 Axes>"
            ]
          },
          "metadata": {
            "needs_background": "light"
          }
        }
      ]
    },
    {
      "cell_type": "markdown",
      "metadata": {
        "id": "zW-uvBivjFPc"
      },
      "source": [
        "Black tends to score higher than other races."
      ]
    },
    {
      "cell_type": "code",
      "metadata": {
        "colab": {
          "base_uri": "https://localhost:8080/",
          "height": 674
        },
        "id": "446LJWiQjRbm",
        "outputId": "c36c6876-f5ac-444f-a992-420481819cc4"
      },
      "source": [
        "boxplot('voted')"
      ],
      "execution_count": 49,
      "outputs": [
        {
          "output_type": "stream",
          "name": "stderr",
          "text": [
            "/usr/local/lib/python3.7/dist-packages/numpy/core/_asarray.py:83: VisibleDeprecationWarning: Creating an ndarray from ragged nested sequences (which is a list-or-tuple of lists-or-tuples-or ndarrays with different lengths or shapes) is deprecated. If you meant to do this, you must specify 'dtype=object' when creating the ndarray\n",
            "  return array(a, dtype, copy=False, order=order)\n"
          ]
        },
        {
          "output_type": "display_data",
          "data": {
            "image/png": "[encoded data removed]",
            "text/plain": [
              "<Figure size 864x720 with 1 Axes>"
            ]
          },
          "metadata": {
            "needs_background": "light"
          }
        }
      ]
    },
    {
      "cell_type": "markdown",
      "metadata": {
        "id": "IEyF1sh6jXBU"
      },
      "source": [
        "Voted people tend to score lower than people who did not in the past year."
      ]
    },
    {
      "cell_type": "code",
      "metadata": {
        "colab": {
          "base_uri": "https://localhost:8080/",
          "height": 674
        },
        "id": "HbNGmKA1jzU7",
        "outputId": "0c1aded2-e451-44ae-b695-d7c27a3b901c"
      },
      "source": [
        "boxplot('married')"
      ],
      "execution_count": 50,
      "outputs": [
        {
          "output_type": "stream",
          "name": "stderr",
          "text": [
            "/usr/local/lib/python3.7/dist-packages/numpy/core/_asarray.py:83: VisibleDeprecationWarning: Creating an ndarray from ragged nested sequences (which is a list-or-tuple of lists-or-tuples-or ndarrays with different lengths or shapes) is deprecated. If you meant to do this, you must specify 'dtype=object' when creating the ndarray\n",
            "  return array(a, dtype, copy=False, order=order)\n"
          ]
        },
        {
          "output_type": "display_data",
          "data": {
            "image/png": "[encoded data removed]",
            "text/plain": [
              "<Figure size 864x720 with 1 Axes>"
            ]
          },
          "metadata": {
            "needs_background": "light"
          }
        }
      ]
    },
    {
      "cell_type": "markdown",
      "metadata": {
        "id": "-81DEZylj4-A"
      },
      "source": [
        "Not much difference for different marital statuses."
      ]
    },
    {
      "cell_type": "markdown",
      "metadata": {
        "id": "skEc21qmY2tg"
      },
      "source": [
        "Since \"age\" and \"familysize\" are continuous variables, we cannot directly make boxplots on them like categorical variables. Instead, let's split them into multiple groups and make boxplots on the groups."
      ]
    },
    {
      "cell_type": "code",
      "metadata": {
        "colab": {
          "base_uri": "https://localhost:8080/"
        },
        "id": "NX_A5X0toT58",
        "outputId": "7ec43395-551e-49f4-a9a2-45f6e233df44"
      },
      "source": [
        "# first, split age into multiple bins\n",
        "def bin_age(df):\n",
        "  bins = [df['age'].min(), 18, 21, 35, 55, 100] \n",
        "  labels = ['youth', 'young adult', 'adult', 'middle', 'senior'] \n",
        "  age_bins = pd.cut(df['age'], bins=bins, labels=labels, right=True) \n",
        "  df['age_cat'] = age_bins\n",
        "  print(df.head(10))\n",
        "  return df\n",
        "\n",
        "df_new_2 = bin_age(df_new_2)"
      ],
      "execution_count": 51,
      "outputs": [
        {
          "output_type": "stream",
          "name": "stdout",
          "text": [
            "   Q1  Q2  Q3  Q4  Q5  ...  voted  married  familysize  mean_score      age_cat\n",
            "0   5   5   5   5   5  ...      2        1           1    4.333333        youth\n",
            "1   5   4   1   2   4  ...      1        1           3    3.666667        adult\n",
            "2   5   4   1   4   4  ...      2        2           2    3.933333       middle\n",
            "3   1   1   1   1   1  ...      1        2           2    1.000000        adult\n",
            "4   4   3   3   3   4  ...      2        1           2    3.066667        youth\n",
            "5   5   4   3   3   4  ...      2        1           3    4.400000        adult\n",
            "6   1   1   1   1   1  ...      2        1           2    1.000000        youth\n",
            "7   1   2   1   1   1  ...      1        2           3    1.800000        adult\n",
            "8   4   4   4   5   5  ...      1        1           2    3.733333  young adult\n",
            "9   5   5   1   5   5  ...      2        3           3    3.800000       middle\n",
            "\n",
            "[10 rows x 39 columns]\n"
          ]
        }
      ]
    },
    {
      "cell_type": "code",
      "metadata": {
        "colab": {
          "base_uri": "https://localhost:8080/",
          "height": 674
        },
        "id": "hPR7R-KEkE1A",
        "outputId": "ece337d2-441c-463e-88c8-a23a68bfa078"
      },
      "source": [
        "# then, make boxplots on age bins\n",
        "boxplot('age_cat')"
      ],
      "execution_count": 52,
      "outputs": [
        {
          "output_type": "stream",
          "name": "stderr",
          "text": [
            "/usr/local/lib/python3.7/dist-packages/numpy/core/_asarray.py:83: VisibleDeprecationWarning: Creating an ndarray from ragged nested sequences (which is a list-or-tuple of lists-or-tuples-or ndarrays with different lengths or shapes) is deprecated. If you meant to do this, you must specify 'dtype=object' when creating the ndarray\n",
            "  return array(a, dtype, copy=False, order=order)\n"
          ]
        },
        {
          "output_type": "display_data",
          "data": {
            "image/png": "[encoded data removed]",
            "text/plain": [
              "<Figure size 864x720 with 1 Axes>"
            ]
          },
          "metadata": {
            "needs_background": "light"
          }
        }
      ]
    },
    {
      "cell_type": "markdown",
      "metadata": {
        "id": "ASE8IuHCqbAW"
      },
      "source": [
        "Older people (middle-aged and senior) tend to score higher than younger ones, but seniors also span a wider range of scores than other groups."
      ]
    },
    {
      "cell_type": "code",
      "metadata": {
        "colab": {
          "base_uri": "https://localhost:8080/"
        },
        "id": "ScPxGIlzrxfn",
        "outputId": "c17cae6a-5e18-4a74-987d-6ea5e3650102"
      },
      "source": [
        "# split familysize into multiple bins\n",
        "def bin_famsize(df):\n",
        "  bins = [0, 1, 2, 3, df['familysize'].max()]\n",
        "  labels = ['1', '2', '3', '>3']\n",
        "  bins = pd.cut(df['familysize'], bins=bins, labels=labels, right=True)\n",
        "  df['familysize_cat'] = bins\n",
        "  print(df.head(10))\n",
        "  return df\n",
        "\n",
        "df_new_2 = bin_famsize(df_new_2)\n"
      ],
      "execution_count": 53,
      "outputs": [
        {
          "output_type": "stream",
          "name": "stdout",
          "text": [
            "   Q1  Q2  Q3  Q4  ...  familysize  mean_score      age_cat  familysize_cat\n",
            "0   5   5   5   5  ...           1    4.333333        youth               1\n",
            "1   5   4   1   2  ...           3    3.666667        adult               3\n",
            "2   5   4   1   4  ...           2    3.933333       middle               2\n",
            "3   1   1   1   1  ...           2    1.000000        adult               2\n",
            "4   4   3   3   3  ...           2    3.066667        youth               2\n",
            "5   5   4   3   3  ...           3    4.400000        adult               3\n",
            "6   1   1   1   1  ...           2    1.000000        youth               2\n",
            "7   1   2   1   1  ...           3    1.800000        adult               3\n",
            "8   4   4   4   5  ...           2    3.733333  young adult               2\n",
            "9   5   5   1   5  ...           3    3.800000       middle               3\n",
            "\n",
            "[10 rows x 40 columns]\n"
          ]
        }
      ]
    },
    {
      "cell_type": "code",
      "metadata": {
        "colab": {
          "base_uri": "https://localhost:8080/",
          "height": 675
        },
        "id": "rOd773KxGsJz",
        "outputId": "696e675d-0741-4955-8b45-5abdae447d7f"
      },
      "source": [
        "# then, make a boxplot based on binned family size\n",
        "boxplot('familysize_cat')"
      ],
      "execution_count": 54,
      "outputs": [
        {
          "output_type": "stream",
          "name": "stderr",
          "text": [
            "/usr/local/lib/python3.7/dist-packages/numpy/core/_asarray.py:83: VisibleDeprecationWarning: Creating an ndarray from ragged nested sequences (which is a list-or-tuple of lists-or-tuples-or ndarrays with different lengths or shapes) is deprecated. If you meant to do this, you must specify 'dtype=object' when creating the ndarray\n",
            "  return array(a, dtype, copy=False, order=order)\n"
          ]
        },
        {
          "output_type": "display_data",
          "data": {
            "image/png": "[encoded data removed]",
            "text/plain": [
              "<Figure size 864x720 with 1 Axes>"
            ]
          },
          "metadata": {
            "needs_background": "light"
          }
        }
      ]
    },
    {
      "cell_type": "markdown",
      "metadata": {
        "id": "eL7-cpx6HRTi"
      },
      "source": [
        "Not much difference for different family sizes."
      ]
    },
    {
      "cell_type": "markdown",
      "metadata": {
        "id": "AVqckiHyDUkD"
      },
      "source": [
        "# Data Analysis"
      ]
    },
    {
      "cell_type": "markdown",
      "metadata": {
        "id": "V8o24I5pIfXo"
      },
      "source": [
        "First, we use the TIPI items as explanatory variables to predict the mean GCBS score. We start with the parametric model - the multiple linear regression model."
      ]
    },
    {
      "cell_type": "markdown",
      "metadata": {
        "id": "FYYqbGRKKFWv"
      },
      "source": [
        "Let's split the data into training and testing datasets (with ratio of proportions 4:1)."
      ]
    },
    {
      "cell_type": "code",
      "metadata": {
        "id": "6eOe3b3gJL0J"
      },
      "source": [
        "def tipi_train_test_split():\n",
        "  X_TIPI = df_new_2.iloc[:,15:25]\n",
        "  Y = df_new_2['mean_score']\n",
        "\n",
        "  X_TIPI_train, X_TIPI_test, Y_train, Y_test = model_selection.train_test_split(X_TIPI, Y, test_size = .20, random_state = 42)\n",
        "\n",
        "  return X_TIPI_train, Y_train, X_TIPI_test, Y_test"
      ],
      "execution_count": 55,
      "outputs": []
    },
    {
      "cell_type": "markdown",
      "metadata": {
        "id": "SfdM17DTZfCU"
      },
      "source": [
        "Then, fit a linear regression model on the training dataset. "
      ]
    },
    {
      "cell_type": "code",
      "metadata": {
        "id": "-eQGUZrVZl4Q"
      },
      "source": [
        "def fit_lr(x,y):\n",
        "  mod = linear_model.LinearRegression().fit(x,y)\n",
        "\n",
        "  slopes = mod.coef_\n",
        "  intercept = mod.intercept_\n",
        "\n",
        "  print(\"slopes: \", slopes, \"intercept: \", intercept)\n",
        "\n",
        "  return mod"
      ],
      "execution_count": 56,
      "outputs": []
    },
    {
      "cell_type": "code",
      "metadata": {
        "colab": {
          "base_uri": "https://localhost:8080/"
        },
        "id": "Uua7PsPdj6J1",
        "outputId": "f2c8edeb-2df3-415c-bd13-72db07c28bfd"
      },
      "source": [
        "x = tipi_train_test_split()[0]\n",
        "y = tipi_train_test_split()[1]\n",
        "print(x)\n",
        "print(y)\n",
        "mod1 = fit_lr(x, y)"
      ],
      "execution_count": 57,
      "outputs": [
        {
          "output_type": "stream",
          "name": "stdout",
          "text": [
            "      TIPI1  TIPI2  TIPI3  TIPI4  TIPI5  TIPI6  TIPI7  TIPI8  TIPI9  TIPI10\n",
            "256       3      5      6      3      5      5      5      3      6       3\n",
            "2134      1      2      7      5      7      7      7      6      4       1\n",
            "556       1      4      5      2      4      6      4      1      5       3\n",
            "1163      2      3      5      6      6      7      7      5      2       1\n",
            "2017      1      5      6      5      7      7      1      2      2       2\n",
            "...     ...    ...    ...    ...    ...    ...    ...    ...    ...     ...\n",
            "1638      1      6      6      2      7      7      7      1      2       1\n",
            "1095      7      4      7      7      7      1      7      7      1       7\n",
            "1130      7      5      7      1      7      3      6      5      5       1\n",
            "1294      6      6      6      6      7      5      5      5      4       3\n",
            "860       2      5      5      5      4      5      5      2      4       5\n",
            "\n",
            "[1740 rows x 10 columns]\n",
            "256     2.133333\n",
            "2134    2.066667\n",
            "556     4.600000\n",
            "1163    4.066667\n",
            "2017    3.666667\n",
            "          ...   \n",
            "1638    5.000000\n",
            "1095    3.800000\n",
            "1130    4.733333\n",
            "1294    4.200000\n",
            "860     3.600000\n",
            "Name: mean_score, Length: 1740, dtype: float64\n",
            "slopes:  [ 0.04956082  0.03190219  0.02798593  0.01569181  0.02459426  0.01055841\n",
            "  0.01530743  0.00469147 -0.04697416 -0.06830807] intercept:  2.4702082222404362\n"
          ]
        }
      ]
    },
    {
      "cell_type": "markdown",
      "metadata": {
        "id": "-hWZ50-30fR2"
      },
      "source": [
        "Let's evaluate the performance of the model using r^2.\n",
        "\n",
        "On the training dataset:"
      ]
    },
    {
      "cell_type": "code",
      "metadata": {
        "colab": {
          "base_uri": "https://localhost:8080/"
        },
        "id": "qQuovZsMaxyv",
        "outputId": "36380635-0cad-43ae-e942-7712bb80f80d"
      },
      "source": [
        "mod1.score(x, y)"
      ],
      "execution_count": 58,
      "outputs": [
        {
          "output_type": "execute_result",
          "data": {
            "text/plain": [
              "0.03861191261287278"
            ]
          },
          "metadata": {},
          "execution_count": 58
        }
      ]
    },
    {
      "cell_type": "markdown",
      "metadata": {
        "id": "9wnoLFJhctn-"
      },
      "source": [
        "R^2 is very low.\n",
        "\n",
        "On the testing dataset:"
      ]
    },
    {
      "cell_type": "code",
      "metadata": {
        "colab": {
          "base_uri": "https://localhost:8080/"
        },
        "id": "E85zErtYffoY",
        "outputId": "1155b5a6-9372-4f86-dceb-61c1f0505b13"
      },
      "source": [
        "mod1.score(tipi_train_test_split()[2],tipi_train_test_split()[3])"
      ],
      "execution_count": 59,
      "outputs": [
        {
          "output_type": "execute_result",
          "data": {
            "text/plain": [
              "0.003434269128374634"
            ]
          },
          "metadata": {},
          "execution_count": 59
        }
      ]
    },
    {
      "cell_type": "markdown",
      "metadata": {
        "id": "Z_rvIHybgOqT"
      },
      "source": [
        "R^2 is almost 0, meaning the model always predicts the expected value of y regardless of the input features. Model performance is poor, which is expected based on the preliminary exploratory analyses of the relationship between the mean GCBS score and each TIPI item. "
      ]
    },
    {
      "cell_type": "markdown",
      "metadata": {
        "id": "9JBtIBp377_A"
      },
      "source": [
        "It is hard to find any linear trend in the relationship between each TIPI item and the mean GCBS score. The mean GCBS score may be affected by interactions among the TIPI items, however. Therefore, let's use a decision tree model to explore more complex relationships between personality and conspiracy beliefs. Since there are numerous options for the hyperparameters of a tree, let's tune the maximum depth of a tree using cross validation.  "
      ]
    },
    {
      "cell_type": "code",
      "metadata": {
        "id": "zrXdxbLKk84v"
      },
      "source": [
        "def tune_max_depth(x, y):\n",
        "  depth = []\n",
        "  for i in range(2,30):\n",
        "    mod = tree.DecisionTreeRegressor(max_depth=i, random_state=42)\n",
        "    # perform 5-fold cross validation\n",
        "    scores = model_selection.cross_val_score(estimator=mod, X = x, y = y, cv=5, n_jobs=-1)\n",
        "    depth.append((i, scores.mean()))\n",
        "  print(depth)"
      ],
      "execution_count": 60,
      "outputs": []
    },
    {
      "cell_type": "code",
      "metadata": {
        "colab": {
          "base_uri": "https://localhost:8080/"
        },
        "id": "9qdINbbs53LA",
        "outputId": "1d8cde2a-d2f4-44de-fe43-977d338627bc"
      },
      "source": [
        "tune_max_depth(x, y)"
      ],
      "execution_count": 61,
      "outputs": [
        {
          "output_type": "stream",
          "name": "stdout",
          "text": [
            "[(2, 0.007067930771719122), (3, 0.00685043794393887), (4, -0.011050021979913893), (5, -0.04023884383967609), (6, -0.12361443673883658), (7, -0.19400771121779928), (8, -0.3242662069388624), (9, -0.45230051643219743), (10, -0.5675419593312089), (11, -0.6918221725486073), (12, -0.737077823633294), (13, -0.780763985650907), (14, -0.8179458224607007), (15, -0.8646726871237908), (16, -0.8447608944795414), (17, -0.8970626937137258), (18, -0.8931439460462304), (19, -0.9112667153713085), (20, -0.9294603271667748), (21, -0.9414028576378252), (22, -0.9296202275813583), (23, -0.9187522939450282), (24, -0.927104283573172), (25, -0.9253392075756748), (26, -0.9253392075756748), (27, -0.9253392075756748), (28, -0.9253392075756748), (29, -0.9253392075756748)]\n"
          ]
        }
      ]
    },
    {
      "cell_type": "markdown",
      "metadata": {
        "id": "Wvt3CwV261eS"
      },
      "source": [
        "A decision tree performs quite poorly (r^2 is very low) regardless of the depth level of the tree. We may conclude that the brief measure of the Big Five Personality alone cannot make a good prediction of conspiracy beliefs overall.\n"
      ]
    },
    {
      "cell_type": "markdown",
      "metadata": {
        "id": "QtgkEdrGDrAK"
      },
      "source": [
        "Let's investigate the effects of demographic information on predicting conspiracy beliefs, also using multiple linear regression and decision trees.\n",
        "\n",
        "Since we are going to build a regression model on the data, we need to transform the nominal variables into dummy variables for effective interpretations of the estimated coefficients."
      ]
    },
    {
      "cell_type": "code",
      "metadata": {
        "id": "gP7A-5XdThK6"
      },
      "source": [
        "def dummy_encode(col_name):\n",
        "  dummy = pd.get_dummies(df_new_2[col_name], prefix=col_name)\n",
        "  return dummy"
      ],
      "execution_count": 62,
      "outputs": []
    },
    {
      "cell_type": "code",
      "metadata": {
        "id": "8fCKZOKyf0VO"
      },
      "source": [
        "urban_d = dummy_encode('urban')\n",
        "gender_d = dummy_encode('gender')\n",
        "engnat_d = dummy_encode('engnat')\n",
        "hand_d = dummy_encode('hand')\n",
        "religion_d = dummy_encode('religion')\n",
        "orientation_d = dummy_encode('orientation')\n",
        "race_d = dummy_encode('race')\n",
        "voted_d = dummy_encode('voted')\n",
        "married_d = dummy_encode('married')"
      ],
      "execution_count": 63,
      "outputs": []
    },
    {
      "cell_type": "code",
      "metadata": {
        "colab": {
          "base_uri": "https://localhost:8080/",
          "height": 600
        },
        "id": "8KYQ1NLDhR7U",
        "outputId": "524bdde7-0d05-4ea7-e36e-2d382748a3ee"
      },
      "source": [
        "def df_with_dummy(df):\n",
        "  df_new = pd.concat([df,urban_d,gender_d,engnat_d,hand_d,religion_d,\n",
        "            orientation_d,race_d,voted_d,married_d], axis=1)\n",
        "  df_new.drop(columns=['urban','gender','engnat','hand','religion','orientation','race','voted','married'],inplace=True)\n",
        "  \n",
        "  print(df_new.head())\n",
        "\n",
        "  return df_new\n",
        "\n",
        "df_new_3 = df_with_dummy(df_new_2)\n",
        "\n",
        "df_new_3"
      ],
      "execution_count": 64,
      "outputs": [
        {
          "output_type": "stream",
          "name": "stdout",
          "text": [
            "   Q1  Q2  Q3  Q4  Q5  ...  voted_1  voted_2  married_1  married_2  married_3\n",
            "0   5   5   5   5   5  ...        0        1          1          0          0\n",
            "1   5   4   1   2   4  ...        1        0          1          0          0\n",
            "2   5   4   1   4   4  ...        0        1          0          1          0\n",
            "3   1   1   1   1   1  ...        1        0          0          1          0\n",
            "4   4   3   3   3   4  ...        0        1          1          0          0\n",
            "\n",
            "[5 rows x 69 columns]\n"
          ]
        },
        {
          "output_type": "execute_result",
          "data": {
            "text/html": [
              "<div>\n",
              "<style scoped>\n",
              "    .dataframe tbody tr th:only-of-type {\n",
              "        vertical-align: middle;\n",
              "    }\n",
              "\n",
              "    .dataframe tbody tr th {\n",
              "        vertical-align: top;\n",
              "    }\n",
              "\n",
              "    .dataframe thead th {\n",
              "        text-align: right;\n",
              "    }\n",
              "</style>\n",
              "<table border=\"1\" class=\"dataframe\">\n",
              "  <thead>\n",
              "    <tr style=\"text-align: right;\">\n",
              "      <th></th>\n",
              "      <th>Q1</th>\n",
              "      <th>Q2</th>\n",
              "      <th>Q3</th>\n",
              "      <th>Q4</th>\n",
              "      <th>Q5</th>\n",
              "      <th>Q6</th>\n",
              "      <th>Q7</th>\n",
              "      <th>Q8</th>\n",
              "      <th>Q9</th>\n",
              "      <th>Q10</th>\n",
              "      <th>Q11</th>\n",
              "      <th>Q12</th>\n",
              "      <th>Q13</th>\n",
              "      <th>Q14</th>\n",
              "      <th>Q15</th>\n",
              "      <th>TIPI1</th>\n",
              "      <th>TIPI2</th>\n",
              "      <th>TIPI3</th>\n",
              "      <th>TIPI4</th>\n",
              "      <th>TIPI5</th>\n",
              "      <th>TIPI6</th>\n",
              "      <th>TIPI7</th>\n",
              "      <th>TIPI8</th>\n",
              "      <th>TIPI9</th>\n",
              "      <th>TIPI10</th>\n",
              "      <th>education</th>\n",
              "      <th>age</th>\n",
              "      <th>familysize</th>\n",
              "      <th>mean_score</th>\n",
              "      <th>age_cat</th>\n",
              "      <th>familysize_cat</th>\n",
              "      <th>urban_1</th>\n",
              "      <th>urban_2</th>\n",
              "      <th>urban_3</th>\n",
              "      <th>gender_1</th>\n",
              "      <th>gender_2</th>\n",
              "      <th>gender_3</th>\n",
              "      <th>engnat_1</th>\n",
              "      <th>engnat_2</th>\n",
              "      <th>hand_1</th>\n",
              "      <th>hand_2</th>\n",
              "      <th>hand_3</th>\n",
              "      <th>religion_1</th>\n",
              "      <th>religion_2</th>\n",
              "      <th>religion_3</th>\n",
              "      <th>religion_4</th>\n",
              "      <th>religion_5</th>\n",
              "      <th>religion_6</th>\n",
              "      <th>religion_7</th>\n",
              "      <th>religion_8</th>\n",
              "      <th>religion_9</th>\n",
              "      <th>religion_10</th>\n",
              "      <th>religion_11</th>\n",
              "      <th>religion_12</th>\n",
              "      <th>orientation_1</th>\n",
              "      <th>orientation_2</th>\n",
              "      <th>orientation_3</th>\n",
              "      <th>orientation_4</th>\n",
              "      <th>orientation_5</th>\n",
              "      <th>race_1</th>\n",
              "      <th>race_2</th>\n",
              "      <th>race_3</th>\n",
              "      <th>race_4</th>\n",
              "      <th>race_5</th>\n",
              "      <th>voted_1</th>\n",
              "      <th>voted_2</th>\n",
              "      <th>married_1</th>\n",
              "      <th>married_2</th>\n",
              "      <th>married_3</th>\n",
              "    </tr>\n",
              "  </thead>\n",
              "  <tbody>\n",
              "    <tr>\n",
              "      <th>0</th>\n",
              "      <td>5</td>\n",
              "      <td>5</td>\n",
              "      <td>5</td>\n",
              "      <td>5</td>\n",
              "      <td>5</td>\n",
              "      <td>3</td>\n",
              "      <td>5</td>\n",
              "      <td>5</td>\n",
              "      <td>1</td>\n",
              "      <td>4</td>\n",
              "      <td>4</td>\n",
              "      <td>5</td>\n",
              "      <td>4</td>\n",
              "      <td>4</td>\n",
              "      <td>5</td>\n",
              "      <td>6</td>\n",
              "      <td>7</td>\n",
              "      <td>6</td>\n",
              "      <td>7</td>\n",
              "      <td>6</td>\n",
              "      <td>3</td>\n",
              "      <td>7</td>\n",
              "      <td>5</td>\n",
              "      <td>1</td>\n",
              "      <td>1</td>\n",
              "      <td>1</td>\n",
              "      <td>14</td>\n",
              "      <td>1</td>\n",
              "      <td>4.333333</td>\n",
              "      <td>youth</td>\n",
              "      <td>1</td>\n",
              "      <td>0</td>\n",
              "      <td>1</td>\n",
              "      <td>0</td>\n",
              "      <td>0</td>\n",
              "      <td>1</td>\n",
              "      <td>0</td>\n",
              "      <td>1</td>\n",
              "      <td>0</td>\n",
              "      <td>1</td>\n",
              "      <td>0</td>\n",
              "      <td>0</td>\n",
              "      <td>1</td>\n",
              "      <td>0</td>\n",
              "      <td>0</td>\n",
              "      <td>0</td>\n",
              "      <td>0</td>\n",
              "      <td>0</td>\n",
              "      <td>0</td>\n",
              "      <td>0</td>\n",
              "      <td>0</td>\n",
              "      <td>0</td>\n",
              "      <td>0</td>\n",
              "      <td>0</td>\n",
              "      <td>0</td>\n",
              "      <td>1</td>\n",
              "      <td>0</td>\n",
              "      <td>0</td>\n",
              "      <td>0</td>\n",
              "      <td>0</td>\n",
              "      <td>0</td>\n",
              "      <td>0</td>\n",
              "      <td>1</td>\n",
              "      <td>0</td>\n",
              "      <td>0</td>\n",
              "      <td>1</td>\n",
              "      <td>1</td>\n",
              "      <td>0</td>\n",
              "      <td>0</td>\n",
              "    </tr>\n",
              "    <tr>\n",
              "      <th>1</th>\n",
              "      <td>5</td>\n",
              "      <td>4</td>\n",
              "      <td>1</td>\n",
              "      <td>2</td>\n",
              "      <td>4</td>\n",
              "      <td>5</td>\n",
              "      <td>4</td>\n",
              "      <td>1</td>\n",
              "      <td>4</td>\n",
              "      <td>5</td>\n",
              "      <td>5</td>\n",
              "      <td>5</td>\n",
              "      <td>1</td>\n",
              "      <td>4</td>\n",
              "      <td>5</td>\n",
              "      <td>6</td>\n",
              "      <td>7</td>\n",
              "      <td>7</td>\n",
              "      <td>5</td>\n",
              "      <td>7</td>\n",
              "      <td>6</td>\n",
              "      <td>5</td>\n",
              "      <td>1</td>\n",
              "      <td>5</td>\n",
              "      <td>1</td>\n",
              "      <td>3</td>\n",
              "      <td>25</td>\n",
              "      <td>3</td>\n",
              "      <td>3.666667</td>\n",
              "      <td>adult</td>\n",
              "      <td>3</td>\n",
              "      <td>1</td>\n",
              "      <td>0</td>\n",
              "      <td>0</td>\n",
              "      <td>1</td>\n",
              "      <td>0</td>\n",
              "      <td>0</td>\n",
              "      <td>1</td>\n",
              "      <td>0</td>\n",
              "      <td>1</td>\n",
              "      <td>0</td>\n",
              "      <td>0</td>\n",
              "      <td>0</td>\n",
              "      <td>0</td>\n",
              "      <td>0</td>\n",
              "      <td>0</td>\n",
              "      <td>0</td>\n",
              "      <td>0</td>\n",
              "      <td>0</td>\n",
              "      <td>0</td>\n",
              "      <td>0</td>\n",
              "      <td>0</td>\n",
              "      <td>0</td>\n",
              "      <td>1</td>\n",
              "      <td>1</td>\n",
              "      <td>0</td>\n",
              "      <td>0</td>\n",
              "      <td>0</td>\n",
              "      <td>0</td>\n",
              "      <td>0</td>\n",
              "      <td>0</td>\n",
              "      <td>0</td>\n",
              "      <td>1</td>\n",
              "      <td>0</td>\n",
              "      <td>1</td>\n",
              "      <td>0</td>\n",
              "      <td>1</td>\n",
              "      <td>0</td>\n",
              "      <td>0</td>\n",
              "    </tr>\n",
              "    <tr>\n",
              "      <th>2</th>\n",
              "      <td>5</td>\n",
              "      <td>4</td>\n",
              "      <td>1</td>\n",
              "      <td>4</td>\n",
              "      <td>4</td>\n",
              "      <td>5</td>\n",
              "      <td>4</td>\n",
              "      <td>3</td>\n",
              "      <td>1</td>\n",
              "      <td>5</td>\n",
              "      <td>5</td>\n",
              "      <td>5</td>\n",
              "      <td>3</td>\n",
              "      <td>5</td>\n",
              "      <td>5</td>\n",
              "      <td>1</td>\n",
              "      <td>3</td>\n",
              "      <td>7</td>\n",
              "      <td>2</td>\n",
              "      <td>6</td>\n",
              "      <td>4</td>\n",
              "      <td>5</td>\n",
              "      <td>5</td>\n",
              "      <td>5</td>\n",
              "      <td>3</td>\n",
              "      <td>2</td>\n",
              "      <td>37</td>\n",
              "      <td>2</td>\n",
              "      <td>3.933333</td>\n",
              "      <td>middle</td>\n",
              "      <td>2</td>\n",
              "      <td>0</td>\n",
              "      <td>1</td>\n",
              "      <td>0</td>\n",
              "      <td>1</td>\n",
              "      <td>0</td>\n",
              "      <td>0</td>\n",
              "      <td>1</td>\n",
              "      <td>0</td>\n",
              "      <td>1</td>\n",
              "      <td>0</td>\n",
              "      <td>0</td>\n",
              "      <td>0</td>\n",
              "      <td>1</td>\n",
              "      <td>0</td>\n",
              "      <td>0</td>\n",
              "      <td>0</td>\n",
              "      <td>0</td>\n",
              "      <td>0</td>\n",
              "      <td>0</td>\n",
              "      <td>0</td>\n",
              "      <td>0</td>\n",
              "      <td>0</td>\n",
              "      <td>0</td>\n",
              "      <td>0</td>\n",
              "      <td>1</td>\n",
              "      <td>0</td>\n",
              "      <td>0</td>\n",
              "      <td>0</td>\n",
              "      <td>0</td>\n",
              "      <td>0</td>\n",
              "      <td>0</td>\n",
              "      <td>1</td>\n",
              "      <td>0</td>\n",
              "      <td>0</td>\n",
              "      <td>1</td>\n",
              "      <td>0</td>\n",
              "      <td>1</td>\n",
              "      <td>0</td>\n",
              "    </tr>\n",
              "    <tr>\n",
              "      <th>3</th>\n",
              "      <td>1</td>\n",
              "      <td>1</td>\n",
              "      <td>1</td>\n",
              "      <td>1</td>\n",
              "      <td>1</td>\n",
              "      <td>1</td>\n",
              "      <td>1</td>\n",
              "      <td>1</td>\n",
              "      <td>1</td>\n",
              "      <td>1</td>\n",
              "      <td>1</td>\n",
              "      <td>1</td>\n",
              "      <td>1</td>\n",
              "      <td>1</td>\n",
              "      <td>1</td>\n",
              "      <td>4</td>\n",
              "      <td>2</td>\n",
              "      <td>6</td>\n",
              "      <td>2</td>\n",
              "      <td>6</td>\n",
              "      <td>5</td>\n",
              "      <td>6</td>\n",
              "      <td>3</td>\n",
              "      <td>6</td>\n",
              "      <td>2</td>\n",
              "      <td>3</td>\n",
              "      <td>34</td>\n",
              "      <td>2</td>\n",
              "      <td>1.000000</td>\n",
              "      <td>adult</td>\n",
              "      <td>2</td>\n",
              "      <td>1</td>\n",
              "      <td>0</td>\n",
              "      <td>0</td>\n",
              "      <td>1</td>\n",
              "      <td>0</td>\n",
              "      <td>0</td>\n",
              "      <td>1</td>\n",
              "      <td>0</td>\n",
              "      <td>1</td>\n",
              "      <td>0</td>\n",
              "      <td>0</td>\n",
              "      <td>0</td>\n",
              "      <td>0</td>\n",
              "      <td>0</td>\n",
              "      <td>0</td>\n",
              "      <td>0</td>\n",
              "      <td>0</td>\n",
              "      <td>1</td>\n",
              "      <td>0</td>\n",
              "      <td>0</td>\n",
              "      <td>0</td>\n",
              "      <td>0</td>\n",
              "      <td>0</td>\n",
              "      <td>1</td>\n",
              "      <td>0</td>\n",
              "      <td>0</td>\n",
              "      <td>0</td>\n",
              "      <td>0</td>\n",
              "      <td>0</td>\n",
              "      <td>0</td>\n",
              "      <td>0</td>\n",
              "      <td>1</td>\n",
              "      <td>0</td>\n",
              "      <td>1</td>\n",
              "      <td>0</td>\n",
              "      <td>0</td>\n",
              "      <td>1</td>\n",
              "      <td>0</td>\n",
              "    </tr>\n",
              "    <tr>\n",
              "      <th>4</th>\n",
              "      <td>4</td>\n",
              "      <td>3</td>\n",
              "      <td>3</td>\n",
              "      <td>3</td>\n",
              "      <td>4</td>\n",
              "      <td>3</td>\n",
              "      <td>3</td>\n",
              "      <td>4</td>\n",
              "      <td>2</td>\n",
              "      <td>3</td>\n",
              "      <td>3</td>\n",
              "      <td>2</td>\n",
              "      <td>2</td>\n",
              "      <td>3</td>\n",
              "      <td>4</td>\n",
              "      <td>2</td>\n",
              "      <td>5</td>\n",
              "      <td>4</td>\n",
              "      <td>2</td>\n",
              "      <td>5</td>\n",
              "      <td>6</td>\n",
              "      <td>2</td>\n",
              "      <td>3</td>\n",
              "      <td>5</td>\n",
              "      <td>5</td>\n",
              "      <td>2</td>\n",
              "      <td>17</td>\n",
              "      <td>2</td>\n",
              "      <td>3.066667</td>\n",
              "      <td>youth</td>\n",
              "      <td>2</td>\n",
              "      <td>0</td>\n",
              "      <td>1</td>\n",
              "      <td>0</td>\n",
              "      <td>1</td>\n",
              "      <td>0</td>\n",
              "      <td>0</td>\n",
              "      <td>1</td>\n",
              "      <td>0</td>\n",
              "      <td>1</td>\n",
              "      <td>0</td>\n",
              "      <td>0</td>\n",
              "      <td>1</td>\n",
              "      <td>0</td>\n",
              "      <td>0</td>\n",
              "      <td>0</td>\n",
              "      <td>0</td>\n",
              "      <td>0</td>\n",
              "      <td>0</td>\n",
              "      <td>0</td>\n",
              "      <td>0</td>\n",
              "      <td>0</td>\n",
              "      <td>0</td>\n",
              "      <td>0</td>\n",
              "      <td>1</td>\n",
              "      <td>0</td>\n",
              "      <td>0</td>\n",
              "      <td>0</td>\n",
              "      <td>0</td>\n",
              "      <td>0</td>\n",
              "      <td>0</td>\n",
              "      <td>0</td>\n",
              "      <td>1</td>\n",
              "      <td>0</td>\n",
              "      <td>0</td>\n",
              "      <td>1</td>\n",
              "      <td>1</td>\n",
              "      <td>0</td>\n",
              "      <td>0</td>\n",
              "    </tr>\n",
              "    <tr>\n",
              "      <th>...</th>\n",
              "      <td>...</td>\n",
              "      <td>...</td>\n",
              "      <td>...</td>\n",
              "      <td>...</td>\n",
              "      <td>...</td>\n",
              "      <td>...</td>\n",
              "      <td>...</td>\n",
              "      <td>...</td>\n",
              "      <td>...</td>\n",
              "      <td>...</td>\n",
              "      <td>...</td>\n",
              "      <td>...</td>\n",
              "      <td>...</td>\n",
              "      <td>...</td>\n",
              "      <td>...</td>\n",
              "      <td>...</td>\n",
              "      <td>...</td>\n",
              "      <td>...</td>\n",
              "      <td>...</td>\n",
              "      <td>...</td>\n",
              "      <td>...</td>\n",
              "      <td>...</td>\n",
              "      <td>...</td>\n",
              "      <td>...</td>\n",
              "      <td>...</td>\n",
              "      <td>...</td>\n",
              "      <td>...</td>\n",
              "      <td>...</td>\n",
              "      <td>...</td>\n",
              "      <td>...</td>\n",
              "      <td>...</td>\n",
              "      <td>...</td>\n",
              "      <td>...</td>\n",
              "      <td>...</td>\n",
              "      <td>...</td>\n",
              "      <td>...</td>\n",
              "      <td>...</td>\n",
              "      <td>...</td>\n",
              "      <td>...</td>\n",
              "      <td>...</td>\n",
              "      <td>...</td>\n",
              "      <td>...</td>\n",
              "      <td>...</td>\n",
              "      <td>...</td>\n",
              "      <td>...</td>\n",
              "      <td>...</td>\n",
              "      <td>...</td>\n",
              "      <td>...</td>\n",
              "      <td>...</td>\n",
              "      <td>...</td>\n",
              "      <td>...</td>\n",
              "      <td>...</td>\n",
              "      <td>...</td>\n",
              "      <td>...</td>\n",
              "      <td>...</td>\n",
              "      <td>...</td>\n",
              "      <td>...</td>\n",
              "      <td>...</td>\n",
              "      <td>...</td>\n",
              "      <td>...</td>\n",
              "      <td>...</td>\n",
              "      <td>...</td>\n",
              "      <td>...</td>\n",
              "      <td>...</td>\n",
              "      <td>...</td>\n",
              "      <td>...</td>\n",
              "      <td>...</td>\n",
              "      <td>...</td>\n",
              "      <td>...</td>\n",
              "    </tr>\n",
              "    <tr>\n",
              "      <th>2170</th>\n",
              "      <td>5</td>\n",
              "      <td>5</td>\n",
              "      <td>1</td>\n",
              "      <td>1</td>\n",
              "      <td>5</td>\n",
              "      <td>5</td>\n",
              "      <td>3</td>\n",
              "      <td>5</td>\n",
              "      <td>1</td>\n",
              "      <td>1</td>\n",
              "      <td>5</td>\n",
              "      <td>3</td>\n",
              "      <td>1</td>\n",
              "      <td>5</td>\n",
              "      <td>5</td>\n",
              "      <td>7</td>\n",
              "      <td>1</td>\n",
              "      <td>6</td>\n",
              "      <td>1</td>\n",
              "      <td>7</td>\n",
              "      <td>1</td>\n",
              "      <td>6</td>\n",
              "      <td>3</td>\n",
              "      <td>6</td>\n",
              "      <td>2</td>\n",
              "      <td>2</td>\n",
              "      <td>42</td>\n",
              "      <td>2</td>\n",
              "      <td>3.400000</td>\n",
              "      <td>middle</td>\n",
              "      <td>2</td>\n",
              "      <td>0</td>\n",
              "      <td>1</td>\n",
              "      <td>0</td>\n",
              "      <td>0</td>\n",
              "      <td>1</td>\n",
              "      <td>0</td>\n",
              "      <td>1</td>\n",
              "      <td>0</td>\n",
              "      <td>1</td>\n",
              "      <td>0</td>\n",
              "      <td>0</td>\n",
              "      <td>0</td>\n",
              "      <td>0</td>\n",
              "      <td>0</td>\n",
              "      <td>0</td>\n",
              "      <td>0</td>\n",
              "      <td>0</td>\n",
              "      <td>1</td>\n",
              "      <td>0</td>\n",
              "      <td>0</td>\n",
              "      <td>0</td>\n",
              "      <td>0</td>\n",
              "      <td>0</td>\n",
              "      <td>0</td>\n",
              "      <td>1</td>\n",
              "      <td>0</td>\n",
              "      <td>0</td>\n",
              "      <td>0</td>\n",
              "      <td>0</td>\n",
              "      <td>0</td>\n",
              "      <td>0</td>\n",
              "      <td>1</td>\n",
              "      <td>0</td>\n",
              "      <td>0</td>\n",
              "      <td>1</td>\n",
              "      <td>0</td>\n",
              "      <td>1</td>\n",
              "      <td>0</td>\n",
              "    </tr>\n",
              "    <tr>\n",
              "      <th>2171</th>\n",
              "      <td>5</td>\n",
              "      <td>2</td>\n",
              "      <td>2</td>\n",
              "      <td>2</td>\n",
              "      <td>4</td>\n",
              "      <td>4</td>\n",
              "      <td>2</td>\n",
              "      <td>2</td>\n",
              "      <td>1</td>\n",
              "      <td>4</td>\n",
              "      <td>5</td>\n",
              "      <td>4</td>\n",
              "      <td>2</td>\n",
              "      <td>2</td>\n",
              "      <td>5</td>\n",
              "      <td>3</td>\n",
              "      <td>5</td>\n",
              "      <td>5</td>\n",
              "      <td>3</td>\n",
              "      <td>7</td>\n",
              "      <td>5</td>\n",
              "      <td>5</td>\n",
              "      <td>5</td>\n",
              "      <td>3</td>\n",
              "      <td>1</td>\n",
              "      <td>3</td>\n",
              "      <td>32</td>\n",
              "      <td>3</td>\n",
              "      <td>3.066667</td>\n",
              "      <td>adult</td>\n",
              "      <td>3</td>\n",
              "      <td>0</td>\n",
              "      <td>0</td>\n",
              "      <td>1</td>\n",
              "      <td>1</td>\n",
              "      <td>0</td>\n",
              "      <td>0</td>\n",
              "      <td>1</td>\n",
              "      <td>0</td>\n",
              "      <td>1</td>\n",
              "      <td>0</td>\n",
              "      <td>0</td>\n",
              "      <td>0</td>\n",
              "      <td>1</td>\n",
              "      <td>0</td>\n",
              "      <td>0</td>\n",
              "      <td>0</td>\n",
              "      <td>0</td>\n",
              "      <td>0</td>\n",
              "      <td>0</td>\n",
              "      <td>0</td>\n",
              "      <td>0</td>\n",
              "      <td>0</td>\n",
              "      <td>0</td>\n",
              "      <td>1</td>\n",
              "      <td>0</td>\n",
              "      <td>0</td>\n",
              "      <td>0</td>\n",
              "      <td>0</td>\n",
              "      <td>0</td>\n",
              "      <td>0</td>\n",
              "      <td>0</td>\n",
              "      <td>1</td>\n",
              "      <td>0</td>\n",
              "      <td>0</td>\n",
              "      <td>1</td>\n",
              "      <td>1</td>\n",
              "      <td>0</td>\n",
              "      <td>0</td>\n",
              "    </tr>\n",
              "    <tr>\n",
              "      <th>2172</th>\n",
              "      <td>1</td>\n",
              "      <td>1</td>\n",
              "      <td>1</td>\n",
              "      <td>1</td>\n",
              "      <td>1</td>\n",
              "      <td>3</td>\n",
              "      <td>1</td>\n",
              "      <td>1</td>\n",
              "      <td>1</td>\n",
              "      <td>1</td>\n",
              "      <td>2</td>\n",
              "      <td>1</td>\n",
              "      <td>1</td>\n",
              "      <td>1</td>\n",
              "      <td>3</td>\n",
              "      <td>5</td>\n",
              "      <td>5</td>\n",
              "      <td>6</td>\n",
              "      <td>7</td>\n",
              "      <td>6</td>\n",
              "      <td>3</td>\n",
              "      <td>5</td>\n",
              "      <td>2</td>\n",
              "      <td>3</td>\n",
              "      <td>2</td>\n",
              "      <td>4</td>\n",
              "      <td>25</td>\n",
              "      <td>2</td>\n",
              "      <td>1.333333</td>\n",
              "      <td>adult</td>\n",
              "      <td>2</td>\n",
              "      <td>0</td>\n",
              "      <td>1</td>\n",
              "      <td>0</td>\n",
              "      <td>0</td>\n",
              "      <td>1</td>\n",
              "      <td>0</td>\n",
              "      <td>0</td>\n",
              "      <td>1</td>\n",
              "      <td>0</td>\n",
              "      <td>1</td>\n",
              "      <td>0</td>\n",
              "      <td>0</td>\n",
              "      <td>1</td>\n",
              "      <td>0</td>\n",
              "      <td>0</td>\n",
              "      <td>0</td>\n",
              "      <td>0</td>\n",
              "      <td>0</td>\n",
              "      <td>0</td>\n",
              "      <td>0</td>\n",
              "      <td>0</td>\n",
              "      <td>0</td>\n",
              "      <td>0</td>\n",
              "      <td>1</td>\n",
              "      <td>0</td>\n",
              "      <td>0</td>\n",
              "      <td>0</td>\n",
              "      <td>0</td>\n",
              "      <td>0</td>\n",
              "      <td>0</td>\n",
              "      <td>0</td>\n",
              "      <td>1</td>\n",
              "      <td>0</td>\n",
              "      <td>1</td>\n",
              "      <td>0</td>\n",
              "      <td>1</td>\n",
              "      <td>0</td>\n",
              "      <td>0</td>\n",
              "    </tr>\n",
              "    <tr>\n",
              "      <th>2173</th>\n",
              "      <td>2</td>\n",
              "      <td>1</td>\n",
              "      <td>4</td>\n",
              "      <td>1</td>\n",
              "      <td>1</td>\n",
              "      <td>1</td>\n",
              "      <td>1</td>\n",
              "      <td>3</td>\n",
              "      <td>1</td>\n",
              "      <td>2</td>\n",
              "      <td>1</td>\n",
              "      <td>1</td>\n",
              "      <td>1</td>\n",
              "      <td>1</td>\n",
              "      <td>4</td>\n",
              "      <td>1</td>\n",
              "      <td>6</td>\n",
              "      <td>7</td>\n",
              "      <td>1</td>\n",
              "      <td>7</td>\n",
              "      <td>7</td>\n",
              "      <td>3</td>\n",
              "      <td>3</td>\n",
              "      <td>7</td>\n",
              "      <td>2</td>\n",
              "      <td>2</td>\n",
              "      <td>19</td>\n",
              "      <td>2</td>\n",
              "      <td>1.666667</td>\n",
              "      <td>young adult</td>\n",
              "      <td>2</td>\n",
              "      <td>0</td>\n",
              "      <td>1</td>\n",
              "      <td>0</td>\n",
              "      <td>1</td>\n",
              "      <td>0</td>\n",
              "      <td>0</td>\n",
              "      <td>0</td>\n",
              "      <td>1</td>\n",
              "      <td>1</td>\n",
              "      <td>0</td>\n",
              "      <td>0</td>\n",
              "      <td>1</td>\n",
              "      <td>0</td>\n",
              "      <td>0</td>\n",
              "      <td>0</td>\n",
              "      <td>0</td>\n",
              "      <td>0</td>\n",
              "      <td>0</td>\n",
              "      <td>0</td>\n",
              "      <td>0</td>\n",
              "      <td>0</td>\n",
              "      <td>0</td>\n",
              "      <td>0</td>\n",
              "      <td>1</td>\n",
              "      <td>0</td>\n",
              "      <td>0</td>\n",
              "      <td>0</td>\n",
              "      <td>0</td>\n",
              "      <td>0</td>\n",
              "      <td>0</td>\n",
              "      <td>0</td>\n",
              "      <td>1</td>\n",
              "      <td>0</td>\n",
              "      <td>1</td>\n",
              "      <td>0</td>\n",
              "      <td>1</td>\n",
              "      <td>0</td>\n",
              "      <td>0</td>\n",
              "    </tr>\n",
              "    <tr>\n",
              "      <th>2174</th>\n",
              "      <td>4</td>\n",
              "      <td>4</td>\n",
              "      <td>5</td>\n",
              "      <td>4</td>\n",
              "      <td>4</td>\n",
              "      <td>4</td>\n",
              "      <td>4</td>\n",
              "      <td>5</td>\n",
              "      <td>2</td>\n",
              "      <td>2</td>\n",
              "      <td>3</td>\n",
              "      <td>3</td>\n",
              "      <td>2</td>\n",
              "      <td>2</td>\n",
              "      <td>3</td>\n",
              "      <td>2</td>\n",
              "      <td>3</td>\n",
              "      <td>5</td>\n",
              "      <td>6</td>\n",
              "      <td>3</td>\n",
              "      <td>7</td>\n",
              "      <td>6</td>\n",
              "      <td>3</td>\n",
              "      <td>5</td>\n",
              "      <td>4</td>\n",
              "      <td>1</td>\n",
              "      <td>16</td>\n",
              "      <td>1</td>\n",
              "      <td>3.400000</td>\n",
              "      <td>youth</td>\n",
              "      <td>1</td>\n",
              "      <td>0</td>\n",
              "      <td>0</td>\n",
              "      <td>1</td>\n",
              "      <td>0</td>\n",
              "      <td>1</td>\n",
              "      <td>0</td>\n",
              "      <td>0</td>\n",
              "      <td>1</td>\n",
              "      <td>1</td>\n",
              "      <td>0</td>\n",
              "      <td>0</td>\n",
              "      <td>0</td>\n",
              "      <td>0</td>\n",
              "      <td>0</td>\n",
              "      <td>0</td>\n",
              "      <td>0</td>\n",
              "      <td>0</td>\n",
              "      <td>0</td>\n",
              "      <td>0</td>\n",
              "      <td>0</td>\n",
              "      <td>0</td>\n",
              "      <td>0</td>\n",
              "      <td>1</td>\n",
              "      <td>0</td>\n",
              "      <td>0</td>\n",
              "      <td>1</td>\n",
              "      <td>0</td>\n",
              "      <td>0</td>\n",
              "      <td>0</td>\n",
              "      <td>0</td>\n",
              "      <td>0</td>\n",
              "      <td>1</td>\n",
              "      <td>0</td>\n",
              "      <td>0</td>\n",
              "      <td>1</td>\n",
              "      <td>1</td>\n",
              "      <td>0</td>\n",
              "      <td>0</td>\n",
              "    </tr>\n",
              "  </tbody>\n",
              "</table>\n",
              "<p>2175 rows × 69 columns</p>\n",
              "</div>"
            ],
            "text/plain": [
              "      Q1  Q2  Q3  Q4  Q5  ...  voted_1  voted_2  married_1  married_2  married_3\n",
              "0      5   5   5   5   5  ...        0        1          1          0          0\n",
              "1      5   4   1   2   4  ...        1        0          1          0          0\n",
              "2      5   4   1   4   4  ...        0        1          0          1          0\n",
              "3      1   1   1   1   1  ...        1        0          0          1          0\n",
              "4      4   3   3   3   4  ...        0        1          1          0          0\n",
              "...   ..  ..  ..  ..  ..  ...      ...      ...        ...        ...        ...\n",
              "2170   5   5   1   1   5  ...        0        1          0          1          0\n",
              "2171   5   2   2   2   4  ...        0        1          1          0          0\n",
              "2172   1   1   1   1   1  ...        1        0          1          0          0\n",
              "2173   2   1   4   1   1  ...        1        0          1          0          0\n",
              "2174   4   4   5   4   4  ...        0        1          1          0          0\n",
              "\n",
              "[2175 rows x 69 columns]"
            ]
          },
          "metadata": {},
          "execution_count": 64
        }
      ]
    },
    {
      "cell_type": "markdown",
      "metadata": {
        "id": "hj0XwGSrLJRj"
      },
      "source": [
        "Let's split the data into training and testing datasets (with ratio of proportions 4:1)."
      ]
    },
    {
      "cell_type": "code",
      "metadata": {
        "id": "w9Z9SvnH1TQL"
      },
      "source": [
        "def deminfo_train_test_split():\n",
        "  X_deminfo = pd.concat([df_new_3[['education','age','familysize']], df_new_3.loc[:,'urban_1':'married_3']], axis=1)\n",
        "  Y = df_new_3['mean_score']\n",
        "\n",
        "  X_deminfo_train, X_deminfo_test, Y_train, Y_test = model_selection.train_test_split(X_deminfo, Y, test_size = .20, random_state = 42)\n",
        "\n",
        "  return X_deminfo_train, Y_train, X_deminfo_test, Y_test\n"
      ],
      "execution_count": 65,
      "outputs": []
    },
    {
      "cell_type": "markdown",
      "metadata": {
        "id": "aX6lhu7ZOF67"
      },
      "source": [
        "Then, fit a linear regression model on the training dataset."
      ]
    },
    {
      "cell_type": "code",
      "metadata": {
        "colab": {
          "base_uri": "https://localhost:8080/"
        },
        "id": "clkwqv9NOV6g",
        "outputId": "ec80cef0-ab02-4783-e133-2a76d82e0b52"
      },
      "source": [
        "x = deminfo_train_test_split()[0]\n",
        "y = deminfo_train_test_split()[1]\n",
        "print(x)\n",
        "print(y)\n",
        "mod2 = fit_lr(x, y)"
      ],
      "execution_count": 66,
      "outputs": [
        {
          "output_type": "stream",
          "name": "stdout",
          "text": [
            "      education  age  familysize  ...  married_1  married_2  married_3\n",
            "256           2   43           2  ...          0          1          0\n",
            "2134          2   19           4  ...          1          0          0\n",
            "556           3   48           2  ...          0          1          0\n",
            "1163          2   17           3  ...          1          0          0\n",
            "2017          2   17           3  ...          1          0          0\n",
            "...         ...  ...         ...  ...        ...        ...        ...\n",
            "1638          2   37           2  ...          1          0          0\n",
            "1095          2   23           3  ...          1          0          0\n",
            "1130          3   21           5  ...          1          0          0\n",
            "1294          1   21           5  ...          1          0          0\n",
            "860           4   40           2  ...          1          0          0\n",
            "\n",
            "[1740 rows x 41 columns]\n",
            "256     2.133333\n",
            "2134    2.066667\n",
            "556     4.600000\n",
            "1163    4.066667\n",
            "2017    3.666667\n",
            "          ...   \n",
            "1638    5.000000\n",
            "1095    3.800000\n",
            "1130    4.733333\n",
            "1294    4.200000\n",
            "860     3.600000\n",
            "Name: mean_score, Length: 1740, dtype: float64\n",
            "slopes:  [-0.11312702  0.00501477  0.06419346  0.02138923 -0.09413094  0.07274172\n",
            " -0.08322958  0.06710655  0.01612303  0.0205645  -0.0205645  -0.10627265\n",
            "  0.01332154  0.09295111 -0.02246397 -0.39091367  0.27130944 -0.07016011\n",
            " -0.06203628 -0.10453346  0.25879282  0.03935698 -0.61570834  0.07593806\n",
            "  0.08735034  0.53306819  0.02803008 -0.08480501  0.06297601 -0.29189234\n",
            "  0.28569126 -0.03603753 -0.10445134  0.29707946 -0.14102457 -0.01556602\n",
            " -0.06923902  0.06923902 -0.02739643  0.01387338  0.01352305] intercept:  3.0975602475483965\n"
          ]
        }
      ]
    },
    {
      "cell_type": "markdown",
      "metadata": {
        "id": "freSJVMfPgwh"
      },
      "source": [
        "Let's evaluate the performance of the model using r^2.\n",
        "\n",
        "On the training dataset:"
      ]
    },
    {
      "cell_type": "code",
      "metadata": {
        "colab": {
          "base_uri": "https://localhost:8080/"
        },
        "id": "GiNxKpdNOG0-",
        "outputId": "4549b28e-d051-4f44-c4b4-49ac2c7b764d"
      },
      "source": [
        "mod2.score(x, y)"
      ],
      "execution_count": 67,
      "outputs": [
        {
          "output_type": "execute_result",
          "data": {
            "text/plain": [
              "0.14998350876134126"
            ]
          },
          "metadata": {},
          "execution_count": 67
        }
      ]
    },
    {
      "cell_type": "markdown",
      "metadata": {
        "id": "OtbhnVCOPqJs"
      },
      "source": [
        "On the testing dataset:"
      ]
    },
    {
      "cell_type": "code",
      "metadata": {
        "colab": {
          "base_uri": "https://localhost:8080/"
        },
        "id": "UYSrnf4sPtvb",
        "outputId": "7179788b-6304-4231-c749-ba567f649148"
      },
      "source": [
        "mod2.score(deminfo_train_test_split()[2], deminfo_train_test_split()[3])"
      ],
      "execution_count": 68,
      "outputs": [
        {
          "output_type": "execute_result",
          "data": {
            "text/plain": [
              "0.06360715163647257"
            ]
          },
          "metadata": {},
          "execution_count": 68
        }
      ]
    },
    {
      "cell_type": "markdown",
      "metadata": {
        "id": "-fy_JO7sP3kj"
      },
      "source": [
        "R^2 is better than that of the model using TIPI items as independent variables. Note that in psychology, it is very common to have r^2 lower than 0.5. \n",
        "\n",
        "Let's make a table for the independent variables and their associated coefficients estimated from the regression."
      ]
    },
    {
      "cell_type": "code",
      "metadata": {
        "colab": {
          "base_uri": "https://localhost:8080/",
          "height": 1000
        },
        "id": "-WoZPaa5Hoe-",
        "outputId": "aa4f4374-7e1f-4906-f4e5-c82a89b0410e"
      },
      "source": [
        "feature_names = mod2.feature_names_in_\n",
        "\n",
        "coefs = pd.DataFrame(\n",
        "    mod2.coef_,\n",
        "    index = feature_names,\n",
        "    columns=['Coefficient']\n",
        ")\n",
        "coefs"
      ],
      "execution_count": 69,
      "outputs": [
        {
          "output_type": "execute_result",
          "data": {
            "text/html": [
              "<div>\n",
              "<style scoped>\n",
              "    .dataframe tbody tr th:only-of-type {\n",
              "        vertical-align: middle;\n",
              "    }\n",
              "\n",
              "    .dataframe tbody tr th {\n",
              "        vertical-align: top;\n",
              "    }\n",
              "\n",
              "    .dataframe thead th {\n",
              "        text-align: right;\n",
              "    }\n",
              "</style>\n",
              "<table border=\"1\" class=\"dataframe\">\n",
              "  <thead>\n",
              "    <tr style=\"text-align: right;\">\n",
              "      <th></th>\n",
              "      <th>Coefficient</th>\n",
              "    </tr>\n",
              "  </thead>\n",
              "  <tbody>\n",
              "    <tr>\n",
              "      <th>education</th>\n",
              "      <td>-0.113127</td>\n",
              "    </tr>\n",
              "    <tr>\n",
              "      <th>age</th>\n",
              "      <td>0.005015</td>\n",
              "    </tr>\n",
              "    <tr>\n",
              "      <th>familysize</th>\n",
              "      <td>0.064193</td>\n",
              "    </tr>\n",
              "    <tr>\n",
              "      <th>urban_1</th>\n",
              "      <td>0.021389</td>\n",
              "    </tr>\n",
              "    <tr>\n",
              "      <th>urban_2</th>\n",
              "      <td>-0.094131</td>\n",
              "    </tr>\n",
              "    <tr>\n",
              "      <th>urban_3</th>\n",
              "      <td>0.072742</td>\n",
              "    </tr>\n",
              "    <tr>\n",
              "      <th>gender_1</th>\n",
              "      <td>-0.083230</td>\n",
              "    </tr>\n",
              "    <tr>\n",
              "      <th>gender_2</th>\n",
              "      <td>0.067107</td>\n",
              "    </tr>\n",
              "    <tr>\n",
              "      <th>gender_3</th>\n",
              "      <td>0.016123</td>\n",
              "    </tr>\n",
              "    <tr>\n",
              "      <th>engnat_1</th>\n",
              "      <td>0.020564</td>\n",
              "    </tr>\n",
              "    <tr>\n",
              "      <th>engnat_2</th>\n",
              "      <td>-0.020564</td>\n",
              "    </tr>\n",
              "    <tr>\n",
              "      <th>hand_1</th>\n",
              "      <td>-0.106273</td>\n",
              "    </tr>\n",
              "    <tr>\n",
              "      <th>hand_2</th>\n",
              "      <td>0.013322</td>\n",
              "    </tr>\n",
              "    <tr>\n",
              "      <th>hand_3</th>\n",
              "      <td>0.092951</td>\n",
              "    </tr>\n",
              "    <tr>\n",
              "      <th>religion_1</th>\n",
              "      <td>-0.022464</td>\n",
              "    </tr>\n",
              "    <tr>\n",
              "      <th>religion_2</th>\n",
              "      <td>-0.390914</td>\n",
              "    </tr>\n",
              "    <tr>\n",
              "      <th>religion_3</th>\n",
              "      <td>0.271309</td>\n",
              "    </tr>\n",
              "    <tr>\n",
              "      <th>religion_4</th>\n",
              "      <td>-0.070160</td>\n",
              "    </tr>\n",
              "    <tr>\n",
              "      <th>religion_5</th>\n",
              "      <td>-0.062036</td>\n",
              "    </tr>\n",
              "    <tr>\n",
              "      <th>religion_6</th>\n",
              "      <td>-0.104533</td>\n",
              "    </tr>\n",
              "    <tr>\n",
              "      <th>religion_7</th>\n",
              "      <td>0.258793</td>\n",
              "    </tr>\n",
              "    <tr>\n",
              "      <th>religion_8</th>\n",
              "      <td>0.039357</td>\n",
              "    </tr>\n",
              "    <tr>\n",
              "      <th>religion_9</th>\n",
              "      <td>-0.615708</td>\n",
              "    </tr>\n",
              "    <tr>\n",
              "      <th>religion_10</th>\n",
              "      <td>0.075938</td>\n",
              "    </tr>\n",
              "    <tr>\n",
              "      <th>religion_11</th>\n",
              "      <td>0.087350</td>\n",
              "    </tr>\n",
              "    <tr>\n",
              "      <th>religion_12</th>\n",
              "      <td>0.533068</td>\n",
              "    </tr>\n",
              "    <tr>\n",
              "      <th>orientation_1</th>\n",
              "      <td>0.028030</td>\n",
              "    </tr>\n",
              "    <tr>\n",
              "      <th>orientation_2</th>\n",
              "      <td>-0.084805</td>\n",
              "    </tr>\n",
              "    <tr>\n",
              "      <th>orientation_3</th>\n",
              "      <td>0.062976</td>\n",
              "    </tr>\n",
              "    <tr>\n",
              "      <th>orientation_4</th>\n",
              "      <td>-0.291892</td>\n",
              "    </tr>\n",
              "    <tr>\n",
              "      <th>orientation_5</th>\n",
              "      <td>0.285691</td>\n",
              "    </tr>\n",
              "    <tr>\n",
              "      <th>race_1</th>\n",
              "      <td>-0.036038</td>\n",
              "    </tr>\n",
              "    <tr>\n",
              "      <th>race_2</th>\n",
              "      <td>-0.104451</td>\n",
              "    </tr>\n",
              "    <tr>\n",
              "      <th>race_3</th>\n",
              "      <td>0.297079</td>\n",
              "    </tr>\n",
              "    <tr>\n",
              "      <th>race_4</th>\n",
              "      <td>-0.141025</td>\n",
              "    </tr>\n",
              "    <tr>\n",
              "      <th>race_5</th>\n",
              "      <td>-0.015566</td>\n",
              "    </tr>\n",
              "    <tr>\n",
              "      <th>voted_1</th>\n",
              "      <td>-0.069239</td>\n",
              "    </tr>\n",
              "    <tr>\n",
              "      <th>voted_2</th>\n",
              "      <td>0.069239</td>\n",
              "    </tr>\n",
              "    <tr>\n",
              "      <th>married_1</th>\n",
              "      <td>-0.027396</td>\n",
              "    </tr>\n",
              "    <tr>\n",
              "      <th>married_2</th>\n",
              "      <td>0.013873</td>\n",
              "    </tr>\n",
              "    <tr>\n",
              "      <th>married_3</th>\n",
              "      <td>0.013523</td>\n",
              "    </tr>\n",
              "  </tbody>\n",
              "</table>\n",
              "</div>"
            ],
            "text/plain": [
              "               Coefficient\n",
              "education        -0.113127\n",
              "age               0.005015\n",
              "familysize        0.064193\n",
              "urban_1           0.021389\n",
              "urban_2          -0.094131\n",
              "urban_3           0.072742\n",
              "gender_1         -0.083230\n",
              "gender_2          0.067107\n",
              "gender_3          0.016123\n",
              "engnat_1          0.020564\n",
              "engnat_2         -0.020564\n",
              "hand_1           -0.106273\n",
              "hand_2            0.013322\n",
              "hand_3            0.092951\n",
              "religion_1       -0.022464\n",
              "religion_2       -0.390914\n",
              "religion_3        0.271309\n",
              "religion_4       -0.070160\n",
              "religion_5       -0.062036\n",
              "religion_6       -0.104533\n",
              "religion_7        0.258793\n",
              "religion_8        0.039357\n",
              "religion_9       -0.615708\n",
              "religion_10       0.075938\n",
              "religion_11       0.087350\n",
              "religion_12       0.533068\n",
              "orientation_1     0.028030\n",
              "orientation_2    -0.084805\n",
              "orientation_3     0.062976\n",
              "orientation_4    -0.291892\n",
              "orientation_5     0.285691\n",
              "race_1           -0.036038\n",
              "race_2           -0.104451\n",
              "race_3            0.297079\n",
              "race_4           -0.141025\n",
              "race_5           -0.015566\n",
              "voted_1          -0.069239\n",
              "voted_2           0.069239\n",
              "married_1        -0.027396\n",
              "married_2         0.013873\n",
              "married_3         0.013523"
            ]
          },
          "metadata": {},
          "execution_count": 69
        }
      ]
    },
    {
      "cell_type": "markdown",
      "metadata": {
        "id": "IzgEC-uuKAnL"
      },
      "source": [
        "Based on the table, variables that bear a high **positive effect** on the mean GCBS score include **Buddist, Christian(other), other religions, other sexual orientations**, and **Black**. Variables that are strongly **negatively correlated** with the mean score are **education level, atheist, Jewish, asexual**, and **Indigenous Australian, Native American or White**.\n",
        "\n",
        "Note that the higher the mean GCBS score, the stronger the general belief in conspiracy theories. "
      ]
    },
    {
      "cell_type": "markdown",
      "metadata": {
        "id": "7W6B9wVXHJYK"
      },
      "source": [
        "Let's try fitting a decision tree to the data. As before, we can tune the maximum depth of a tree using cross validation."
      ]
    },
    {
      "cell_type": "code",
      "metadata": {
        "colab": {
          "base_uri": "https://localhost:8080/"
        },
        "id": "27_5lvZjS2E8",
        "outputId": "6386e933-93f2-4877-df1b-5db8c0fe9ba5"
      },
      "source": [
        "X_deminfo = pd.concat([df_new_3[['education','age','familysize']], df_new_3.loc[:,'urban_1':'married_3']], axis=1)\n",
        "Y = df_new_3['mean_score']\n",
        "print(X_deminfo)\n",
        "print(Y)\n",
        "tune_max_depth(X_deminfo, Y)"
      ],
      "execution_count": 70,
      "outputs": [
        {
          "output_type": "stream",
          "name": "stdout",
          "text": [
            "      education  age  familysize  ...  married_1  married_2  married_3\n",
            "0             1   14           1  ...          1          0          0\n",
            "1             3   25           3  ...          1          0          0\n",
            "2             2   37           2  ...          0          1          0\n",
            "3             3   34           2  ...          0          1          0\n",
            "4             2   17           2  ...          1          0          0\n",
            "...         ...  ...         ...  ...        ...        ...        ...\n",
            "2170          2   42           2  ...          0          1          0\n",
            "2171          3   32           3  ...          1          0          0\n",
            "2172          4   25           2  ...          1          0          0\n",
            "2173          2   19           2  ...          1          0          0\n",
            "2174          1   16           1  ...          1          0          0\n",
            "\n",
            "[2175 rows x 41 columns]\n",
            "0       4.333333\n",
            "1       3.666667\n",
            "2       3.933333\n",
            "3       1.000000\n",
            "4       3.066667\n",
            "          ...   \n",
            "2170    3.400000\n",
            "2171    3.066667\n",
            "2172    1.333333\n",
            "2173    1.666667\n",
            "2174    3.400000\n",
            "Name: mean_score, Length: 2175, dtype: float64\n",
            "[(2, 0.0643688320860597), (3, 0.06018287049217837), (4, 0.06354368907395173), (5, 0.04902985325659197), (6, 0.016927523821638268), (7, -0.038176358972914534), (8, -0.09299785398266062), (9, -0.15764407599721536), (10, -0.21398302291413868), (11, -0.26592837327733754), (12, -0.35179339778123647), (13, -0.41360186680075656), (14, -0.4804340456224218), (15, -0.5397321730811464), (16, -0.5420057849561019), (17, -0.6262050551872322), (18, -0.674422385332468), (19, -0.6886394323334143), (20, -0.7329986523493929), (21, -0.7314428085843502), (22, -0.7496092224011285), (23, -0.7474639384010391), (24, -0.7843158936320341), (25, -0.8028136937876222), (26, -0.7842082524290748), (27, -0.7804509037789513), (28, -0.8011843143019266), (29, -0.794564107367066)]\n"
          ]
        }
      ]
    },
    {
      "cell_type": "markdown",
      "metadata": {
        "id": "03W_pLEtX5W-"
      },
      "source": [
        "Looks like with max_depth=2 or 4, the decision tree obtains the best performance (with highest mean r^2).\n",
        "\n",
        "Let's build a decision tree with max_depth=4 on the training dataset."
      ]
    },
    {
      "cell_type": "code",
      "metadata": {
        "id": "EdTQPNAzUDtO"
      },
      "source": [
        "def fit_tree(x, y):\n",
        "  mod = tree.DecisionTreeRegressor(max_depth=4, random_state=42).fit(x, y)\n",
        "  return mod"
      ],
      "execution_count": 71,
      "outputs": []
    },
    {
      "cell_type": "code",
      "metadata": {
        "id": "ANYi5kuYY85W"
      },
      "source": [
        "mod3 = fit_tree(deminfo_train_test_split()[0], deminfo_train_test_split()[1])"
      ],
      "execution_count": 72,
      "outputs": []
    },
    {
      "cell_type": "markdown",
      "metadata": {
        "id": "hYQUdsywZU1U"
      },
      "source": [
        "Check r^2.\n",
        "On the training dataset:"
      ]
    },
    {
      "cell_type": "code",
      "metadata": {
        "colab": {
          "base_uri": "https://localhost:8080/"
        },
        "id": "Sh5Gkye0ZQkv",
        "outputId": "eec95a6b-f66f-4042-e2ec-b6618571d3c5"
      },
      "source": [
        "mod3.score(deminfo_train_test_split()[0], deminfo_train_test_split()[1])"
      ],
      "execution_count": 73,
      "outputs": [
        {
          "output_type": "execute_result",
          "data": {
            "text/plain": [
              "0.1282836546715974"
            ]
          },
          "metadata": {},
          "execution_count": 73
        }
      ]
    },
    {
      "cell_type": "markdown",
      "metadata": {
        "id": "mjy8StBuZiqF"
      },
      "source": [
        "On the testing dataset:"
      ]
    },
    {
      "cell_type": "code",
      "metadata": {
        "colab": {
          "base_uri": "https://localhost:8080/"
        },
        "id": "YKmSagS0Zmg3",
        "outputId": "af952b8d-658b-4d01-b851-d932e18e553d"
      },
      "source": [
        "mod3.score(deminfo_train_test_split()[2], deminfo_train_test_split()[3])"
      ],
      "execution_count": 74,
      "outputs": [
        {
          "output_type": "execute_result",
          "data": {
            "text/plain": [
              "0.07155147113869798"
            ]
          },
          "metadata": {},
          "execution_count": 74
        }
      ]
    },
    {
      "cell_type": "code",
      "metadata": {
        "colab": {
          "base_uri": "https://localhost:8080/"
        },
        "id": "amZzUvydMn7C",
        "outputId": "37ddec93-f288-48bf-81fb-1cf7d983adb6"
      },
      "source": [
        "mod2.score(deminfo_train_test_split()[2], deminfo_train_test_split()[3])"
      ],
      "execution_count": 75,
      "outputs": [
        {
          "output_type": "execute_result",
          "data": {
            "text/plain": [
              "0.06360715163647257"
            ]
          },
          "metadata": {},
          "execution_count": 75
        }
      ]
    },
    {
      "cell_type": "markdown",
      "metadata": {
        "id": "kyTp-hctBbj9"
      },
      "source": [
        "R^2 for the testing data is higher than that of the linear regression model. \n",
        "\n",
        "Let's plot the tree."
      ]
    },
    {
      "cell_type": "code",
      "metadata": {
        "colab": {
          "base_uri": "https://localhost:8080/",
          "height": 1000
        },
        "id": "TeI9YvEzXGve",
        "outputId": "58100f6b-d2eb-4ace-9d38-802c7fd76ba8"
      },
      "source": [
        "plt.figure(figsize=(30,20))\n",
        "tree.plot_tree(mod3, feature_names=mod3.feature_names_in_, filled=True)\n",
        "plt.show()"
      ],
      "execution_count": 76,
      "outputs": [
        {
          "output_type": "display_data",
          "data": {
            "image/png": "[encoded data removed]",
            "text/plain": [
              "<Figure size 2160x1440 with 1 Axes>"
            ]
          },
          "metadata": {
            "needs_background": "light"
          }
        }
      ]
    },
    {
      "cell_type": "markdown",
      "metadata": {
        "id": "MjdGBOf9joAt"
      },
      "source": [
        "This tree captures abundant information from respondents' demographic information and their mean GCBS scores. For instance, the first split differentiates atheists (with a mean GCBS = 2.518) from other religionists (with a mean GCBS = 3.052), indicating that whether one has religion plays a crucial role in explaining their conspiracy belief tendency. Among respondents with religion, those belonging to a major religious group also have significantly lower mean score (2.954) than those who identify themselves as other religion believers (3.511). Besides, Christians in non-major denominations tend to score higher (with a mean score of 3.259) than other major religious groups (with a mean score of 2.895).\n",
        "\n",
        "Another key factor is education level. Whether one has a graduate degree makes influence on their general belief in conspiracy theories - those with a graduate degree has a mean GCBS score of 2.133 while those without has a mean score of 2.588. The tree is also capable of identifying idiosyncratic features, such as one's hand of writing and gender identification, in affecting their conspiracy beliefs. "
      ]
    },
    {
      "cell_type": "markdown",
      "metadata": {
        "id": "xU_LnOf1w7OD"
      },
      "source": [
        "# Conclusion"
      ]
    },
    {
      "cell_type": "markdown",
      "metadata": {
        "id": "QgUQ92PZxLvq"
      },
      "source": [
        "In conclusion, my analysis of this dataset does not support the hypothesis that conspiracy beliefs and personality traits are correlated. Instead, it is other individual characteristics, most notably one's religious belief and education level, that predict their conspiracy beliefs. Nevertheless, as the literature suggests, there are relationships between cognitive styles and conspiracy beliefs, and massive studies have shown associations of one's religious belief with their cognitive styles (Yilmaz,2021; Baron,2020; Pennycook et al.,2012; Shenhav et al.,2012; Zuckerman et al.,2020). Therefore, a potential extension for future surveys on conspiracy beliefs is to include items measuring cognitive styles, which may provide strong predictive power for conspiracy belief tendency. \n",
        "\n",
        "\n",
        "\n",
        "\n"
      ]
    },
    {
      "cell_type": "markdown",
      "metadata": {
        "id": "hv41ElVE5d0K"
      },
      "source": [
        "\n",
        "---\n",
        "# Submission Guidelines (keep this section here)\n",
        "---\n",
        "\n",
        "\n",
        "When you are ready to submit your project, part of the submission process will be to register your notebook for reviewing.  \n",
        "\n",
        "For each milestone, you will submit an updated version of your project notebook (this notebook) with that milestone’s requirements. Your project notebook ID and URL should be the same.\n",
        "\n",
        "You will also receive the links and instructions to do the peer reviews.\n",
        "\n",
        "**Submission for Milestone0:**\n",
        "1. Save a copy of this notebook in your Google drive\n",
        "3. Share the Noetbook and place the Notebook ID in the first code cell\n",
        "4. Download as \"DMAP_FA21_Final_Project_MS0.ipynb\"\n",
        "5. Submit this in Moodle\n"
      ]
    }
  ]
}